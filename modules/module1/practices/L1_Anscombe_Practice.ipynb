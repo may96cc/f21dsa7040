{
 "cells": [
  {
   "cell_type": "markdown",
   "metadata": {},
   "source": [
    "# Module 1 Practice: Anscombe's Quartet\n",
    "\n",
    "In this practice, we will recreate the Anscombe's Quartet visualization using ggplot2 functionality. Following is the statistics and the graphics we have seen in the lab notebook."
   ]
  },
  {
   "cell_type": "markdown",
   "metadata": {},
   "source": [
    "\n",
    "<img src=\"../images/AnscombeStats.png\">\n",
    "\n",
    "<img src=\"../images/AnscombeGraph.png\">\n",
    "\n",
    "We will use the **`ggplot2`** library which has many useful functions to create nice plots and graphics. We will also use some other libraries to help with the layout. "
   ]
  },
  {
   "cell_type": "code",
   "execution_count": null,
   "metadata": {},
   "outputs": [],
   "source": [
    "library(ggplot2)\n",
    "library(gridExtra)\n",
    "\n",
    "# First, call the data set to the workspace and display it (like in the lab notebook)\n",
    "\n",
    "# YOUR CODE HERE #"
   ]
  },
  {
   "cell_type": "code",
   "execution_count": null,
   "metadata": {},
   "outputs": [],
   "source": [
    "# display summary statistics here \n",
    "# YOUR CODE HERE #"
   ]
  },
  {
   "cell_type": "code",
   "execution_count": null,
   "metadata": {},
   "outputs": [],
   "source": [
    "# Let's compute the correlation\n",
    "sapply(1:4, function(x) cor(anscombe[, x], anscombe[, x+4]))"
   ]
  },
  {
   "cell_type": "code",
   "execution_count": null,
   "metadata": {},
   "outputs": [],
   "source": [
    "# and compute variance\n",
    "sapply(5:8, function(x) var(anscombe[, x]))"
   ]
  },
  {
   "cell_type": "code",
   "execution_count": null,
   "metadata": {},
   "outputs": [],
   "source": [
    "# linear regression (first pair)\n",
    "lm(y1 ~ x1, data = anscombe)"
   ]
  },
  {
   "cell_type": "code",
   "execution_count": null,
   "metadata": {},
   "outputs": [],
   "source": [
    "# linear regression (second pair)\n",
    "lm(y2 ~ x2, data = anscombe)"
   ]
  },
  {
   "cell_type": "markdown",
   "metadata": {},
   "source": [
    "### Now, it's your turn: Find the linear regression coefficients for the next two data sets:"
   ]
  },
  {
   "cell_type": "code",
   "execution_count": null,
   "metadata": {},
   "outputs": [],
   "source": [
    "# linear regression (next two pairs)\n",
    "\n",
    "# YOUR CODE HERE #"
   ]
  },
  {
   "cell_type": "markdown",
   "metadata": {},
   "source": [
    "**Let's create a plot with x1 and y1 as the inputs and use the geom_point; it will be a scatterplot.** ggplot2 constructs the graphs in a modular way: first we define the data to be used, then the type of the plot, and then the other parameters and functionality we desire. All these can be added to the plot by using the **+** operator as below. \n"
   ]
  },
  {
   "cell_type": "code",
   "execution_count": null,
   "metadata": {},
   "outputs": [],
   "source": [
    "# Inputs: x1 and y1. Use the geom_point to make it a scatterplot. \n",
    "\n",
    "p1 <- ggplot(anscombe, aes(x=x1, y=y1)) + geom_point() \n",
    "\n",
    "# add a linear regression line and set minimum x,y limits on the plot\n",
    "p1 <- p1 + geom_smooth(method = lm) + expand_limits(x = 4, y = 4)\n",
    "p1\n",
    "\n",
    "# Now, let's do the same for x2,y2; we can remove the confidence interval with se=FALSE \n",
    "p2 <- ggplot(anscombe, aes(x=x2, y=y2)) + geom_point() \n",
    "p2 <- p2 + geom_smooth(method = lm, se = FALSE) + expand_limits(x = 4, y = 4)\n",
    "p2"
   ]
  },
  {
   "cell_type": "markdown",
   "metadata": {},
   "source": [
    "### Now, it's your turn: create the plots for x3,y3 and x4,y4 in similar way as above :"
   ]
  },
  {
   "cell_type": "code",
   "execution_count": null,
   "metadata": {},
   "outputs": [],
   "source": [
    "p3 <- <--YOUR CODE HERE-->\n",
    "\n",
    "p3 <- p3 + <--YOUR CODE HERE-->\n",
    "p3\n",
    "\n",
    "p4 <- <--YOUR CODE HERE-->\n",
    "\n",
    "p4 <- p4 + <--YOUR CODE HERE-->\n",
    "p4"
   ]
  },
  {
   "cell_type": "code",
   "execution_count": null,
   "metadata": {},
   "outputs": [],
   "source": [
    "# Now, we plot them as a grid using the grid.arrange \n",
    "grid.arrange(p1, p2, p3, p4)"
   ]
  },
  {
   "cell_type": "markdown",
   "metadata": {},
   "source": [
    "**`ggplot2` has many ways of manipulating the plot. Let's try to make our plots look very close to the original picture above.** "
   ]
  },
  {
   "cell_type": "code",
   "execution_count": null,
   "metadata": {},
   "outputs": [],
   "source": [
    "# This is another way of drawing the scatterplot in order to make it look very close to our original graph. \n",
    "\n",
    "# change color and size of the marker\n",
    "pp1 <- ggplot(anscombe) + geom_point(aes(x1, y1), color = \"darkorange\", size = 3) \n",
    "\n",
    "# add black and white theme\n",
    "pp1 <- pp1 + theme_bw()\n",
    "\n",
    "# adjust the limits on the axes\n",
    "pp1 <- pp1 + scale_x_continuous(breaks = seq(0, 18, 2)) + scale_y_continuous(breaks = seq(0, 12, 2)) \n",
    "\n",
    "# draw a line with an intercept and slope -- see the difference from above\n",
    "pp1 <- pp1 + geom_abline(intercept = 3, slope = 0.5, color = \"cornflowerblue\") \n",
    "\n",
    "# more axis stuff\n",
    "pp1 <- pp1 + expand_limits(x = c(4,18), y = c(4,12)) \n",
    "\n",
    "# and add a title \n",
    "pp1 <- pp1 + labs(title = \"dataset 1\")\n",
    "pp1"
   ]
  },
  {
   "cell_type": "markdown",
   "metadata": {},
   "source": [
    "### Again, it's your turn: create the rest of the plots: "
   ]
  },
  {
   "cell_type": "code",
   "execution_count": null,
   "metadata": {},
   "outputs": [],
   "source": [
    "pp2 <- ggplot(anscombe) + <--YOUR CODE HERE-->\n",
    "pp2 <- pp2 + theme_bw() \n",
    "pp2 <- pp2 + scale_x_continuous(breaks = seq(0, 18, 2)) + scale_y_continuous(breaks = seq(0, 12, 2)) \n",
    "pp2 <- pp2 + geom_abline(intercept = 3, slope = 0.5, color = \"cornflowerblue\") \n",
    "pp2 <- pp2 + expand_limits(x = c(4,18), y = c(4,12)) \n",
    "pp2 <- pp2 + <--YOUR CODE HERE-->"
   ]
  },
  {
   "cell_type": "code",
   "execution_count": null,
   "metadata": {},
   "outputs": [],
   "source": [
    "pp3 <- <--YOUR CODE HERE-->\n",
    "\n",
    "pp4 <- <--YOUR CODE HERE-->\n",
    "\n",
    "grid.arrange(pp1, pp2, pp3, pp4)"
   ]
  },
  {
   "cell_type": "markdown",
   "metadata": {},
   "source": [
    "**In the coming labs and practices, we will learn how to manipulate different types of visualizations (plots, bar charts, histograms, etc.) using ggplot2.**"
   ]
  }
 ],
 "metadata": {
  "anaconda-cloud": {},
  "kernelspec": {
   "display_name": "R",
   "language": "R",
   "name": "ir"
  },
  "language_info": {
   "codemirror_mode": "r",
   "file_extension": ".r",
   "mimetype": "text/x-r-source",
   "name": "R",
   "pygments_lexer": "r",
   "version": "3.5.1"
  }
 },
 "nbformat": 4,
 "nbformat_minor": 1
}
