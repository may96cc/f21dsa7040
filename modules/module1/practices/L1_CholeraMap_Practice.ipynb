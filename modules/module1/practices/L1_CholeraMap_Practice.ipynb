{
 "cells": [
  {
   "cell_type": "markdown",
   "metadata": {},
   "source": [
    "# Module 1 Practice: John Snow's Cholera Map \n",
    "\n",
    "In this practice, we will load the data for John Snow's cholera map from `/dsa/data/all_datasets/CholeraDeathsPumps.csv`. It has the number of deaths and geographical coordinates of the deaths and water pumps (where count is -999). \n",
    "\n",
    "We will do simple scatter plots using the **`ggplot2`** library; it has many useful functions to create nice plots and graphics. Here is a handy [cheatsheet for ggplot2 library](https://github.com/rstudio/cheatsheets/blob/master/data-visualization-2.1.pdf), and the [full documentation](https://cran.r-project.org/web/packages/ggplot2/ggplot2.pdf).\n",
    "\n",
    "**The following are examples to start using ggplot for simple plots:** "
   ]
  },
  {
   "cell_type": "code",
   "execution_count": null,
   "metadata": {},
   "outputs": [],
   "source": [
    "# load ggplot library \n",
    "library(ggplot2)\n",
    "\n",
    "# First, make up a data frame \n",
    "df <- data.frame(replicate(3,sample(0:100,10,rep=TRUE)))\n",
    "df\n",
    "str(df)"
   ]
  },
  {
   "cell_type": "code",
   "execution_count": null,
   "metadata": {},
   "outputs": [],
   "source": [
    "# every ggplot \"object\" should define the data frame to be used for plotting, \n",
    "# and the \"aesthetics\" that is the mapping between the columns of the data set and the plot. \n",
    "plot1 <- ggplot(data=df, mapping=aes(x=X1, y=X2))\n",
    "\n",
    "# now add a \"geom\" to tell what type of plot it'll be: here, it's a scatter plot. \n",
    "plot1 <- plot1 + geom_point()\n",
    "\n",
    "# display it. \n",
    "plot1"
   ]
  },
  {
   "cell_type": "code",
   "execution_count": null,
   "metadata": {},
   "outputs": [],
   "source": [
    "# The following is same as above, relying on defaults and doing everything in one line: \n",
    "\n",
    "ggplot(df, aes(X1, X2)) + geom_point() \n"
   ]
  },
  {
   "cell_type": "code",
   "execution_count": null,
   "metadata": {},
   "outputs": [],
   "source": [
    "# Let's do a line plot: \n",
    "\n",
    "p1 <- ggplot(df, aes(x=X1,y=X2)) + geom_line() \n",
    "p1\n",
    "\n",
    "# or both, we can keep adding different layers like this: \n",
    "\n",
    "p1 <- p1 + geom_point()\n",
    "p1\n"
   ]
  },
  {
   "cell_type": "markdown",
   "metadata": {},
   "source": [
    "**Now, we will do the following activities:** "
   ]
  },
  {
   "cell_type": "code",
   "execution_count": null,
   "metadata": {},
   "outputs": [],
   "source": [
    "# Activity 1: read the Cholera data into a data frame, show head and tail \n",
    "\n",
    "df <- <-- YOUR ANSWER HERE -->\n",
    "\n",
    "<-- YOUR ANSWER HERE -->\n"
   ]
  },
  {
   "cell_type": "code",
   "execution_count": null,
   "metadata": {},
   "outputs": [],
   "source": [
    "# Activity 2: separate deaths and pumps to separate data frames \n",
    "\n",
    "wpumps <- <-- YOUR ANSWER HERE -->\n",
    "cdeaths <- <-- YOUR ANSWER HERE -->\n",
    "\n",
    "head(wpumps)"
   ]
  },
  {
   "cell_type": "code",
   "execution_count": null,
   "metadata": {},
   "outputs": [],
   "source": [
    "# Activity 3: plot all data points as a scatter plot; define aesthetics\n",
    "\n",
    "ggplot(data=df, <-- YOUR ANSWER HERE -->) +  <-- YOUR ANSWER HERE -->"
   ]
  },
  {
   "cell_type": "code",
   "execution_count": null,
   "metadata": {},
   "outputs": [],
   "source": [
    "# Activity 4: change color of the points to blue \n",
    "\n",
    "<-- YOUR ANSWER HERE -->"
   ]
  },
  {
   "cell_type": "code",
   "execution_count": null,
   "metadata": {},
   "outputs": [],
   "source": [
    "# Activity 5: plot deaths and pumps separately on the same plot (pumps: blue, deaths: black)\n",
    "\n",
    "<-- YOUR ANSWER HERE -->"
   ]
  },
  {
   "cell_type": "code",
   "execution_count": null,
   "metadata": {},
   "outputs": [],
   "source": [
    "# Activity 6: Make pumps bigger, change the shape of deaths to diamond (hint: use shape=23)\n",
    "\n",
    "<-- YOUR ANSWER HERE -->"
   ]
  },
  {
   "cell_type": "markdown",
   "metadata": {},
   "source": [
    "### Question: Does this plot show counts of deaths ? How do we incorporate that column to this plot ? \n"
   ]
  },
  {
   "cell_type": "code",
   "execution_count": null,
   "metadata": {},
   "outputs": [],
   "source": [
    "# Activity 7: FIND a way of showing number of deaths in the plot above\n",
    "\n",
    "ggplot(df, <-- YOUR ANSWER HERE -->) +  \n",
    "  geom_point(<-- YOUR ANSWER HERE -->) + \n",
    "  geom_point(<-- YOUR ANSWER HERE -->)"
   ]
  }
 ],
 "metadata": {
  "kernelspec": {
   "display_name": "R",
   "language": "R",
   "name": "ir"
  },
  "language_info": {
   "codemirror_mode": "r",
   "file_extension": ".r",
   "mimetype": "text/x-r-source",
   "name": "R",
   "pygments_lexer": "r",
   "version": "3.5.1"
  }
 },
 "nbformat": 4,
 "nbformat_minor": 2
}
