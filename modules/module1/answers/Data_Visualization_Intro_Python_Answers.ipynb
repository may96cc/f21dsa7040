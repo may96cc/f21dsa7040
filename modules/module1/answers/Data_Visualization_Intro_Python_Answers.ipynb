{
 "cells": [
  {
   "cell_type": "markdown",
   "metadata": {},
   "source": [
    "# Module 1 Exercises "
   ]
  },
  {
   "cell_type": "markdown",
   "metadata": {},
   "source": [
    "The exercises in this notebook will ask you to plot simple graphs showing the linear relationships between different set of variables. The dataset used in the notebook is about Nutrition data of different food items. There are some of the variables in the dataset which have linear relationships between them."
   ]
  },
  {
   "cell_type": "markdown",
   "metadata": {},
   "source": [
    "Read the data from USDA dataset in `\"/dsa/data/all_datasets/USDA.csv\"` into the dataframe called _USDA_ . "
   ]
  },
  {
   "cell_type": "code",
   "execution_count": 2,
   "metadata": {},
   "outputs": [],
   "source": [
    "import pandas\n",
    "import csv\n",
    "import numpy as np\n",
    "import matplotlib.pyplot as plt\n",
    "from plotnine import *\n",
    "USDA = pandas.read_csv(\"/dsa/data/all_datasets/USDA.csv\", sep=',', delimiter=None)"
   ]
  },
  {
   "cell_type": "code",
   "execution_count": 3,
   "metadata": {},
   "outputs": [
    {
     "data": {
      "text/plain": [
       "pandas.core.frame.DataFrame"
      ]
     },
     "execution_count": 3,
     "metadata": {},
     "output_type": "execute_result"
    }
   ],
   "source": [
    "type(USDA)"
   ]
  },
  {
   "cell_type": "code",
   "execution_count": 4,
   "metadata": {},
   "outputs": [
    {
     "data": {
      "text/html": [
       "<div>\n",
       "<style scoped>\n",
       "    .dataframe tbody tr th:only-of-type {\n",
       "        vertical-align: middle;\n",
       "    }\n",
       "\n",
       "    .dataframe tbody tr th {\n",
       "        vertical-align: top;\n",
       "    }\n",
       "\n",
       "    .dataframe thead th {\n",
       "        text-align: right;\n",
       "    }\n",
       "</style>\n",
       "<table border=\"1\" class=\"dataframe\">\n",
       "  <thead>\n",
       "    <tr style=\"text-align: right;\">\n",
       "      <th></th>\n",
       "      <th>ID</th>\n",
       "      <th>Description</th>\n",
       "      <th>Calories</th>\n",
       "      <th>Protein</th>\n",
       "      <th>TotalFat</th>\n",
       "      <th>Carbohydrate</th>\n",
       "      <th>Sodium</th>\n",
       "      <th>SaturatedFat</th>\n",
       "      <th>Cholesterol</th>\n",
       "      <th>Sugar</th>\n",
       "      <th>Calcium</th>\n",
       "      <th>Iron</th>\n",
       "      <th>Potassium</th>\n",
       "      <th>VitaminC</th>\n",
       "      <th>VitaminE</th>\n",
       "      <th>VitaminD</th>\n",
       "    </tr>\n",
       "  </thead>\n",
       "  <tbody>\n",
       "    <tr>\n",
       "      <th>0</th>\n",
       "      <td>1001</td>\n",
       "      <td>BUTTER,WITH SALT</td>\n",
       "      <td>717.0</td>\n",
       "      <td>0.85</td>\n",
       "      <td>81.11</td>\n",
       "      <td>0.06</td>\n",
       "      <td>714.0</td>\n",
       "      <td>51.368</td>\n",
       "      <td>215.0</td>\n",
       "      <td>0.06</td>\n",
       "      <td>24.0</td>\n",
       "      <td>0.02</td>\n",
       "      <td>24.0</td>\n",
       "      <td>0.0</td>\n",
       "      <td>2.32</td>\n",
       "      <td>1.5</td>\n",
       "    </tr>\n",
       "    <tr>\n",
       "      <th>1</th>\n",
       "      <td>1002</td>\n",
       "      <td>BUTTER,WHIPPED,WITH SALT</td>\n",
       "      <td>717.0</td>\n",
       "      <td>0.85</td>\n",
       "      <td>81.11</td>\n",
       "      <td>0.06</td>\n",
       "      <td>827.0</td>\n",
       "      <td>50.489</td>\n",
       "      <td>219.0</td>\n",
       "      <td>0.06</td>\n",
       "      <td>24.0</td>\n",
       "      <td>0.16</td>\n",
       "      <td>26.0</td>\n",
       "      <td>0.0</td>\n",
       "      <td>2.32</td>\n",
       "      <td>1.5</td>\n",
       "    </tr>\n",
       "    <tr>\n",
       "      <th>2</th>\n",
       "      <td>1003</td>\n",
       "      <td>BUTTER OIL,ANHYDROUS</td>\n",
       "      <td>876.0</td>\n",
       "      <td>0.28</td>\n",
       "      <td>99.48</td>\n",
       "      <td>0.00</td>\n",
       "      <td>2.0</td>\n",
       "      <td>61.924</td>\n",
       "      <td>256.0</td>\n",
       "      <td>0.00</td>\n",
       "      <td>4.0</td>\n",
       "      <td>0.00</td>\n",
       "      <td>5.0</td>\n",
       "      <td>0.0</td>\n",
       "      <td>2.80</td>\n",
       "      <td>1.8</td>\n",
       "    </tr>\n",
       "    <tr>\n",
       "      <th>3</th>\n",
       "      <td>1004</td>\n",
       "      <td>CHEESE,BLUE</td>\n",
       "      <td>353.0</td>\n",
       "      <td>21.40</td>\n",
       "      <td>28.74</td>\n",
       "      <td>2.34</td>\n",
       "      <td>1395.0</td>\n",
       "      <td>18.669</td>\n",
       "      <td>75.0</td>\n",
       "      <td>0.50</td>\n",
       "      <td>528.0</td>\n",
       "      <td>0.31</td>\n",
       "      <td>256.0</td>\n",
       "      <td>0.0</td>\n",
       "      <td>0.25</td>\n",
       "      <td>0.5</td>\n",
       "    </tr>\n",
       "    <tr>\n",
       "      <th>4</th>\n",
       "      <td>1005</td>\n",
       "      <td>CHEESE,BRICK</td>\n",
       "      <td>371.0</td>\n",
       "      <td>23.24</td>\n",
       "      <td>29.68</td>\n",
       "      <td>2.79</td>\n",
       "      <td>560.0</td>\n",
       "      <td>18.764</td>\n",
       "      <td>94.0</td>\n",
       "      <td>0.51</td>\n",
       "      <td>674.0</td>\n",
       "      <td>0.43</td>\n",
       "      <td>136.0</td>\n",
       "      <td>0.0</td>\n",
       "      <td>0.26</td>\n",
       "      <td>0.5</td>\n",
       "    </tr>\n",
       "  </tbody>\n",
       "</table>\n",
       "</div>"
      ],
      "text/plain": [
       "     ID               Description  Calories  Protein  TotalFat  Carbohydrate  \\\n",
       "0  1001          BUTTER,WITH SALT     717.0     0.85     81.11          0.06   \n",
       "1  1002  BUTTER,WHIPPED,WITH SALT     717.0     0.85     81.11          0.06   \n",
       "2  1003      BUTTER OIL,ANHYDROUS     876.0     0.28     99.48          0.00   \n",
       "3  1004               CHEESE,BLUE     353.0    21.40     28.74          2.34   \n",
       "4  1005              CHEESE,BRICK     371.0    23.24     29.68          2.79   \n",
       "\n",
       "   Sodium  SaturatedFat  Cholesterol  Sugar  Calcium  Iron  Potassium  \\\n",
       "0   714.0        51.368        215.0   0.06     24.0  0.02       24.0   \n",
       "1   827.0        50.489        219.0   0.06     24.0  0.16       26.0   \n",
       "2     2.0        61.924        256.0   0.00      4.0  0.00        5.0   \n",
       "3  1395.0        18.669         75.0   0.50    528.0  0.31      256.0   \n",
       "4   560.0        18.764         94.0   0.51    674.0  0.43      136.0   \n",
       "\n",
       "   VitaminC  VitaminE  VitaminD  \n",
       "0       0.0      2.32       1.5  \n",
       "1       0.0      2.32       1.5  \n",
       "2       0.0      2.80       1.8  \n",
       "3       0.0      0.25       0.5  \n",
       "4       0.0      0.26       0.5  "
      ]
     },
     "execution_count": 4,
     "metadata": {},
     "output_type": "execute_result"
    }
   ],
   "source": [
    "USDA.head()"
   ]
  },
  {
   "cell_type": "code",
   "execution_count": 5,
   "metadata": {},
   "outputs": [],
   "source": [
    "USDA = USDA.fillna(method='pad')"
   ]
  },
  {
   "cell_type": "code",
   "execution_count": 6,
   "metadata": {},
   "outputs": [
    {
     "data": {
      "text/plain": [
       "(7058, 16)"
      ]
     },
     "execution_count": 6,
     "metadata": {},
     "output_type": "execute_result"
    }
   ],
   "source": [
    "USDA.shape"
   ]
  },
  {
   "cell_type": "code",
   "execution_count": 7,
   "metadata": {},
   "outputs": [
    {
     "data": {
      "text/plain": [
       "<bound method NDFrame.describe of          ID                 Description  Calories  Protein  TotalFat  \\\n",
       "0      1001            BUTTER,WITH SALT     717.0     0.85     81.11   \n",
       "1      1002    BUTTER,WHIPPED,WITH SALT     717.0     0.85     81.11   \n",
       "2      1003        BUTTER OIL,ANHYDROUS     876.0     0.28     99.48   \n",
       "3      1004                 CHEESE,BLUE     353.0    21.40     28.74   \n",
       "4      1005                CHEESE,BRICK     371.0    23.24     29.68   \n",
       "...     ...                         ...       ...      ...       ...   \n",
       "7053  80200               FROG LEGS,RAW      73.0    16.40      0.30   \n",
       "7054  83110             MACKEREL,SALTED     305.0    18.50     25.10   \n",
       "7055  90240  SCALLOP,(BAY&SEA),CKD,STMD     111.0    20.54      0.84   \n",
       "7056  90560                   SNAIL,RAW      90.0    16.10      1.40   \n",
       "7057  93600            TURTLE,GREEN,RAW      89.0    19.80      0.50   \n",
       "\n",
       "      Carbohydrate  Sodium  SaturatedFat  Cholesterol  Sugar  Calcium  Iron  \\\n",
       "0             0.06   714.0        51.368        215.0   0.06     24.0  0.02   \n",
       "1             0.06   827.0        50.489        219.0   0.06     24.0  0.16   \n",
       "2             0.00     2.0        61.924        256.0   0.00      4.0  0.00   \n",
       "3             2.34  1395.0        18.669         75.0   0.50    528.0  0.31   \n",
       "4             2.79   560.0        18.764         94.0   0.51    674.0  0.43   \n",
       "...            ...     ...           ...          ...    ...      ...   ...   \n",
       "7053          0.00    58.0         0.076         50.0   0.00     18.0  1.50   \n",
       "7054          0.00  4450.0         7.148         95.0   0.00     66.0  1.40   \n",
       "7055          5.41   667.0         0.218         41.0   0.00     10.0  0.58   \n",
       "7056          2.00    70.0         0.361         50.0   0.00     10.0  3.50   \n",
       "7057          0.00    68.0         0.127         50.0   0.00    118.0  1.40   \n",
       "\n",
       "      Potassium  VitaminC  VitaminE  VitaminD  \n",
       "0          24.0       0.0      2.32       1.5  \n",
       "1          26.0       0.0      2.32       1.5  \n",
       "2           5.0       0.0      2.80       1.8  \n",
       "3         256.0       0.0      0.25       0.5  \n",
       "4         136.0       0.0      0.26       0.5  \n",
       "...         ...       ...       ...       ...  \n",
       "7053      285.0       0.0      1.00       0.2  \n",
       "7054      520.0       0.0      2.38      25.2  \n",
       "7055      314.0       0.0      0.00       0.0  \n",
       "7056      382.0       0.0      5.00       0.0  \n",
       "7057      230.0       0.0      0.50       0.0  \n",
       "\n",
       "[7058 rows x 16 columns]>"
      ]
     },
     "execution_count": 7,
     "metadata": {},
     "output_type": "execute_result"
    }
   ],
   "source": [
    "USDA.describe"
   ]
  },
  {
   "cell_type": "code",
   "execution_count": 8,
   "metadata": {},
   "outputs": [],
   "source": [
    "from sklearn import linear_model"
   ]
  },
  {
   "cell_type": "code",
   "execution_count": 9,
   "metadata": {},
   "outputs": [
    {
     "data": {
      "text/html": [
       "<div>\n",
       "<style scoped>\n",
       "    .dataframe tbody tr th:only-of-type {\n",
       "        vertical-align: middle;\n",
       "    }\n",
       "\n",
       "    .dataframe tbody tr th {\n",
       "        vertical-align: top;\n",
       "    }\n",
       "\n",
       "    .dataframe thead th {\n",
       "        text-align: right;\n",
       "    }\n",
       "</style>\n",
       "<table border=\"1\" class=\"dataframe\">\n",
       "  <thead>\n",
       "    <tr style=\"text-align: right;\">\n",
       "      <th></th>\n",
       "      <th>SaturatedFat</th>\n",
       "      <th>TotalFat</th>\n",
       "    </tr>\n",
       "  </thead>\n",
       "  <tbody>\n",
       "    <tr>\n",
       "      <th>0</th>\n",
       "      <td>51.368</td>\n",
       "      <td>81.11</td>\n",
       "    </tr>\n",
       "    <tr>\n",
       "      <th>1</th>\n",
       "      <td>50.489</td>\n",
       "      <td>81.11</td>\n",
       "    </tr>\n",
       "    <tr>\n",
       "      <th>2</th>\n",
       "      <td>61.924</td>\n",
       "      <td>99.48</td>\n",
       "    </tr>\n",
       "    <tr>\n",
       "      <th>3</th>\n",
       "      <td>18.669</td>\n",
       "      <td>28.74</td>\n",
       "    </tr>\n",
       "    <tr>\n",
       "      <th>4</th>\n",
       "      <td>18.764</td>\n",
       "      <td>29.68</td>\n",
       "    </tr>\n",
       "  </tbody>\n",
       "</table>\n",
       "</div>"
      ],
      "text/plain": [
       "   SaturatedFat  TotalFat\n",
       "0        51.368     81.11\n",
       "1        50.489     81.11\n",
       "2        61.924     99.48\n",
       "3        18.669     28.74\n",
       "4        18.764     29.68"
      ]
     },
     "execution_count": 9,
     "metadata": {},
     "output_type": "execute_result"
    }
   ],
   "source": [
    "USDA[[\"SaturatedFat\",\"TotalFat\"]].head()"
   ]
  },
  {
   "cell_type": "markdown",
   "metadata": {},
   "source": [
    "**Activity 1:** Fit a linear regression model to predict TotalFat using SaturatedFat.(Hint: use `linear_model.LinearRegression()`)"
   ]
  },
  {
   "cell_type": "code",
   "execution_count": 16,
   "metadata": {},
   "outputs": [
    {
     "name": "stdout",
     "output_type": "stream",
     "text": [
      "Slope:  [[1.85720478]] \n",
      "Intercept:  [4.0491489]\n",
      "Mean squared error: 1093.94\n"
     ]
    }
   ],
   "source": [
    "# Your code for activity 1 goes here..\n",
    "\n",
    "# use linear_model\n",
    "# Create linear regression object\n",
    "regr = linear_model.LinearRegression()\n",
    "\n",
    "# Train the model using the training sets\n",
    "regr.fit(USDA[[\"SaturatedFat\"]], USDA[[\"TotalFat\"]])\n",
    "\n",
    "# The coefficients\n",
    "print('Slope: ', regr.coef_, '\\nIntercept: ', regr.intercept_)\n",
    "\n",
    "# The mean squared error\n",
    "print(\"Mean squared error: %.2f\"\n",
    "      % np.mean((regr.predict(USDA[[\"TotalFat\"]]) - USDA[[\"SaturatedFat\"]]) ** 2))"
   ]
  },
  {
   "cell_type": "markdown",
   "metadata": {},
   "source": [
    "**Activity 2:** Draw a scatter plot between TotalFat and SaturatedFat and fit a linear regression line predicting TotalFat using SaturatedFat."
   ]
  },
  {
   "cell_type": "code",
   "execution_count": 11,
   "metadata": {},
   "outputs": [
    {
     "data": {
      "image/png": "[encoded data removed]",
      "text/plain": [
       "<Figure size 432x288 with 1 Axes>"
      ]
     },
     "metadata": {
      "needs_background": "light"
     },
     "output_type": "display_data"
    }
   ],
   "source": [
    "# Your code for activity 2 goes here..\n",
    "\n",
    "# Plot outputs\n",
    "plt.scatter(USDA[[\"SaturatedFat\"]], USDA[[\"TotalFat\"]],  color='green')\n",
    "plt.plot(USDA[[\"SaturatedFat\"]], regr.predict(USDA[[\"SaturatedFat\"]]), color='orange',\n",
    "         linewidth=3)\n",
    "\n",
    "plt.show()"
   ]
  },
  {
   "cell_type": "code",
   "execution_count": 12,
   "metadata": {},
   "outputs": [
    {
     "name": "stderr",
     "output_type": "stream",
     "text": [
      "/opt/conda/lib/python3.7/site-packages/numpy/core/fromnumeric.py:2495: FutureWarning: Method .ptp is deprecated and will be removed in a future version. Use numpy.ptp instead.\n",
      "  return ptp(axis=axis, out=out, **kwargs)\n"
     ]
    },
    {
     "data": {
      "image/png": "[encoded data removed]",
      "text/plain": [
       "<Figure size 640x480 with 1 Axes>"
      ]
     },
     "metadata": {},
     "output_type": "display_data"
    },
    {
     "data": {
      "text/plain": [
       "<ggplot: (8782613081969)>"
      ]
     },
     "execution_count": 12,
     "metadata": {},
     "output_type": "execute_result"
    }
   ],
   "source": [
    "# or use plotnine\n",
    "\n",
    "ggplot(USDA, aes(x='SaturatedFat', y='TotalFat')) + geom_point(color='green', alpha=0.2) + geom_smooth(se=False, color='orange')"
   ]
  },
  {
   "cell_type": "code",
   "execution_count": null,
   "metadata": {},
   "outputs": [],
   "source": []
  }
 ],
 "metadata": {
  "kernelspec": {
   "display_name": "Python 3",
   "language": "python",
   "name": "python3"
  },
  "language_info": {
   "codemirror_mode": {
    "name": "ipython",
    "version": 3
   },
   "file_extension": ".py",
   "mimetype": "text/x-python",
   "name": "python",
   "nbconvert_exporter": "python",
   "pygments_lexer": "ipython3",
   "version": "3.7.3"
  }
 },
 "nbformat": 4,
 "nbformat_minor": 2
}
