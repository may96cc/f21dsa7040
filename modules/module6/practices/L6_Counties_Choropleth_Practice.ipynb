{
 "cells": [
  {
   "cell_type": "markdown",
   "metadata": {},
   "source": [
    "## County Choropleth Maps\n",
    "\n",
    "Filling county data for county level choropleth map is a bit tricky. \n",
    "\n",
    "`geom_map()` **always** expects the **same** column names in a map data frame as we have seen (either (long,lat,region) or (x,y,id)), and **always** links the data column specified by the `map_id` aes to the `region` or `id` column in the map data frame.\n",
    "\n",
    "So, you can draw and fill states just fine as you have seen in the practice; but for counties, you have to make a change in the map data frame.\n",
    "\n",
    "**See the example below:** \n"
   ]
  },
  {
   "cell_type": "code",
   "execution_count": null,
   "metadata": {},
   "outputs": [],
   "source": [
    "library(ggplot2)\n",
    "\n",
    "sc <- map_data('county', 'south carolina')\n",
    "head(sc)"
   ]
  },
  {
   "cell_type": "code",
   "execution_count": null,
   "metadata": {},
   "outputs": [],
   "source": [
    "ggplot() + \n",
    "geom_map(data=sc, map=sc, aes(map_id=region), fill=NA, color=\"black\") + \n",
    "expand_limits(x=sc$long, y=sc$lat) +\n",
    "coord_map(\"polyconic\") + \n",
    "theme_void()"
   ]
  },
  {
   "cell_type": "markdown",
   "metadata": {},
   "source": [
    "\n",
    "\n",
    "Let's create some made-up data frame to have some values linked to the county data.\n",
    "\n",
    "**We need to make sure that the county names are NOT categories but strings so that they can verbatimly match the county names in the map data frame.** \n"
   ]
  },
  {
   "cell_type": "code",
   "execution_count": null,
   "metadata": {},
   "outputs": [],
   "source": [
    "dsf <- data.frame(county=as.character(unique(sc$subregion)), pop = seq(1,46),  stringsAsFactors = FALSE)\n",
    "head(dsf)\n",
    "str(dsf)"
   ]
  },
  {
   "cell_type": "markdown",
   "metadata": {},
   "source": [
    "**Here is the trick:** geom_map ALWAYS links to the `region` column; so we can do the following to create a region column with county names:"
   ]
  },
  {
   "cell_type": "code",
   "execution_count": null,
   "metadata": {},
   "outputs": [],
   "source": [
    "sc$region = sc$subregion\n",
    "head(sc)"
   ]
  },
  {
   "cell_type": "markdown",
   "metadata": {},
   "source": [
    "Now, the `region` column contains counties; we can link our data to counties."
   ]
  },
  {
   "cell_type": "code",
   "execution_count": null,
   "metadata": {},
   "outputs": [],
   "source": [
    "# use dsf as the data frame and fill the regions with pop\n",
    "ggplot(data=dsf, aes(fill=pop)) + \n",
    "\n",
    "# link \"county\" column in dsf to \"region\" column in sc \n",
    "geom_map(map=sc, aes(map_id=county), color=\"white\", size=0.1) +  \n",
    "\n",
    "expand_limits(x = sc$long, y = sc$lat) + \n",
    "coord_map(\"polyconic\") +\n",
    "theme_void()"
   ]
  },
  {
   "cell_type": "markdown",
   "metadata": {},
   "source": [
    "---\n",
    "\n",
    "We can also add text labels on the map; below, we compute the mean coordinates for each county to create a data frame that contains county names and (long,lat) pairs that approximately represent the centers of counties. Then we can use `geom_text` or `geom_text_repel` to add names on the map.  "
   ]
  },
  {
   "cell_type": "code",
   "execution_count": null,
   "metadata": {},
   "outputs": [],
   "source": [
    "library(dplyr)\n",
    "name_data <- sc %>%\n",
    "  group_by(region) %>%\n",
    "  summarise(long = mean(long), lat = mean(lat))\n",
    "\n",
    "head(name_data)"
   ]
  },
  {
   "cell_type": "code",
   "execution_count": null,
   "metadata": {},
   "outputs": [],
   "source": [
    "library(ggrepel)\n",
    "\n",
    "ggplot() + \n",
    "\n",
    "\n",
    "geom_map(data=dsf, map=sc, aes(map_id=county, fill=pop), color=\"white\", size=0.1, alpha=0.5) +  \n",
    "\n",
    "geom_text_repel(data=name_data, aes(x=long, y=lat, label=region)) + \n",
    "\n",
    "expand_limits(x = sc$long, y = sc$lat) + \n",
    "coord_map(\"polyconic\") +\n",
    "theme_void()\n",
    "\n"
   ]
  },
  {
   "cell_type": "markdown",
   "metadata": {},
   "source": [
    "We can overlay this map on top of other layers like in the following example. \n",
    "\n",
    "\n",
    "You'll remember part of this code from practices:"
   ]
  },
  {
   "cell_type": "code",
   "execution_count": null,
   "metadata": {},
   "outputs": [],
   "source": [
    "state <- map_data(\"state\")\n",
    "county <- map_data(\"county\")\n",
    "usa <- map_data(\"usa\")\n",
    "\n",
    "gg <- ggplot() + \n",
    " geom_map(data=county, map=county, aes(map_id=region), color=\"grey\", fill=NA, size=0.1) +\n",
    " geom_map(data=state, map=state, aes(map_id=region), color=\"red\", fill=NA, size=0.3) +\n",
    " geom_map(data=usa, map=usa, aes(map_id=region), color=\"blue\", fill=NA, size=1) +\n",
    "\n",
    " geom_map(data=dsf, map=sc, aes(map_id=county, fill=pop), color=\"lightblue\", size=0.1) + \n",
    " \n",
    " coord_map(\"albers\", lat0=30, lat1=40) + \n",
    " expand_limits(x = usa$long, y = usa$lat) +\n",
    " theme_void()\n",
    "gg"
   ]
  },
  {
   "cell_type": "markdown",
   "metadata": {},
   "source": [
    "We can change the limits to focus on the South Carolina. \n",
    "\n",
    "Also, look how the **order** of geom_maps dictate the drawing order of layers. "
   ]
  },
  {
   "cell_type": "code",
   "execution_count": null,
   "metadata": {},
   "outputs": [],
   "source": [
    "state <- map_data(\"state\")\n",
    "county <- map_data(\"county\")\n",
    "usa <- map_data(\"usa\")\n",
    "\n",
    "gg <- ggplot() + \n",
    " geom_map(data=county, map=county, aes(map_id=region), color=\"grey\", fill=NA, size=0.1) +\n",
    " geom_map(data=state, map=state, aes(map_id=region), color=\"red\", fill=NA, size=0.3) +\n",
    "\n",
    " geom_map(data=dsf, map=sc, aes(map_id=county, fill=pop), color=\"lightblue\", size=0.1) + \n",
    "\n",
    " geom_map(data=usa, map=usa, aes(map_id=region), color=\"blue\", fill=NA, size=1) +\n",
    " \n",
    " coord_map(\"albers\", lat0=30, lat1=40) + \n",
    " expand_limits(x = sc$long, y = sc$lat) + \n",
    " theme_void()\n",
    "gg"
   ]
  },
  {
   "cell_type": "markdown",
   "metadata": {},
   "source": [
    "## YOUR TURN: \n",
    "**Repeat the same visualization from the cell above for Missouri. Make sure to expand the limits of the map to show entire neighbor states only.** You can make up the data frame for fill values. \n",
    "\n",
    "(Hint: use latlong.net to find coordinates for xlim() and ylim().) "
   ]
  },
  {
   "cell_type": "code",
   "execution_count": null,
   "metadata": {},
   "outputs": [],
   "source": [
    "mo <- map_data('county', 'missouri')\n",
    "\n",
    "< YOUR CODE HERE >"
   ]
  },
  {
   "cell_type": "code",
   "execution_count": null,
   "metadata": {},
   "outputs": [],
   "source": [
    "gg <- ggplot() + \n",
    " \n",
    " < YOUR CODE HERE > \n",
    " coord_map(\"albers\", lat0=30, lat1=40) +\n",
    " #ylim(c(33, 44)) + xlim(c(-102, -82)) + \n",
    " theme_void()\n",
    "gg"
   ]
  }
 ],
 "metadata": {
  "kernelspec": {
   "display_name": "R",
   "language": "R",
   "name": "ir"
  },
  "language_info": {
   "codemirror_mode": "r",
   "file_extension": ".r",
   "mimetype": "text/x-r-source",
   "name": "R",
   "pygments_lexer": "r",
   "version": "3.5.1"
  }
 },
 "nbformat": 4,
 "nbformat_minor": 2
}
