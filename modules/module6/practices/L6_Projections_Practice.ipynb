{
 "cells": [
  {
   "cell_type": "markdown",
   "metadata": {},
   "source": [
    "## Module 6 Practice - Projections and Vector Maps\n",
    "\n",
    "\n",
    "In this notebook, we will see how to **draw vector maps from different sources.** "
   ]
  },
  {
   "cell_type": "code",
   "execution_count": null,
   "metadata": {},
   "outputs": [],
   "source": [
    "# Useful libraries to visualize maps \n",
    "library(ggplot2)\n",
    "library(sp)\n",
    "library(maps)\n",
    "library(maptools)\n",
    "library(mapproj)\n",
    "library(mapdata)"
   ]
  },
  {
   "cell_type": "markdown",
   "metadata": {},
   "source": [
    "**Let's start with plain R to draw flights in between cities.** \n",
    "\n",
    "Plain R can be sometimes shorter to code. In this example, our data set has **two files**; \n",
    " - flight information for airlines between airports, \n",
    " - geo coordinates of the airports. \n",
    " \n",
    " First, we will go through the flight data and **find out the coordinates of the originating and destination airports and visualize the number of flights**. "
   ]
  },
  {
   "cell_type": "code",
   "execution_count": null,
   "metadata": {},
   "outputs": [],
   "source": [
    "# airport codes and coordinates \n",
    "airports <- read.csv(\"/dsa/data/all_datasets/spatial/airports.csv\", as.is=TRUE, header=TRUE)\n",
    "# flight destinations and counts \n",
    "flights <- read.csv(\"/dsa/data/all_datasets/spatial/flights.csv\", as.is=TRUE, header=TRUE)\n",
    "\n",
    "airports$lat <- as.numeric(airports$lat)\n",
    "airports$long <- as.numeric(airports$long)\n",
    "\n",
    "# Look at the data frames \n",
    "head(airports)\n",
    "head(flights)"
   ]
  },
  {
   "cell_type": "markdown",
   "metadata": {},
   "source": [
    "The following code draws a world map in plain R using the `map()` function and draws flight paths on it in a loop."
   ]
  },
  {
   "cell_type": "code",
   "execution_count": null,
   "metadata": {},
   "outputs": [],
   "source": [
    "# Draw world map in plain R \n",
    "map(\"world\", col=\"#f2f2f2\", fill=TRUE, bg=\"white\", lwd=0.05, xlim=c(-172, -57), ylim=c(12, 72))\n",
    "\n",
    "# This is needed to compute the great circle between two locations on earth \n",
    "library(geosphere)\n",
    "\n",
    "# Display only American Airlines \n",
    "fsub <- flights[flights$airline == \"AA\",]\n",
    "\n",
    "# go through EACH flight and FIND the coordinates of originating and destination airport \n",
    "for (j in 1:length(fsub$airline)) {\n",
    "    air1 <- airports[airports$iata == fsub[j,]$airport1,]\n",
    "    air2 <- airports[airports$iata == fsub[j,]$airport2,]\n",
    "\n",
    "    # compute the great circle and create a path of 100 points between endpoints \n",
    "    inter <- data.frame(gcIntermediate(c(air1[1,]$long, air1[1,]$lat), c(air2[1,]$long, air2[1,]$lat), n=100, addStartEnd=TRUE))\n",
    "    \n",
    "    # draw the arc for this flight; line thickness encodes number of flights \n",
    "    lines(inter, col=\"black\", lwd=2*fsub[j,]$cnt/max(fsub$cnt))\n",
    "}"
   ]
  },
  {
   "cell_type": "markdown",
   "metadata": {},
   "source": [
    "---\n",
    "\n",
    "### Maps in ggplot\n",
    "\n",
    "**We can also read the vector map data from a shapefile**. A shapefile contains geospatial vector data that define geometric shapes of a map and the related attributes. \n",
    "\n",
    "\n",
    "Shapefiles can be obtained from online resources such as [US Census Bureau](https://www.census.gov/programs-surveys/geography/geographies/mapping-files.html). \n",
    "\n",
    "\n",
    "We can **read the shapefiles and convert them to data frames** that **ggplot** can display. But they can be very large and take some time to process. The following shows how to draw the vector maps given in shapefile format using ggplot. "
   ]
  },
  {
   "cell_type": "code",
   "execution_count": null,
   "metadata": {},
   "outputs": [],
   "source": [
    "# load the shapefile and convert to a data frame ggplot can use. \n",
    "us_shp <- readShapePoly(\"/dsa/data/all_datasets/spatial/cb_2015_us_state_500k.shp\")\n",
    "us_map <- fortify(us_shp)\n",
    "head(us_map)"
   ]
  },
  {
   "cell_type": "code",
   "execution_count": null,
   "metadata": {},
   "outputs": [],
   "source": [
    "# we can also the rgdal library to read shapefiles.\n",
    "library(rgdal)\n",
    "us_shp2 <- readOGR(dsn=\"/dsa/data/all_datasets/spatial/\", layer=\"cb_2015_us_state_500k\", GDAL1_integer64_policy=TRUE)\n",
    "us_map2 <- fortify(us_shp2)\n",
    "head(us_map2)"
   ]
  },
  {
   "cell_type": "markdown",
   "metadata": {},
   "source": [
    "There are **two geoms** we can use to draw a vector map: `geom_path` and `geom_polygon`. A polygon is simply a filled path. The following draws the map using the `geom_path()` geom and sets the projection to Mercator. We also limit the map to particular coordinates using `xlim` and `ylim` for longitudes and lattidues, respectively. "
   ]
  },
  {
   "cell_type": "code",
   "execution_count": null,
   "metadata": {},
   "outputs": [],
   "source": [
    "# draw the map \n",
    "ggplot(us_map, aes(x=long, y=lat, group=group)) + \n",
    "geom_path() + \n",
    "coord_map(\"mercator\") + \n",
    "xlim(c(-172, -57)) + ylim(c(12, 72)) "
   ]
  },
  {
   "cell_type": "code",
   "execution_count": null,
   "metadata": {},
   "outputs": [],
   "source": [
    "ggplot(us_map, aes(x=long, y=lat, group=group)) + \n",
    "geom_path() + \n",
    "coord_map(\"polyconic\") +        # use different projection \n",
    "xlim(c(-172, -57)) + ylim(c(12, 72)) "
   ]
  },
  {
   "cell_type": "markdown",
   "metadata": {},
   "source": [
    "With a `geom_polygon`, we can set the color to fill the polygons. Later, we will make it a visual variable! "
   ]
  },
  {
   "cell_type": "code",
   "execution_count": null,
   "metadata": {},
   "outputs": [],
   "source": [
    "ggplot(us_map, aes(x=long, y=lat, group=group)) + \n",
    "geom_polygon(fill=\"lightgray\", color=\"darkgray\", size=0.2) + \n",
    "coord_map(\"polyconic\") + \n",
    "xlim(c(-172, -57)) + ylim(c(12, 72)) "
   ]
  },
  {
   "cell_type": "markdown",
   "metadata": {},
   "source": [
    "**Let's see how to get the vector data using map_data() function of the `maps` library. It will be faster, and we will use this method to get vector map data for our maps.** "
   ]
  },
  {
   "cell_type": "code",
   "execution_count": null,
   "metadata": {},
   "outputs": [],
   "source": [
    "world <- map_data(\"world\")\n",
    "\n",
    "head(world)"
   ]
  },
  {
   "cell_type": "markdown",
   "metadata": {},
   "source": [
    "In the data frame, `long` and `lat` are the coordinates of the corners of each polygon; `group` provides a unique identifier for contiguous areas within a region, and `region` stands for countries. \n",
    "\n",
    "If we plot this data using `geom_point`, we will see the points representing coordinates of each corner of the polygons: "
   ]
  },
  {
   "cell_type": "code",
   "execution_count": null,
   "metadata": {},
   "outputs": [],
   "source": [
    "w <- ggplot() + \n",
    "     geom_point(data=world, aes(x=long, y=lat), size=0.1)+\n",
    "     coord_equal() +\n",
    "     xlim(c(-172, -57)) + ylim(c(12, 72))  + # limit to US \n",
    "     theme_void() \n",
    "w"
   ]
  },
  {
   "cell_type": "markdown",
   "metadata": {},
   "source": [
    "Using `geom_polygon`, we will see the polygons as lines drawn between corner points following the order and grouping in the map data. "
   ]
  },
  {
   "cell_type": "code",
   "execution_count": null,
   "metadata": {},
   "outputs": [],
   "source": [
    "w <- ggplot()\n",
    "w <- w + geom_polygon(data=world, aes(x=long, y=lat, group=group), color=\"black\", fill=\"#d6bf86\", size=0.1)\n",
    "w <- w + coord_equal() \n",
    "w <- w + theme_void()\n",
    "w"
   ]
  },
  {
   "cell_type": "markdown",
   "metadata": {},
   "source": [
    "This is what happens **without** grouping. "
   ]
  },
  {
   "cell_type": "code",
   "execution_count": null,
   "metadata": {},
   "outputs": [],
   "source": [
    "w <- ggplot()\n",
    "w <- w + geom_polygon(data=world, aes(x=long, y=lat), color=\"black\", fill=\"#d6bf86\", size=0.1)\n",
    "w <- w + coord_equal() \n",
    "w <- w + theme_void()\n",
    "w"
   ]
  },
  {
   "cell_type": "markdown",
   "metadata": {},
   "source": [
    "### YOUR TURN: \n",
    "**Create a world map where each country is colored separately.**\n",
    "\n",
    "Now, the fill has to be in aes. Which variable would you use for the fill aesthetic? \n",
    "\n"
   ]
  },
  {
   "cell_type": "code",
   "execution_count": null,
   "metadata": {},
   "outputs": [],
   "source": [
    "< YOUR CODE HERE >"
   ]
  },
  {
   "cell_type": "markdown",
   "metadata": {},
   "source": [
    "---\n",
    "\n",
    "Similar to the world map, we can also get the US map data with state boundaries. "
   ]
  },
  {
   "cell_type": "code",
   "execution_count": null,
   "metadata": {},
   "outputs": [],
   "source": [
    "us <- map_data(\"state\")\n",
    "\n",
    "head(us)"
   ]
  },
  {
   "cell_type": "code",
   "execution_count": null,
   "metadata": {},
   "outputs": [],
   "source": [
    "gg <- ggplot() + \n",
    "      geom_polygon(data=us, aes(x=long, y=lat, group=group), color=\"black\", fill=NA, size=0.15) +\n",
    "\n",
    "    # this is a good projection for US\n",
    "      coord_map(\"polyconic\") +\n",
    "      theme_void() \n",
    "gg "
   ]
  },
  {
   "cell_type": "markdown",
   "metadata": {},
   "source": [
    "There is a **special geom just for this type of map data** called `geom_map` which assumes the data frame has `long`, `lat`, and `group` columns, so we don't need to define them in aes. We will see later that it is also useful for other purposes. Sometimes, using `geom_map` can be faster than using `geom_polygon`.\n",
    "\n",
    "When you use the `geom_map`, make sure to use `expand_limits` or set `xlim` and `ylim` manually. "
   ]
  },
  {
   "cell_type": "code",
   "execution_count": null,
   "metadata": {},
   "outputs": [],
   "source": [
    "gg <- ggplot(data=us) + \n",
    "      geom_map(map=us, aes(map_id=region), color=\"black\", fill=NA, size=0.15) +\n",
    "\n",
    "# this is a good projection for US\n",
    "      coord_map(\"polyconic\") +\n",
    "      expand_limits(x=us$long, y=us$lat) +\n",
    "      theme_void() \n",
    "gg "
   ]
  },
  {
   "cell_type": "markdown",
   "metadata": {},
   "source": [
    "We can add some color and change the projection like this: "
   ]
  },
  {
   "cell_type": "code",
   "execution_count": null,
   "metadata": {},
   "outputs": [],
   "source": [
    "gg <- ggplot(data=us) + \n",
    "      geom_map(map=us, aes(map_id=region), color=\"white\", fill=\"lightblue\", size=0.15) + \n",
    "\n",
    "#This is better projection\n",
    "      coord_map(\"albers\", lat0=30, lat1=40) + \n",
    "      expand_limits(x=us$long, y=us$lat) +\n",
    "      theme_void() \n",
    "gg"
   ]
  },
  {
   "cell_type": "markdown",
   "metadata": {},
   "source": [
    "The following shows how we can get data for different levels of detail and use **multiple layers** to overlay them. "
   ]
  },
  {
   "cell_type": "code",
   "execution_count": null,
   "metadata": {},
   "outputs": [],
   "source": [
    "state <- map_data(\"state\")\n",
    "county <- map_data(\"county\")\n",
    "usa <- map_data(\"usa\")\n",
    "\n",
    "gg <- ggplot() +\n",
    "      geom_map(data=county, map=county, aes(map_id=region), color=\"grey\", fill=NA, size=0.1) + \n",
    "\n",
    "      geom_map(data=state, map=state, aes(map_id=region), color=\"red\", fill=NA, size=0.3) +\n",
    "\n",
    "      geom_map(data=usa, map=usa, aes(map_id=region), color=\"blue\", fill=NA, size=0.6) + \n",
    "\n",
    "      coord_map(\"albers\", lat0=30, lat1=40) + \n",
    "      expand_limits(x=usa$long, y=usa$lat) +\n",
    "      theme_void()\n",
    "gg"
   ]
  },
  {
   "cell_type": "markdown",
   "metadata": {},
   "source": [
    "Take a look at the county map data: we can pick counties for a given state using `region` for subsetting."
   ]
  },
  {
   "cell_type": "code",
   "execution_count": null,
   "metadata": {},
   "outputs": [],
   "source": [
    "head(county)"
   ]
  },
  {
   "cell_type": "code",
   "execution_count": null,
   "metadata": {},
   "outputs": [],
   "source": [
    "#Let's pick Missouri\n",
    "mo <- county[which(county$region==\"missouri\"),]\n",
    "head(mo)"
   ]
  },
  {
   "cell_type": "markdown",
   "metadata": {},
   "source": [
    "Same thing could also be done like this:"
   ]
  },
  {
   "cell_type": "code",
   "execution_count": null,
   "metadata": {},
   "outputs": [],
   "source": [
    "mo2 <- map_data(\"county\", \"missouri\")\n",
    "head(mo2)"
   ]
  },
  {
   "cell_type": "markdown",
   "metadata": {},
   "source": [
    "Let's select the Boone county from MO. **County names are NOT unique!** There are Boone counties in other states, too, so we will combine Boone and Missouri like this:"
   ]
  },
  {
   "cell_type": "code",
   "execution_count": null,
   "metadata": {},
   "outputs": [],
   "source": [
    "boone <- county[which(county$subregion==\"boone\" & county$region==\"missouri\"),]"
   ]
  },
  {
   "cell_type": "code",
   "execution_count": null,
   "metadata": {},
   "outputs": [],
   "source": [
    "gg <- ggplot() + \n",
    "      geom_map(data=mo, map=mo, aes(map_id=region), color=\"black\", fill=NA, size=0.1) + \n",
    "      geom_map(data=boone, map=boone, aes(map_id=region), color=\"red\", fill=NA, size=0.4) + \n",
    "\n",
    "      coord_map(\"polyconic\") + \n",
    "      expand_limits(x=mo$long, y=mo$lat) +\n",
    "      theme_void()\n",
    "gg"
   ]
  },
  {
   "cell_type": "markdown",
   "metadata": {},
   "source": [
    "### YOUR TURN:\n",
    "\n",
    "**Plot the same map as above with neighbor counties of Boone county colored blue**. (Neighbors are Audrain, Callaway, Cole, Cooper, Howard, Moniteau, Randolph counties)."
   ]
  },
  {
   "cell_type": "code",
   "execution_count": null,
   "metadata": {},
   "outputs": [],
   "source": [
    "< YOUR CODE HERE >\n"
   ]
  },
  {
   "cell_type": "markdown",
   "metadata": {},
   "source": [
    "---\n",
    "\n",
    "**Let's get coordinates of some of the cities in MO and display them.** \n"
   ]
  },
  {
   "cell_type": "code",
   "execution_count": null,
   "metadata": {},
   "outputs": [],
   "source": [
    "# this data frame has all the info we need\n",
    "head(us.cities)"
   ]
  },
  {
   "cell_type": "code",
   "execution_count": null,
   "metadata": {},
   "outputs": [],
   "source": [
    "mo_cities <- subset(us.cities, country.etc==\"MO\")\n",
    "mo_cities"
   ]
  },
  {
   "cell_type": "code",
   "execution_count": null,
   "metadata": {},
   "outputs": [],
   "source": [
    "# This is a bubble map overlayed on the previous map we created \n",
    "gg + geom_point(data=mo_cities, aes(x=long, y=lat, size=pop, color=factor(capital))) +\n",
    "scale_color_manual(values=c(\"blue\",\"red\"))"
   ]
  },
  {
   "cell_type": "markdown",
   "metadata": {},
   "source": [
    "---\n",
    "\n",
    "**Now, let's finish with a similar plot like in the beginning for the airline routes**, but this time using `ggplot` and `dplyr` for smarter data manipulation. \n",
    "\n",
    "Study the following code cells to understand how the map is constructed."
   ]
  },
  {
   "cell_type": "code",
   "execution_count": null,
   "metadata": {},
   "outputs": [],
   "source": [
    "# pick only busy routes \n",
    "flights <- subset(flights, cnt>300)\n",
    "\n",
    "# get airport locations\n",
    "airport_locs <- airports[, c(\"iata\",\"long\", \"lat\")]"
   ]
  },
  {
   "cell_type": "code",
   "execution_count": null,
   "metadata": {},
   "outputs": [],
   "source": [
    "library(dplyr)\n",
    "\n",
    "# Link airport lat long to origin and destination\n",
    "\n",
    "OD <- left_join(flights, airport_locs, by=c(\"airport1\"=\"iata\"))\n",
    "OD <- left_join(OD, airport_locs, by=c(\"airport2\"=\"iata\"))\n",
    "head(OD)"
   ]
  },
  {
   "cell_type": "code",
   "execution_count": null,
   "metadata": {},
   "outputs": [],
   "source": [
    "# Now, create curves on the map with a fixed curvature - no great circle computation \n",
    "ggplot() + \n",
    "\n",
    "geom_map(data=world,map=world, aes(map_id=region), fill=\"#e6ef86\", color=\"black\", size=0.1) +\n",
    "\n",
    "geom_curve(data=OD, aes(x=long.x, y=lat.x, xend=long.y, yend=lat.y, color=cnt), size=0.1,\n",
    "                 curvature=-0.2, arrow=arrow(length=unit(0.01, \"npc\"))) +\n",
    "    \n",
    "scale_colour_distiller(palette=\"Blues\", guide=\"none\") +\n",
    "\n",
    "coord_equal() +\n",
    "\n",
    "xlim(c(-172,-57)) + ylim(c(12,72)) + \n",
    "\n",
    "theme_void()"
   ]
  },
  {
   "cell_type": "markdown",
   "metadata": {},
   "source": [
    "### YOUR TURN: \n",
    "\n",
    "Use the above code and modify it to display only the contiguous United States and add state boundaries (Hint: change the map to one of the earlier maps we have used and play with xlim and ylim)."
   ]
  },
  {
   "cell_type": "code",
   "execution_count": null,
   "metadata": {},
   "outputs": [],
   "source": [
    "< YOUR CODE HERE > \n"
   ]
  }
 ],
 "metadata": {
  "kernelspec": {
   "display_name": "R",
   "language": "R",
   "name": "ir"
  },
  "language_info": {
   "codemirror_mode": "r",
   "file_extension": ".r",
   "mimetype": "text/x-r-source",
   "name": "R",
   "pygments_lexer": "r",
   "version": "3.5.1"
  }
 },
 "nbformat": 4,
 "nbformat_minor": 2
}
