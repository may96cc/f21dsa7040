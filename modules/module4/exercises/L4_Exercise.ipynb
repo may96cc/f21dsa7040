{
 "cells": [
  {
   "cell_type": "markdown",
   "metadata": {},
   "source": [
    "# Module 4 R Exercise\n",
    "\n",
    "In these exercises, we will use ggplot2 and plotly functions to plot some statistical plots about a data set. \n",
    "\n",
    "**Have your ggplot2 and plotly cheatsheets and documentation handy to find the right parameters for the functions.** \n",
    "\n",
    "Let's read the Gapminder data from the web resource."
   ]
  },
  {
   "cell_type": "code",
   "execution_count": null,
   "metadata": {},
   "outputs": [],
   "source": [
    "library(ggplot2)\n",
    "library(plotly)\n",
    "library(RColorBrewer)\n",
    "\n",
    "data <- read.csv(\"https://raw.githubusercontent.com/plotly/datasets/master/gapminderDataFiveYear.csv\")\n",
    "head(data)"
   ]
  },
  {
   "cell_type": "markdown",
   "metadata": {},
   "source": [
    "**Exercise 1:** Use which() function to get a subset of the data between years 1951 and 1993. "
   ]
  },
  {
   "cell_type": "code",
   "execution_count": null,
   "metadata": {},
   "outputs": [],
   "source": [
    "data_sub <- data[which(<-YOUR CODE HERE->), ]"
   ]
  },
  {
   "cell_type": "markdown",
   "metadata": {},
   "source": [
    "**Exercise 2:** Plot **small multiples of histograms** of **life expectancy for each year** for the subset. Use a binwidth of **5**, and use sensible axis labels."
   ]
  },
  {
   "cell_type": "code",
   "execution_count": null,
   "metadata": {},
   "outputs": [],
   "source": [
    "ggplot(<-YOUR CODE HERE->) + \n",
    " geom_histogram(<-YOUR CODE HERE->) +\n",
    "  <-YOUR CODE HERE->"
   ]
  },
  {
   "cell_type": "markdown",
   "metadata": {},
   "source": [
    "**Exercise 3:** Do the same as above, but plot a density function this time. How do you interpret the change of density in years?"
   ]
  },
  {
   "cell_type": "code",
   "execution_count": null,
   "metadata": {},
   "outputs": [],
   "source": [
    "ggplot(<-YOUR CODE HERE->) +  \n",
    " <-YOUR CODE HERE->"
   ]
  },
  {
   "cell_type": "markdown",
   "metadata": {},
   "source": [
    "**Exercise 4:** Create a line plot (use both geom_line and geom_point) to plot year versus population for the **whole** data set. Use a logarithmic scale in **y axis** and **group by country**, **color by continent**. Can you see any pattern? "
   ]
  },
  {
   "cell_type": "code",
   "execution_count": null,
   "metadata": {},
   "outputs": [],
   "source": [
    "ggplot(<-YOUR CODE HERE->, aes(<-YOUR CODE HERE->, group=country)) +\n",
    "       <-YOUR CODE HERE->"
   ]
  },
  {
   "cell_type": "markdown",
   "metadata": {},
   "source": [
    "**Aggregate data:** The above plot is too crowded to see anything. Let's aggregate data by continent and year so that we can have meaningful data to plot. The following code creates a new data frame by computing the sums of population for years and continents."
   ]
  },
  {
   "cell_type": "code",
   "execution_count": null,
   "metadata": {},
   "outputs": [],
   "source": [
    "aggdata <- aggregate(data$pop, by=list(continent=data$continent, year=data$year), FUN=sum, na.rm=TRUE)\n",
    "\n",
    "head(aggdata)"
   ]
  },
  {
   "cell_type": "markdown",
   "metadata": {},
   "source": [
    "**Exercise 5:** Now **repeat exercise 4 with this aggregate data** and group and color by continent. Do you see a pattern ?? "
   ]
  },
  {
   "cell_type": "code",
   "execution_count": null,
   "metadata": {},
   "outputs": [],
   "source": [
    "ggplot(<-YOUR CODE HERE->, aes(<-YOUR CODE HERE->, group=continent)) +\n",
    "       <-YOUR CODE HERE->"
   ]
  },
  {
   "cell_type": "markdown",
   "metadata": {},
   "source": [
    "**Exercise 6:** Now, plot a **stacked area chart** to see the same. Instead of group and color, use only **fill** parameter for **continent**, and use **geom_area**."
   ]
  },
  {
   "cell_type": "code",
   "execution_count": null,
   "metadata": {},
   "outputs": [],
   "source": [
    "ggplot(<-YOUR CODE HERE->, aes(<-YOUR CODE HERE->,fill=continent)) + <-YOUR CODE HERE-> + scale_fill_brewer(palette=\"Set2\")\n"
   ]
  },
  {
   "cell_type": "markdown",
   "metadata": {},
   "source": [
    "**Find percentages:** The above plot shows actual population numbers and they grow in time. We want to see the percentage change of the continents' populations with respect to total world population. The code below computes that. "
   ]
  },
  {
   "cell_type": "code",
   "execution_count": null,
   "metadata": {},
   "outputs": [],
   "source": [
    "my_fun=function(vec){ as.numeric(vec[3]) / sum(aggdata$x[aggdata$year==vec[2]]) *100 }\n",
    "aggdata$perc=apply(aggdata , 1 , my_fun)\n",
    "\n",
    "head(aggdata)"
   ]
  },
  {
   "cell_type": "markdown",
   "metadata": {},
   "source": [
    "**Exercise 7:** Now, **plot the same as exercise 6** but use **perc** as the y axis. "
   ]
  },
  {
   "cell_type": "code",
   "execution_count": null,
   "metadata": {},
   "outputs": [],
   "source": [
    "ggplot(<-YOUR CODE HERE->, aes(<-YOUR CODE HERE->, fill=continent)) + \n",
    "    <-YOUR CODE HERE-> + scale_fill_brewer(palette=\"Set2\")"
   ]
  },
  {
   "cell_type": "markdown",
   "metadata": {},
   "source": [
    "**Exercise 8:** We will aggregate once more; this time we will compute the **mean gdp per capita for continents and years**. **It's your turn this time.**"
   ]
  },
  {
   "cell_type": "code",
   "execution_count": null,
   "metadata": {},
   "outputs": [],
   "source": [
    "aggdata2 <- aggregate(<-YOUR CODE HERE->, by=list(<-YOUR CODE HERE->), FUN=<-YOUR CODE HERE->, na.rm=TRUE)\n",
    "head(aggdata2)"
   ]
  },
  {
   "cell_type": "markdown",
   "metadata": {},
   "source": [
    "**Exercise 9:** Plot a **heatmap** using **plot_ly function** for **years** vs. **continents** using the **mean gdp per capita as the z value**. "
   ]
  },
  {
   "cell_type": "code",
   "execution_count": null,
   "metadata": {},
   "outputs": [],
   "source": [
    "plot_ly(aggdata2, <-YOUR CODE HERE->, type=\"heatmap\", colors=colorRamp(c(\"white\", \"blue\")))\n",
    "        \n"
   ]
  },
  {
   "cell_type": "markdown",
   "metadata": {},
   "source": [
    "**Exercise 10:** Plot a **boxplot** for **gdp per capita** using **plot_ly function** for **continents**. \n",
    "\n",
    "Use the **whole** data set, **color by continent**, and make sure **y axis is in log scale**. \n",
    "\n",
    "**When hovering over data, what do you notice about first and third quartiles for each continent (hint: think of income inequality) ?** "
   ]
  },
  {
   "cell_type": "code",
   "execution_count": null,
   "metadata": {},
   "outputs": [],
   "source": [
    "plot_ly(<-YOUR CODE HERE->, type=\"box\") %>% layout(yaxis = list(type = \"log\"))\n",
    "        \n"
   ]
  }
 ],
 "metadata": {
  "kernelspec": {
   "display_name": "R",
   "language": "R",
   "name": "ir"
  },
  "language_info": {
   "codemirror_mode": "r",
   "file_extension": ".r",
   "mimetype": "text/x-r-source",
   "name": "R",
   "pygments_lexer": "r",
   "version": "3.5.1"
  }
 },
 "nbformat": 4,
 "nbformat_minor": 2
}
