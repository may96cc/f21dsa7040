{
 "cells": [
  {
   "cell_type": "markdown",
   "metadata": {},
   "source": [
    "## Module 4 Practice - Heatmaps\n",
    "\n",
    "\n",
    "\n",
    "This practice notebook has exercises for plotting **heatmaps** using R and ggplot library.\n"
   ]
  },
  {
   "cell_type": "markdown",
   "metadata": {},
   "source": [
    "There are different types of heatmaps used in different disciplines; each referred to by the term “heatmap”, even though they use slightly different visualization techniques.\n",
    "\n",
    " - **Clustered heatmaps**: these heatmaps have a tiled arrangement of variables, and by reordering the rows and columns, they can visualize clusters in the data. Microarray or gene expression heatmaps are clustered heatmaps. \n",
    " \n",
    " - **Spatial heatmaps**: these heatmaps represent densities of two variables; the x and y axes show discrete or continuous values of these two variables as a fixed, ordered grid. Shades of colors represent densities. \n",
    " "
   ]
  },
  {
   "cell_type": "markdown",
   "metadata": {},
   "source": [
    "## Cluster Heatmaps \n",
    "\n",
    "R has a base `heatmap()` function that can be used for clustered heatmaps. The following is an example of clustering data in mtcars data set: \n",
    "\n",
    "\n",
    " "
   ]
  },
  {
   "cell_type": "code",
   "execution_count": null,
   "metadata": {},
   "outputs": [],
   "source": [
    "data <- as.matrix(mtcars) \n",
    "heatmap(data)\n"
   ]
  },
  {
   "cell_type": "markdown",
   "metadata": {},
   "source": [
    "**Because the data is not normalized**, we don't see a pattern. We can either normalize the data by scale() function, or let the heatmap function do it: \n"
   ]
  },
  {
   "cell_type": "code",
   "execution_count": null,
   "metadata": {},
   "outputs": [],
   "source": [
    "heatmap(data, scale=\"column\") #"
   ]
  },
  {
   "cell_type": "code",
   "execution_count": null,
   "metadata": {},
   "outputs": [],
   "source": [
    "# or like this: \n",
    "sdata <- scale(mtcars)\n",
    "heatmap(sdata, scale=\"none\")"
   ]
  },
  {
   "cell_type": "code",
   "execution_count": null,
   "metadata": {},
   "outputs": [],
   "source": [
    "# we can also change the palette \n",
    "library(\"RColorBrewer\")\n",
    "colp <- colorRampPalette(brewer.pal(10, \"RdYlBu\"))(300)\n",
    "heatmap(sdata, scale=\"none\", col=colp)"
   ]
  },
  {
   "cell_type": "markdown",
   "metadata": {},
   "source": [
    "Here is a [link to the `heatmap()` documentation.](https://www.rdocumentation.org/packages/stats/versions/3.6.2/topics/heatmap) For more reading on heatmaps, and diving deep for heatmaps in bioinformatics, you can follow these links:\n",
    "\n",
    " - [The history of the cluster heatmap](https://citeseerx.ist.psu.edu/viewdoc/summary?doi=10.1.1.165.7924)\n",
    "  \n",
    " - [Making heatmaps in R](http://compbio.ucsd.edu/making-heat-maps-r/)  \n",
    " \n",
    " ---"
   ]
  },
  {
   "cell_type": "markdown",
   "metadata": {},
   "source": [
    "The following is another example of a heatmap that visualizes a matrix of numbers, in this case, NBA statistics. "
   ]
  },
  {
   "cell_type": "code",
   "execution_count": null,
   "metadata": {},
   "outputs": [],
   "source": [
    "library(RColorBrewer)\n",
    "nba <- read.csv(\"/dsa/data/all_datasets/ppg2008.csv\", sep=\",\")\n",
    "head(nba)"
   ]
  },
  {
   "cell_type": "code",
   "execution_count": null,
   "metadata": {
    "scrolled": false
   },
   "outputs": [],
   "source": [
    "# Let's sort, add names, and display the statistics as a matrix heatmap. \n",
    "nba <- nba[order(nba$PTS),]\n",
    "row.names(nba) <- nba$Name\n",
    "nba_data <- as.matrix(nba[,2:20])\n"
   ]
  },
  {
   "cell_type": "code",
   "execution_count": null,
   "metadata": {
    "scrolled": false
   },
   "outputs": [],
   "source": [
    "#nba_matrix <- data.matrix(nba)\n",
    "heatmap(nba_data, Rowv=NA, Colv=NA, col=brewer.pal(9, \"Blues\"), scale=\"column\", margins=c(5,10))"
   ]
  },
  {
   "cell_type": "markdown",
   "metadata": {},
   "source": [
    "**We can also use ggplot to create heatmaps with `geom_tile()`**"
   ]
  },
  {
   "cell_type": "code",
   "execution_count": null,
   "metadata": {
    "scrolled": false
   },
   "outputs": [],
   "source": [
    "library(ggplot2)\n",
    "library(reshape2)\n",
    "library(plyr)\n",
    "library(scales)\n",
    "\n",
    "# base heatmap() function requires a matrix, but ggplot works with a data frame, \n",
    "# so we will convert the data from wide format to long format\n",
    "lnba <- melt(nba)\n",
    "lnba <- ddply(lnba, .(variable), transform, rescale=rescale(value)) # we also do the normalization here \n",
    "\n",
    "# compare lnba and nba to see what we have done. "
   ]
  },
  {
   "cell_type": "code",
   "execution_count": null,
   "metadata": {},
   "outputs": [],
   "source": [
    "p <- ggplot(lnba, aes(variable, Name)) +  # each attribute column in the original data became rows of observation\n",
    "\n",
    "     geom_tile(aes(fill = rescale), color = \"white\") + \n",
    "     \n",
    "     scale_fill_gradient(low = \"white\",high = \"steelblue\") \n",
    "\n",
    "p\n",
    "\n"
   ]
  },
  {
   "cell_type": "code",
   "execution_count": null,
   "metadata": {},
   "outputs": [],
   "source": [
    "# Let's tweak with it to make it look better: \n",
    "p +   labs(x=\"\", y=\"\") + \n",
    "      scale_x_discrete(expand = c(0, 0)) +\n",
    "      scale_y_discrete(expand = c(0, 0)) + \n",
    "      theme(legend.position=\"none\", axis.text.x = element_text(angle = 45), axis.ticks = element_blank())"
   ]
  },
  {
   "cell_type": "markdown",
   "metadata": {},
   "source": [
    "## YOUR TURN\n",
    "\n",
    "**Create a heatmap of the mtcars data using ggplot.** Here is how it starts: "
   ]
  },
  {
   "cell_type": "code",
   "execution_count": null,
   "metadata": {},
   "outputs": [],
   "source": [
    "head(mtcars)\n",
    "lcars <- melt(mtcars)\n",
    "lcars$car <- rep(row.names(mtcars), 11)\n",
    "\n",
    "# compare mtcars to lcars to see what we have done. \n"
   ]
  },
  {
   "cell_type": "code",
   "execution_count": null,
   "metadata": {},
   "outputs": [],
   "source": [
    "\n",
    "\n",
    "ggplot(<YOUR CODE>) +\n",
    "\n",
    "geom_tile(aes(<YOUR CODE>), colour = \"white\") +\n",
    "\n",
    "scale_fill_gradient(low = \"white\", high = \"red\")\n",
    "\n"
   ]
  },
  {
   "cell_type": "markdown",
   "metadata": {},
   "source": [
    "**We have to scale the variables for better visualization:**"
   ]
  },
  {
   "cell_type": "code",
   "execution_count": null,
   "metadata": {},
   "outputs": [],
   "source": [
    "#rescale values for all variables in melted data frame\n",
    "lcars <- ddply(lcars, .(variable), transform, rescale = rescale(value))\n",
    "\n",
    "#create heatmap using rescaled values\n",
    "\n",
    "ggplot(<YOUR CODE>) +\n",
    "\n",
    "geom_tile(<YOUR CODE>) +\n",
    "\n",
    "labs(x=\"\", y=\"\") + \n",
    "\n",
    "scale_fill_gradientn(colors=brewer.pal(10,\"RdYlBu\")) + # create a continuous palette from discrete brewer palette \n",
    "\n",
    "scale_x_discrete(expand = c(0, 0)) +\n",
    "\n",
    "scale_y_discrete(expand = c(0, 0)) + \n",
    "\n",
    "theme(legend.position=\"none\", axis.ticks = element_blank())"
   ]
  },
  {
   "cell_type": "markdown",
   "metadata": {},
   "source": [
    "**What's the difference between this heatmap and the baseline `heatmap()` function?**"
   ]
  },
  {
   "cell_type": "markdown",
   "metadata": {},
   "source": [
    "---\n",
    "\n",
    "\n",
    "Let's load the familiar Kings county data for house prices. We will plot a heatmap to show **the distribution of houses between floors and the year** in which the house is built. The sequential color of tiles will represent number of houses built (white: fewer numbers, blue: larger numbers)."
   ]
  },
  {
   "cell_type": "code",
   "execution_count": null,
   "metadata": {},
   "outputs": [],
   "source": [
    "kc_house_data = read.csv(\"/dsa/data/all_datasets/house_sales_in_king_county/kc_house_data.csv\")"
   ]
  },
  {
   "cell_type": "markdown",
   "metadata": {},
   "source": [
    "Below, we compute the distribution of every combination of houses for yr_built and floors. **`yr_built_floors`** dataframe has yr_built, floors, and Freq that represents the number of houses for that combination of year and floors. "
   ]
  },
  {
   "cell_type": "code",
   "execution_count": null,
   "metadata": {},
   "outputs": [],
   "source": [
    "yr_built_floors = as.data.frame(table(kc_house_data$yr_built, kc_house_data$floors))"
   ]
  },
  {
   "cell_type": "code",
   "execution_count": null,
   "metadata": {},
   "outputs": [],
   "source": [
    "str(yr_built_floors)"
   ]
  },
  {
   "cell_type": "markdown",
   "metadata": {},
   "source": [
    "## YOUR TURN\n",
    "\n",
    "**Complete the following code to visualize the house numbers.**"
   ]
  },
  {
   "cell_type": "code",
   "execution_count": null,
   "metadata": {},
   "outputs": [],
   "source": [
    "ggplot(<YOUR CODE>) + \n",
    "\n",
    "geom_tile(<YOUR CODE>) +   \n",
    "\n",
    "scale_fill_gradient(name=\"count\",low=\"white\",high=\"blue\") + \n",
    "\n",
    "scale_y_discrete(breaks=c(seq(1900, 2020, by=10))) +\n",
    "\n",
    "scale_x_discrete(labels=levels(yr_built_floors$Var2)) +\n",
    "\n",
    "xlab(\"Floors\") + \n",
    "\n",
    "ylab(\"Built Year\") + \n",
    "\n",
    "labs(title=\"Houses built from 1900 to 2015\")"
   ]
  },
  {
   "cell_type": "markdown",
   "metadata": {},
   "source": [
    "**It seems like single floor houses were popular from 50's to 80's, double floor houses are more popular now. Can you make this plot look better?**\n",
    "\n",
    "**This plot is actually a 2D histogram** where frequencies are represented by color instead of bar size. ggplot has a way of doing 2D histograms, as we will see below. "
   ]
  },
  {
   "cell_type": "markdown",
   "metadata": {},
   "source": [
    "---\n",
    "\n",
    "## Spatial Heatmaps and Density Plots \n",
    "\n",
    "Let's start with the diamonds data set and plot a scatterplot with transparency to mitigate the crowded data points in the plot. This is a simple density plot as the transparency help us to perceive the density of points. "
   ]
  },
  {
   "cell_type": "code",
   "execution_count": null,
   "metadata": {},
   "outputs": [],
   "source": [
    "library(ggplot2)\n",
    "data(diamonds)\n",
    "str(diamonds)\n",
    "head(diamonds)\n",
    "d <- ggplot(diamonds, aes(carat, price)) + geom_point(alpha=0.2, color=\"navy\")\n",
    "d"
   ]
  },
  {
   "cell_type": "markdown",
   "metadata": {},
   "source": [
    "**It does not do a good job in visualizing the density of the points.** We can create a **2D histogram** to show the count of points. "
   ]
  },
  {
   "cell_type": "code",
   "execution_count": null,
   "metadata": {},
   "outputs": [],
   "source": [
    "# heatmap\n",
    "d <- ggplot(diamonds, aes(carat, price)) + geom_bin2d(bins=60)\n",
    "d "
   ]
  },
  {
   "cell_type": "markdown",
   "metadata": {},
   "source": [
    "**This is better, but using log scale for color palette would better show the density variations, so let's do that.**"
   ]
  },
  {
   "cell_type": "code",
   "execution_count": null,
   "metadata": {},
   "outputs": [],
   "source": [
    "d + scale_fill_gradient(trans=\"log\")"
   ]
  },
  {
   "cell_type": "markdown",
   "metadata": {},
   "source": [
    "**We can also create a 2D density plot like this:** "
   ]
  },
  {
   "cell_type": "code",
   "execution_count": null,
   "metadata": {},
   "outputs": [],
   "source": [
    "# Or we can 2D density estimate to the plot\n",
    " ggplot(diamonds, aes(carat, price)) + stat_density_2d(aes(fill = ..level..), geom=\"polygon\", bins=10)\n",
    " "
   ]
  },
  {
   "cell_type": "markdown",
   "metadata": {},
   "source": [
    "---\n",
    "\n",
    "### Heatmaps on Geospatial Maps\n",
    "\n",
    "Heatmaps are frequently used with **geospatial maps**. Let's generate the map for **Seattle** and overlay a density heatmap on it. \n",
    "\n",
    "get_map() in **`ggmap`** library will fetch you the geospatial map of a supplied location. It queries Google Maps, OpenStreetMap, Stamen Maps, or Naver Map servers for a map. The location can be an address, longitude/latitude pair (in that order), or left/bottom/right/top bounding box. For it to work with the default Google maps, a **Google Maps api key** needs to be supplied to Google. For this course, we will use DSA's api key as shown in the following example. You can also get your own api keys that come with some credit to allow you to use them for free up to a limit of monthly map queries. "
   ]
  },
  {
   "cell_type": "markdown",
   "metadata": {},
   "source": [
    "**Reference:**\n",
    "\n",
    "\n",
    "- [ggmap](https://www.rdocumentation.org/packages/ggmap/versions/2.6.1/topics/ggmap)\n",
    "- [get_map()](https://www.rdocumentation.org/packages/ggmap/versions/2.6.1/topics/get_map)"
   ]
  },
  {
   "cell_type": "code",
   "execution_count": null,
   "metadata": {},
   "outputs": [],
   "source": [
    "library(ggmap)\n",
    "# let's read the api key from file and register it so that the subsequent calls to get_map() will work. \n",
    "# This has to be run at least once before any calls to get_map() can be placed. \n",
    "apikey <- scan(\"/dsa/data/all_datasets/ggmap_api_key.txt\", what=\"character\")\n",
    "register_google(key = apikey)"
   ]
  },
  {
   "cell_type": "code",
   "execution_count": null,
   "metadata": {},
   "outputs": [],
   "source": [
    "# get the map \n",
    "kc_map_outline <- get_map(location='Seattle', zoom=11)\n",
    "\n",
    "# create the map layer \n",
    "kc_map <- ggmap(kc_map_outline)\n",
    "\n",
    "# put a point layer on top \n",
    "kc_map <- kc_map + geom_point(data=kc_house_data, aes(x=long, y=lat), inherit.aes=FALSE, color='red', alpha=0.2)\n",
    "kc_map"
   ]
  },
  {
   "cell_type": "markdown",
   "metadata": {},
   "source": [
    "**`geom_density2d`** in below code will draw the 2d contours based on the density of data points. The number of contours around a region is proportional to density of points. **`stat_density2d`** will show the heatmap based on number of data points. The map is shaded red if the number of data points are more in the region and yellow otherwise. "
   ]
  },
  {
   "cell_type": "markdown",
   "metadata": {},
   "source": [
    "**Rerefence:**\n",
    "\n",
    "- [geom_density2d](https://www.rdocumentation.org/packages/ggplot2/versions/1.0.1/topics/geom_density2d)\n",
    "- [stat_density2d](https://www.rdocumentation.org/packages/ggplot2/versions/1.0.1/topics/stat_density2d)"
   ]
  },
  {
   "cell_type": "code",
   "execution_count": null,
   "metadata": {},
   "outputs": [],
   "source": [
    "ggmap(kc_map_outline) + \n",
    "geom_density2d(data = kc_house_data, aes(x = long, y = lat), size = 0.3) + \n",
    "stat_density2d(data = kc_house_data, aes(x = long, y = lat, fill = ..level.., alpha = ..level..), size = 0.01, bins = 16, geom = \"polygon\") + \n",
    "scale_fill_gradient(low = \"yellow\", high = \"red\") + \n",
    "scale_alpha(range = c(0, 0.3), guide = FALSE)"
   ]
  },
  {
   "cell_type": "markdown",
   "metadata": {},
   "source": [
    "Below plot is a scatter plot where size of the data point indicates the price of the house. By using transparency, we can efficiently visualize superposed data points and approximate to a heatmap."
   ]
  },
  {
   "cell_type": "code",
   "execution_count": null,
   "metadata": {},
   "outputs": [],
   "source": [
    "circle_scale_amt = 0.000001\n",
    "ggmap(kc_map_outline) + \n",
    "    geom_point(data=kc_house_data, aes(x=long, y=lat),col=\"orange\",alpha=0.3, size=kc_house_data$price*circle_scale_amt) + \n",
    "    scale_size_continuous(range=range(kc_house_data$price))"
   ]
  }
 ],
 "metadata": {
  "anaconda-cloud": {},
  "kernelspec": {
   "display_name": "R",
   "language": "R",
   "name": "ir"
  },
  "language_info": {
   "codemirror_mode": "r",
   "file_extension": ".r",
   "mimetype": "text/x-r-source",
   "name": "R",
   "pygments_lexer": "r",
   "version": "3.5.1"
  }
 },
 "nbformat": 4,
 "nbformat_minor": 1
}
