{
 "cells": [
  {
   "cell_type": "markdown",
   "metadata": {},
   "source": [
    "## Module 4 Practice - Histograms\n",
    "\n",
    "This practice notebook has exercises for plotting histograms using **R, ggplot, and plot.ly** libraries. \n",
    "\n",
    "A **histogram** is a bar chart where each bar represents the count of data items that fall to the corresponding bin in the x axis. \n",
    "\n",
    "\n",
    "In ggplot, histograms can be plotted either by modifying geom_bar, or simply by using geom_histogram() geom. \n",
    "\n",
    "We will read the USDA data to plot some histogram examples. "
   ]
  },
  {
   "cell_type": "code",
   "execution_count": null,
   "metadata": {},
   "outputs": [],
   "source": [
    "usda_data = read.csv(\"/dsa/data/all_datasets/USDA.csv\")\n",
    "head(usda_data)"
   ]
  },
  {
   "cell_type": "code",
   "execution_count": null,
   "metadata": {},
   "outputs": [],
   "source": [
    "summary(usda_data)"
   ]
  },
  {
   "cell_type": "markdown",
   "metadata": {},
   "source": [
    "Remove the NA values from Calories variable. "
   ]
  },
  {
   "cell_type": "code",
   "execution_count": null,
   "metadata": {},
   "outputs": [],
   "source": [
    "usda_data=usda_data[!is.na(usda_data$Calories),]"
   ]
  },
  {
   "cell_type": "markdown",
   "metadata": {},
   "source": [
    "### Qplot in ggplot\n",
    "\n",
    "Qplot is a convenient wrapper for ggplot to create a number of different types of plots using a consistent calling scheme that is similar to the base graphics capability of R. It is also referred to as quick plot. \n",
    "\n",
    "In below plot, a histogram is plotted using the string **`histogram`** supplied to **`geom`** parameter. \n",
    "\n",
    "**Binwidth tells ggplot to form bins of specified width.** With a binwidth of 10, each bin in below plot represents a range of calories like (50-59) on x axis, and the data items falling within these ranges are counted and depicted as the frequencies of corresponding bins."
   ]
  },
  {
   "cell_type": "code",
   "execution_count": null,
   "metadata": {},
   "outputs": [],
   "source": [
    "library(ggplot2)\n",
    "qplot(Calories, data=usda_data, geom=\"histogram\",binwidth=10)"
   ]
  },
  {
   "cell_type": "markdown",
   "metadata": {},
   "source": [
    "The **`weight`** aesthetic when used with histograms or bar charts can be used to create weighted histograms and bar charts.\n",
    "\n",
    "**Here, the height of the bar no longer represents count of observations, but a sum over some other variable.**"
   ]
  },
  {
   "cell_type": "code",
   "execution_count": null,
   "metadata": {},
   "outputs": [],
   "source": [
    "qplot(Calories, data=usda_data, geom=\"histogram\", weight=Protein, binwidth=10, ylab = \"Protein\") "
   ]
  },
  {
   "cell_type": "markdown",
   "metadata": {},
   "source": [
    "---\n",
    "\n",
    "\n",
    "### Layered Grammar of ggplot\n",
    "\n",
    "We can use the ggplot syntax instead of qplot to create plots that follow the layered grammar convention of ggplot. The histogram can be also plotted like this:"
   ]
  },
  {
   "cell_type": "code",
   "execution_count": null,
   "metadata": {},
   "outputs": [],
   "source": [
    "\n",
    "(p <- ggplot(usda_data, aes(x=Calories)) + geom_histogram(binwidth=10, fill=\"lightblue\") + ylab(\"Frequency\"))\n",
    "    \n"
   ]
  },
  {
   "cell_type": "markdown",
   "metadata": {},
   "source": [
    "### Density Curve on Histogram\n",
    "\n",
    "A density curve can be plotted on a histogram that represents the probability density function of that variable. Density can be overlayed on histogram with a transparent density plot. The alpha value controls the level of transparency as shown in below example. This shows the layered structure of ggplot where two layers (histogram and density) can be plotted on the same plot. \n",
    "\n",
    "**..density..** is a derived variable computed by the ggplot on the fly."
   ]
  },
  {
   "cell_type": "code",
   "execution_count": null,
   "metadata": {},
   "outputs": [],
   "source": [
    "# Histogram with density plot\n",
    "ggplot(usda_data, aes(x=Calories)) + \n",
    " geom_histogram(aes(y=..density..), colour=\"black\", fill=\"lightblue\", binwidth=10) +\n",
    " geom_density(alpha=.2, fill=\"red\") "
   ]
  },
  {
   "cell_type": "markdown",
   "metadata": {},
   "source": [
    "---\n",
    "\n",
    "## Plotly Library\n",
    "\n",
    "We can plot the same histogram with **Plotly**. **Plotly** gives us the ability to **interact with the plot**. It can either directly convert the ggplot object to plotly plot, or we can use plot_ly functions to plot.\n",
    "\n",
    "If the following cells do not produce plots in the first run, **run them again** and plots should appear in the second run. "
   ]
  },
  {
   "cell_type": "code",
   "execution_count": null,
   "metadata": {
    "scrolled": false
   },
   "outputs": [],
   "source": [
    "library(plotly)\n",
    "\n",
    "p <- ggplot(usda_data, aes(x=Calories)) + geom_histogram(binwidth=10, colour=\"black\", fill=\"lightblue\") + ylab(\"Frequency\")\n",
    "# We are directly using the ggplot object and send it to plotly \n",
    "# It'll take a while, after it's rendered move your mouse over the plot. \n",
    "ggplotly(p)"
   ]
  },
  {
   "cell_type": "code",
   "execution_count": null,
   "metadata": {
    "scrolled": false
   },
   "outputs": [],
   "source": [
    "# and finally, use plot_ly function for the same \n",
    "plot_ly(x=usda_data$Calories , type =\"histogram\")"
   ]
  },
  {
   "cell_type": "markdown",
   "metadata": {},
   "source": [
    "### scale_fill_gradient\n",
    "\n",
    "\n",
    "We can use scale_fill_gradient to fill bars with colors according to frequency. In the below plot, bar colors that are blue represent items that are most frequent, and tan bars indicate food items that are very sparse in the dataset. This is an example of using two visual channels to represent the same quantity."
   ]
  },
  {
   "cell_type": "code",
   "execution_count": null,
   "metadata": {},
   "outputs": [],
   "source": [
    "p <- ggplot(usda_data, aes(x=Calories))\n",
    "p + geom_histogram(aes(fill = ..count..), binwidth=10) +\n",
    "  scale_fill_gradient(\"Count\", low = \"tan\", high = \"blue\")"
   ]
  }
 ],
 "metadata": {
  "anaconda-cloud": {},
  "kernelspec": {
   "display_name": "R",
   "language": "R",
   "name": "ir"
  },
  "language_info": {
   "codemirror_mode": "r",
   "file_extension": ".r",
   "mimetype": "text/x-r-source",
   "name": "R",
   "pygments_lexer": "r",
   "version": "3.5.1"
  }
 },
 "nbformat": 4,
 "nbformat_minor": 1
}
