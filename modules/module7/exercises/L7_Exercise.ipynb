{
 "cells": [
  {
   "cell_type": "markdown",
   "metadata": {},
   "source": [
    "# Module 7 Exercises\n",
    "\n",
    "In this exercise, you will **analyze networks and visualize the results**. \n",
    "\n",
    "\n",
    "Let's start with analyzing the **traffic between airports**."
   ]
  },
  {
   "cell_type": "code",
   "execution_count": null,
   "metadata": {},
   "outputs": [],
   "source": [
    "library(dplyr)\n",
    "library(sp)\n",
    "library(geosphere)\n",
    "library(igraph)\n",
    "library(networkD3)\n",
    "\n",
    "# flight destinations and counts \n",
    "flights <- read.csv(\"/dsa/data/all_datasets/spatial/flights.csv\", as.is=TRUE, header=TRUE)"
   ]
  },
  {
   "cell_type": "markdown",
   "metadata": {},
   "source": [
    "**Exercise 1:** **Create a data frame** that only has `airport1`, `airport2`, and the `cnt` attributes."
   ]
  },
  {
   "cell_type": "code",
   "execution_count": null,
   "metadata": {},
   "outputs": [],
   "source": [
    "df <- <-YOUR CODE HERE->\n",
    "head(df)"
   ]
  },
  {
   "cell_type": "markdown",
   "metadata": {},
   "source": [
    "**Exercise 2:** **Create a graph from this data frame**, use directed=FALSE to make it an **undirected** graph. "
   ]
  },
  {
   "cell_type": "code",
   "execution_count": null,
   "metadata": {},
   "outputs": [],
   "source": [
    "g <- <-YOUR CODE HERE->"
   ]
  },
  {
   "cell_type": "markdown",
   "metadata": {},
   "source": [
    "**Exercise 3:** Plot the network with igraph's `plot` function with a **force-directed layout**. "
   ]
  },
  {
   "cell_type": "code",
   "execution_count": null,
   "metadata": {},
   "outputs": [],
   "source": [
    "# do a force-directed layout \n",
    "layout1 <- <-YOUR CODE HERE->\n",
    "\n",
    "# Let's plot this network without labels\n",
    "# use vertex.size=2 and vertex.label=NA\n",
    "\n",
    "<-YOUR CODE HERE->"
   ]
  },
  {
   "cell_type": "markdown",
   "metadata": {},
   "source": [
    "Now, we will **reduce multiple edges** between vertices by adding all their attributes. There are multiple airlines operating between two airports, **we add their flight counts.**"
   ]
  },
  {
   "cell_type": "code",
   "execution_count": null,
   "metadata": {},
   "outputs": [],
   "source": [
    "# add the flight counts by using \"sum\"\n",
    "gs <- simplify(g, edge.attr.comb=\"sum\")\n",
    "\n",
    "# NORMALIZE the edge weight \n",
    "E(gs)$cnt <- E(gs)$cnt/max(E(gs)$cnt)"
   ]
  },
  {
   "cell_type": "markdown",
   "metadata": {},
   "source": [
    "**Exercise 4:** Plot again, this time, **assign the edge weights to `edge.width` parameter.**"
   ]
  },
  {
   "cell_type": "code",
   "execution_count": null,
   "metadata": {},
   "outputs": [],
   "source": [
    "# do a force-directed layout \n",
    "layout1 <- <-YOUR CODE HERE->\n",
    "\n",
    "# draw the network \n",
    "<-YOUR CODE HERE-> # do not forget edge.width=E(gs)$cnt"
   ]
  },
  {
   "cell_type": "markdown",
   "metadata": {},
   "source": [
    "Now we can see the traffic weighted by the flight counts. Let's change the **size of the vertices by using the traffic**. \n",
    "\n",
    "\n",
    "We need to **sum up the weights of all the edges for each vertex**."
   ]
  },
  {
   "cell_type": "code",
   "execution_count": null,
   "metadata": {},
   "outputs": [],
   "source": [
    "# Summing up the edge weights of the adjacent edges for each vertex.\n",
    "V(gs)$traffic <- strength(gs, mode=\"all\", weights = E(gs)$cnt)\n",
    "\n",
    "\n",
    "# normalize\n",
    "V(gs)$traffic <- V(gs)$traffic/max(V(gs)$traffic)"
   ]
  },
  {
   "cell_type": "markdown",
   "metadata": {},
   "source": [
    "**Exercise 5:** Plot again, this time, **assign the `V(gs)$traffic` to the `vertex.size`. Make sure to multiply it by a value to make the graph look nice.** "
   ]
  },
  {
   "cell_type": "code",
   "execution_count": null,
   "metadata": {},
   "outputs": [],
   "source": [
    "layout1 <- <-YOUR CODE HERE->\n",
    "\n",
    "# draw the network \n",
    "<-YOUR CODE HERE->\n",
    "# do not forget vertex.size= ... and edge.width=..."
   ]
  },
  {
   "cell_type": "markdown",
   "metadata": {},
   "source": [
    "Now we can see that some airports are busier than others, but we don't know their **names**. Let's find out by **removing the vertex shape** and **leaving the vertex label** and use a **font size proportional to the traffic**.\n"
   ]
  },
  {
   "cell_type": "markdown",
   "metadata": {},
   "source": [
    "**Exercise 6:** Plot again, this time: `vertex.shape=\"none\"` and `vertex.label.cex` should be **proportional to traffic.**"
   ]
  },
  {
   "cell_type": "code",
   "execution_count": null,
   "metadata": {},
   "outputs": [],
   "source": [
    "<-YOUR CODE HERE->"
   ]
  },
  {
   "cell_type": "markdown",
   "metadata": {},
   "source": [
    "Let's **get rid of vertices** that do not have much traffic."
   ]
  },
  {
   "cell_type": "code",
   "execution_count": null,
   "metadata": {},
   "outputs": [],
   "source": [
    "# find them \n",
    "dv <- V(gs)$traffic < 0.3\n",
    "\n",
    "#delete them \n",
    "gs <- delete_vertices(gs, V(gs)[dv])"
   ]
  },
  {
   "cell_type": "markdown",
   "metadata": {},
   "source": [
    "**Exercise 7:** Plot again, this time use a **vertex size and label font proportional to traffic** and make sure to make it look nice. "
   ]
  },
  {
   "cell_type": "code",
   "execution_count": null,
   "metadata": {},
   "outputs": [],
   "source": [
    "layout1 <- <-YOUR CODE HERE->\n",
    "<-YOUR CODE HERE->\n",
    "\n",
    "# do not forget vertex.label.cex, vertex.size and edge.width"
   ]
  }
 ],
 "metadata": {
  "kernelspec": {
   "display_name": "R",
   "language": "R",
   "name": "ir"
  },
  "language_info": {
   "codemirror_mode": "r",
   "file_extension": ".r",
   "mimetype": "text/x-r-source",
   "name": "R",
   "pygments_lexer": "r",
   "version": "3.5.1"
  }
 },
 "nbformat": 4,
 "nbformat_minor": 2
}
