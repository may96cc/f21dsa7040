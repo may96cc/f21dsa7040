{
 "cells": [
  {
   "cell_type": "markdown",
   "metadata": {},
   "source": [
    "# Module 7 - Network Visualization in Python\n",
    "\n",
    "This notebook shows examples of how to plot networks using `networkx` and `matplotlib` libraries."
   ]
  },
  {
   "cell_type": "code",
   "execution_count": null,
   "metadata": {},
   "outputs": [],
   "source": [
    "import networkx as nx\n",
    "\n",
    "import matplotlib.pyplot as plt\n",
    "import pandas as pd\n",
    "%matplotlib inline\n",
    "\n",
    "def draw_graph(graph):\n",
    "\n",
    "    # extract nodes from graph\n",
    "    nodes = set([n1 for n1, n2 in graph] + [n2 for n1, n2 in graph])\n",
    "\n",
    "    # create networkx graph\n",
    "    G=nx.Graph()\n",
    "\n",
    "    # add nodes\n",
    "    for node in nodes:\n",
    "        G.add_node(node)\n",
    "\n",
    "    # add edges\n",
    "    for edge in graph:\n",
    "        G.add_edge(edge[0], edge[1])\n",
    "\n",
    "    # draw graph\n",
    "    pos = nx.shell_layout(G)\n",
    "    nx.draw(G, pos)\n",
    "\n",
    "    # show graph\n",
    "    plt.show()"
   ]
  },
  {
   "cell_type": "code",
   "execution_count": null,
   "metadata": {},
   "outputs": [],
   "source": [
    "# draw example\n",
    "graph = [(20, 21),(21, 22),(22, 23), (23, 24),(24, 25), (25, 20)]\n",
    "draw_graph(graph)"
   ]
  },
  {
   "cell_type": "code",
   "execution_count": null,
   "metadata": {},
   "outputs": [],
   "source": [
    "import networkx as nx\n",
    "\n",
    "import matplotlib.pyplot as plt\n",
    "\n",
    "def draw_network_graph(graph, labels=None, graph_layout='shell',\n",
    "               node_size=1600, node_color='blue', node_alpha=0.3,\n",
    "               node_text_size=14,\n",
    "               edge_color='blue', edge_alpha=0.3, edge_tickness=1,\n",
    "               edge_text_pos=0.3,\n",
    "               text_font='sans-serif'):\n",
    "\n",
    "    # create networkx graph\n",
    "    G=nx.Graph()\n",
    "\n",
    "    # add edges\n",
    "    for edge in graph:\n",
    "        G.add_edge(edge[0], edge[1])\n",
    "\n",
    "    # these are different layouts for the network you may try\n",
    "    if graph_layout == 'spring':\n",
    "        graph_pos=nx.spring_layout(G)\n",
    "    elif graph_layout == 'spectral':\n",
    "        graph_pos=nx.spectral_layout(G)\n",
    "    elif graph_layout == 'random':\n",
    "        graph_pos=nx.random_layout(G)\n",
    "    else:\n",
    "        graph_pos=nx.shell_layout(G)\n",
    "\n",
    "    # draw graph\n",
    "    nx.draw_networkx_nodes(G,graph_pos,node_size=node_size, \n",
    "                           alpha=node_alpha, node_color=node_color)\n",
    "    nx.draw_networkx_edges(G,graph_pos,width=edge_tickness,\n",
    "                           alpha=edge_alpha,edge_color=edge_color)\n",
    "    nx.draw_networkx_labels(G, graph_pos,font_size=node_text_size,\n",
    "                            font_family=text_font)\n",
    "\n",
    "    if labels is None:\n",
    "        labels = range(len(graph))\n",
    "\n",
    "    edge_labels = dict(zip(graph, labels))\n",
    "    nx.draw_networkx_edge_labels(G, graph_pos, edge_labels=edge_labels, \n",
    "                                 label_pos=edge_text_pos)\n",
    "\n",
    "    # show graph\n",
    "    plt.show()"
   ]
  },
  {
   "cell_type": "code",
   "execution_count": null,
   "metadata": {},
   "outputs": [],
   "source": [
    "graph_data = [(0, 1), (1, 5), (1, 7), (4, 5), (4, 8), (1, 6), (3, 7), (5, 9),\n",
    "         (2, 4), (0, 4), (2, 5), (3, 6), (8, 9)]\n",
    "\n",
    "# you may name your edge labels\n",
    "labels = map(chr, range(65, 65+len(graph_data)))\n",
    "#draw_graph(graph, labels)\n",
    "\n",
    "# if edge labels is not specified, numeric labels (0, 1, 2...) will be used\n",
    "draw_network_graph(graph_data)"
   ]
  },
  {
   "cell_type": "markdown",
   "metadata": {},
   "source": [
    "### A Network Plot of Technologies\n",
    "\n",
    "The data team at StackOverFlow was able to get the relationships between different software technologies using tag correlations. Tags are used by developers at StackOverflow on their Developer Stories: how often technology tags at Stack Overflow appear together relative to how often they appear separately. \n",
    "\n",
    "**The data for below plot is obtained from tags from Developer Stories on the StackOverflow online developer community web site.** Data is organized as two tables:\n",
    "\n",
    "**stack_network_links**: contains links of the network, the source and target tech tags, and the value of the the link between each pair.\n",
    "\n",
    "**stack_network_nodes**: contains nodes of the network, the name of each node, which group that node belongs to (calculated via a cluster walktrap), and a node size based on how often that technology tag is used."
   ]
  },
  {
   "cell_type": "code",
   "execution_count": null,
   "metadata": {},
   "outputs": [],
   "source": [
    "import warnings\n",
    "warnings.filterwarnings('ignore')\n",
    "\n",
    "G = nx.Graph(day=\"Stackoverflow\")\n",
    "df_nodes = pd.read_csv('/dsa/data/all_datasets/networks_p/stack_network_nodes.csv')\n",
    "df_edges = pd.read_csv('/dsa/data/all_datasets/networks_p/stack_network_links.csv')"
   ]
  },
  {
   "cell_type": "code",
   "execution_count": null,
   "metadata": {},
   "outputs": [],
   "source": [
    "for index, row in df_nodes.iterrows():\n",
    "    G.add_node(row['name'], group=row['group'], nodesize=2*row['nodesize'])\n",
    "    \n",
    "for index, row in df_edges.iterrows():\n",
    "    G.add_weighted_edges_from([(row['source'], row['target'], row['value'])])\n",
    "    \n",
    "color_map = {1:'#f09494', 2:'#eebcbc', 3:'#72bbd0', 4:'#91f0a1', 5:'#629fff', 6:'#bcc2f2',  \n",
    "             7:'#eebcbc', 8:'#f1f0c0', 9:'#d2ffe7', 10:'#caf3a6', 11:'#ffdf55', 12:'#ef77aa', \n",
    "             13:'#d6dcff', 14:'#d2f5f0'} \n",
    "\n",
    "plt.figure(figsize=(25,25))\n",
    "options = {\n",
    "    'edge_color': '#FFDEA2',\n",
    "    'width': 3,\n",
    "    'with_labels': True,\n",
    "    'font_weight': 'bold',\n",
    "}\n",
    "colors = [color_map[G.node[node]['group']] for node in G]\n",
    "sizes = [G.node[node]['nodesize']*10 for node in G]\n",
    "\n",
    "\"\"\"\n",
    "Using the spring layout : \n",
    "- k controls the distance between the nodes and varies between 0 and 1\n",
    "- iterations is the number of times simulated annealing is run\n",
    "default k=0.1 and iterations=50\n",
    "\"\"\"\n",
    "nx.draw(G, node_color=colors, node_size=sizes, pos=nx.spring_layout(G, k=0.25, iterations=50), **options)\n",
    "ax = plt.gca()\n",
    "ax.collections[0].set_edgecolor(\"#555555\") \n",
    "plt.show()"
   ]
  },
  {
   "cell_type": "code",
   "execution_count": null,
   "metadata": {},
   "outputs": [],
   "source": []
  }
 ],
 "metadata": {
  "kernelspec": {
   "display_name": "Python 3",
   "language": "python",
   "name": "python3"
  },
  "language_info": {
   "codemirror_mode": {
    "name": "ipython",
    "version": 3
   },
   "file_extension": ".py",
   "mimetype": "text/x-python",
   "name": "python",
   "nbconvert_exporter": "python",
   "pygments_lexer": "ipython3",
   "version": "3.7.3"
  }
 },
 "nbformat": 4,
 "nbformat_minor": 2
}
