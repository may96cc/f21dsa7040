{
 "cells": [
  {
   "cell_type": "markdown",
   "metadata": {},
   "source": [
    "## Module 7 - Network Practice\n",
    "\n",
    "In this notebook, we will see how to create network visualizations using `networkD3`. \n",
    "\n",
    "\n",
    "You may have to **rerun** cells to get the network output for networkD3 examples. \n",
    "\n",
    "\n",
    "Here are some references:\n",
    "\n",
    "- [networkD3 reference](https://cran.r-project.org/web/packages/networkD3/networkD3.pdf)\n",
    "\n",
    "- [network data sources](http://www-personal.umich.edu/~mejn/netdata/)\n"
   ]
  },
  {
   "cell_type": "markdown",
   "metadata": {},
   "source": [
    "## networkD3 Library \n",
    "\n",
    "`networkD3` library is an R interface to the **D3 Javascript library**. \n",
    "\n",
    "\n",
    "Let's do similar layouts as in the igraph practice notebook for networkD3. **This library produces interactive graphs, you can click on a node and drag it, for example.** \n",
    "\n",
    "We need two sets of vertices as input to create a graph from them: source vertices, and target vertices. "
   ]
  },
  {
   "cell_type": "code",
   "execution_count": null,
   "metadata": {},
   "outputs": [],
   "source": [
    "library(networkD3)\n",
    "\n",
    "# Create edge data\n",
    "src <- c(\"A\", \"A\", \"A\", \"A\",\n",
    "        \"B\", \"B\", \"C\", \"C\", \"D\")\n",
    "\n",
    "target <- c(\"B\", \"C\", \"D\", \"J\",\n",
    "            \"E\", \"F\", \"G\", \"H\", \"I\")\n",
    "\n",
    "networkData <- data.frame(src, target)\n",
    "\n",
    "# Plot - may need to run twice \n",
    "simpleNetwork(networkData, height=300)"
   ]
  },
  {
   "cell_type": "markdown",
   "metadata": {},
   "source": [
    "**We can also convert the `igraph` graphs to `D3` graphs.**\n"
   ]
  },
  {
   "cell_type": "code",
   "execution_count": null,
   "metadata": {},
   "outputs": [],
   "source": [
    "# Let's recreate the gSA graph from the igraph practice notebook here: \n",
    "\n",
    "adj_matrix <- as.matrix(read.table(\"/dsa/data/all_datasets/networks/SAcountries.txt\",header=FALSE, sep=\" \"))\n",
    "SAnames <- read.csv(\"/dsa/data/all_datasets/networks/SAcountrylist.txt\", header=FALSE)\n",
    "gSA <-  graph_from_adjacency_matrix(adj_matrix, weighted = NULL,  mode = \"undirected\")\n",
    "gSA <- simplify(gSA)\n",
    "gSA <- set_vertex_attr(gSA, \"label\", value= as.vector(SAnames$V1))"
   ]
  },
  {
   "cell_type": "code",
   "execution_count": null,
   "metadata": {},
   "outputs": [],
   "source": [
    "gSA_d3 <- igraph_to_networkD3(gSA)\n"
   ]
  },
  {
   "cell_type": "code",
   "execution_count": null,
   "metadata": {
    "scrolled": false
   },
   "outputs": [],
   "source": [
    "# Create force directed network plot - you can zoom into this graph with mouse \n",
    "\n",
    "forceNetwork(Links = gSA_d3$links, Nodes = gSA_d3$nodes, Source = 'source', Target = 'target', \n",
    "             NodeID = 'name', Group = 'name', height=500, zoom=TRUE, fontSize=20)"
   ]
  },
  {
   "cell_type": "markdown",
   "metadata": {},
   "source": [
    "### IS THIS GRAPH PLANAR ? MOVE THE VERTICES WITH MOUSE TO GET RID OF ALL EDGE CROSSINGS IF YOU CAN.\n",
    "\n",
    "\n",
    "---\n",
    "\n",
    "\n"
   ]
  },
  {
   "cell_type": "markdown",
   "metadata": {},
   "source": [
    "Let's look at a more complex data set. This dataset contains the **co-occurance network of characters in Victor Hugo's novel *Les Misérables*.** \n",
    "\n",
    "\n",
    "**A vertex represents a character**, and an **edge between two vertices shows that these two characters appeared in the same chapter** of the the book. The **weight** of each edge indicates how often such a co-appearance occured."
   ]
  },
  {
   "cell_type": "code",
   "execution_count": null,
   "metadata": {},
   "outputs": [],
   "source": [
    "# This is the Les Miserables data set that comes with the library \n",
    "data(MisLinks)\n",
    "data(MisNodes)"
   ]
  },
  {
   "cell_type": "markdown",
   "metadata": {},
   "source": [
    "Edges (links) have **weights** that are represented by the `value` column in the data frame as below: "
   ]
  },
  {
   "cell_type": "code",
   "execution_count": null,
   "metadata": {},
   "outputs": [],
   "source": [
    "head(MisLinks) # EDGE DATA - has weights "
   ]
  },
  {
   "cell_type": "markdown",
   "metadata": {},
   "source": [
    "Vertices (nodes) have two attributes: `group` and `size`. "
   ]
  },
  {
   "cell_type": "code",
   "execution_count": null,
   "metadata": {},
   "outputs": [],
   "source": [
    "head(MisNodes) # VERTEX DATA - has size and grouping "
   ]
  },
  {
   "cell_type": "markdown",
   "metadata": {},
   "source": [
    "**Can you identify how many different visual channels represent attributes about the data set below?** "
   ]
  },
  {
   "cell_type": "code",
   "execution_count": null,
   "metadata": {},
   "outputs": [],
   "source": [
    "# Plot - Move mouse over VERTICES to see character names \n",
    "\n",
    "forceNetwork(Links = MisLinks, Nodes = MisNodes,\n",
    "            Source = \"source\", Target = \"target\",\n",
    "            Value = \"value\", NodeID = \"name\",\n",
    "            Group = \"group\", opacity = 0.8, height=600, zoom=TRUE, fontSize=30)"
   ]
  },
  {
   "cell_type": "markdown",
   "metadata": {},
   "source": [
    "**Look at [here](https://www.rdocumentation.org/packages/networkD3/versions/0.4/topics/forceNetwork) for all the options you can use with `forceNetwork()` function.**"
   ]
  },
  {
   "cell_type": "markdown",
   "metadata": {},
   "source": [
    "### Here are some links that show alternative visualizations for the same data set: \n",
    " - https://bost.ocks.org/mike/miserables/\n",
    " - https://studentwork.prattsi.org/infovis/labs/character-networks-visualization-for-les-miserables/\n",
    " - https://studentwork.prattsi.org/infovis/visualization/les-miserables-character-network-visualization/"
   ]
  },
  {
   "cell_type": "markdown",
   "metadata": {},
   "source": [
    "### YOUR TURN: \n",
    "\n",
    "**Create an interactive network** for the South America data from above. You'll need to create two data frames similar to the `Mis` example. "
   ]
  },
  {
   "cell_type": "code",
   "execution_count": null,
   "metadata": {},
   "outputs": [],
   "source": [
    "< YOUR CODE HERE >"
   ]
  },
  {
   "cell_type": "markdown",
   "metadata": {},
   "source": [
    "Now, **find neighbors of Bolivia** using the `neighbors()` function. For that, you'll need an `igraph` graph. "
   ]
  },
  {
   "cell_type": "code",
   "execution_count": null,
   "metadata": {},
   "outputs": [],
   "source": [
    "< YOUR CODE HERE >"
   ]
  },
  {
   "cell_type": "markdown",
   "metadata": {},
   "source": [
    "\n",
    "---\n",
    "\n",
    "\n",
    "**We can also read graphs in GML format.** \n",
    "\n",
    "This example contains an undirected social network of frequent associations between 62 dolphins in a community living off Doubtful Sound, New Zealand, as compiled by Lusseau et al. (2003). "
   ]
  },
  {
   "cell_type": "code",
   "execution_count": null,
   "metadata": {},
   "outputs": [],
   "source": [
    "gml_data <- read.graph(\"/dsa/data/all_datasets/networks/dolphins.gml\", format=c(\"gml\"))\n",
    "head(gml_data)"
   ]
  },
  {
   "cell_type": "code",
   "execution_count": null,
   "metadata": {},
   "outputs": [],
   "source": [
    "gml_data <- simplify(gml_data)\n",
    "\n",
    "dol <- igraph_to_networkD3(gml_data)\n",
    "\n",
    "forceNetwork(Links = dol$links, Nodes = dol$nodes, NodeID = \"name\", Group = \"name\", height=600, zoom=TRUE)"
   ]
  },
  {
   "cell_type": "markdown",
   "metadata": {},
   "source": [
    "**With this data set, we can experiment with community detection functions of `igraph` by clustering vertices like this:** "
   ]
  },
  {
   "cell_type": "code",
   "execution_count": null,
   "metadata": {},
   "outputs": [],
   "source": [
    "cfg <- cluster_fast_greedy(as.undirected(gml_data))\n",
    "plot(cfg, gml_data)"
   ]
  },
  {
   "cell_type": "code",
   "execution_count": null,
   "metadata": {},
   "outputs": [],
   "source": [
    "ceb <- cluster_edge_betweenness(gml_data)\n",
    "plot(ceb, gml_data)"
   ]
  },
  {
   "cell_type": "code",
   "execution_count": null,
   "metadata": {},
   "outputs": [],
   "source": [
    "clp <- cluster_label_prop(gml_data)\n",
    "plot(clp, gml_data)"
   ]
  },
  {
   "cell_type": "markdown",
   "metadata": {},
   "source": [
    "### Radial Networks\n",
    "\n",
    "We can also read network data in JSON format like in the example below: "
   ]
  },
  {
   "cell_type": "code",
   "execution_count": null,
   "metadata": {},
   "outputs": [],
   "source": [
    "# example of a radial network given in Javascript's JSON format.\n",
    "library(jsonlite)\n",
    "URL <- \"https://raw.githubusercontent.com/christophergandrud/networkD3/master/JSONdata/flare.json\"\n",
    "\n",
    "## Convert the data to list format\n",
    "Flare <- fromJSON(URL, simplifyDataFrame = FALSE)"
   ]
  },
  {
   "cell_type": "code",
   "execution_count": null,
   "metadata": {},
   "outputs": [],
   "source": [
    "# JSON format\n",
    "Flare"
   ]
  },
  {
   "cell_type": "code",
   "execution_count": null,
   "metadata": {},
   "outputs": [],
   "source": [
    "# Use subset of data for a more readable diagram\n",
    "Flare$children = Flare$children[1:3]\n",
    "\n",
    "radialNetwork(List = Flare, fontSize = 20, opacity = 1, height=600)"
   ]
  },
  {
   "cell_type": "markdown",
   "metadata": {},
   "source": [
    "We can **visualize clusters** with a radial network like this: "
   ]
  },
  {
   "cell_type": "code",
   "execution_count": null,
   "metadata": {},
   "outputs": [],
   "source": [
    "hc <- hclust(dist(USArrests), \"ave\")\n",
    "radialNetwork(as.radialNetwork(hc))"
   ]
  },
  {
   "cell_type": "code",
   "execution_count": null,
   "metadata": {},
   "outputs": [],
   "source": []
  }
 ],
 "metadata": {
  "kernelspec": {
   "display_name": "R",
   "language": "R",
   "name": "ir"
  },
  "language_info": {
   "codemirror_mode": "r",
   "file_extension": ".r",
   "mimetype": "text/x-r-source",
   "name": "R",
   "pygments_lexer": "r",
   "version": "3.5.1"
  }
 },
 "nbformat": 4,
 "nbformat_minor": 2
}
