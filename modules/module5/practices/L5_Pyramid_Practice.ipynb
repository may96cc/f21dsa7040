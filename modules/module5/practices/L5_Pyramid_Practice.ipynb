{
 "cells": [
  {
   "cell_type": "markdown",
   "metadata": {},
   "source": [
    "## Module 5 Practice - Population Pyramids\n",
    "\n",
    "\n",
    "A **population pyramid** is a special type of **bar chart** that shows the distribution of ages or age groups in a specific population. \n",
    "\n",
    "It usually shows gender as part of the pyramid, but can also be augmented with other information such as race, marital status, education level, etc. \n",
    "\n",
    "In this practice, we will see how we can manipulate a **bar chart in ggplot2** by using different components of the **layered grammar** to produce a population pyramid. \n",
    "\n",
    "\n",
    "This type of visualization can also be used for other purposes whenever we want to show **the distribution of a variable among the two values of another variable**. \n",
    "\n",
    "---\n"
   ]
  },
  {
   "cell_type": "markdown",
   "metadata": {},
   "source": [
    "First take a look at simple bar chart and see how we can use the **position adjustment** component to create different types of bar charts. "
   ]
  },
  {
   "cell_type": "code",
   "execution_count": null,
   "metadata": {},
   "outputs": [],
   "source": [
    "library(ggplot2)\n",
    "ggplot(data=diamonds) + geom_bar(mapping=aes(x=cut, fill=cut))"
   ]
  },
  {
   "cell_type": "markdown",
   "metadata": {},
   "source": [
    "**`geom_bar()` geom counts the number of data points that have a particular *cut* and plots them as bars.** \n",
    "\n",
    "Above, color is not really important. We can assign another attribute to the *fill* property. In that case, we'll have a **stacked bar chart** where colors represent that attribute's levels. "
   ]
  },
  {
   "cell_type": "code",
   "execution_count": null,
   "metadata": {},
   "outputs": [],
   "source": [
    "ggplot(data=diamonds) + geom_bar(mapping=aes(x=cut, fill=clarity))"
   ]
  },
  {
   "cell_type": "markdown",
   "metadata": {},
   "source": [
    "**We can control the positioning of the bars by adding a position adjustment component.** \n",
    "\n",
    "`position` can be one of the following: \"`identity`\", \"`stack`\", \"`dodge`\", \"`fill`\", \"`jitter`\".\n",
    "\n",
    "When `position = \"identity\"`, ggplot2 will place each object exactly where it falls in the context of the graph.\n",
    "For the bar chart, this would mean that each bar would start at y = 0 and would appear directly above the cut value that it describes. \n",
    "\n",
    "Since there are eight bars for each value of cut, **many bars would overlap!** It will *look like* a stacked bar chart, but the stacked heights will be **inaccurate**, because each bar starts from `y = 0` and they overlap.\n",
    "\n",
    "`position = \"identity\"` is a good default position adjustment for many geoms such as `geom_point()`, but not very useful for bar chart in general. Later, we will see how to use it sensibly for the population pyramid."
   ]
  },
  {
   "cell_type": "code",
   "execution_count": null,
   "metadata": {},
   "outputs": [],
   "source": [
    "\n",
    "# this is NOT a stacked bar chart!! All colored bars start from ZERO, they are not stacked. \n",
    "\n",
    "ggplot(data = diamonds) + geom_bar(mapping = aes(x = cut, fill = clarity), position = \"identity\")\n"
   ]
  },
  {
   "cell_type": "markdown",
   "metadata": {},
   "source": [
    "To understand better, let's use alpha transparency to see what is going on with `identity` and `stack` position adjustments. \n",
    "\n",
    "Below, you can see how colors get darker as bars are superposed. Compare it to the next plot. "
   ]
  },
  {
   "cell_type": "code",
   "execution_count": null,
   "metadata": {},
   "outputs": [],
   "source": [
    "\n",
    "#All colored bars start from ZERO, they are not stacked.\n",
    "\n",
    "ggplot(data = diamonds) + geom_bar(mapping = aes(x = cut, fill = clarity), position = \"identity\", alpha=0.3)\n"
   ]
  },
  {
   "cell_type": "markdown",
   "metadata": {},
   "source": [
    "Below, the default position adjustment is `stack`. We can see all colors have similar transparency, because they do not superpose. "
   ]
  },
  {
   "cell_type": "code",
   "execution_count": null,
   "metadata": {},
   "outputs": [],
   "source": [
    "ggplot(data=diamonds) + geom_bar(mapping=aes(x=cut, fill=clarity), alpha=0.3)"
   ]
  },
  {
   "cell_type": "markdown",
   "metadata": {},
   "source": [
    "`\"stack\"` position is the **default** for the geom_bar if there is an attribute assigned to **fill**. We can explicitly use it, too. \n"
   ]
  },
  {
   "cell_type": "code",
   "execution_count": null,
   "metadata": {},
   "outputs": [],
   "source": [
    "ggplot(data = diamonds) + geom_bar(mapping = aes(x = cut, fill = clarity), position = \"stack\") "
   ]
  },
  {
   "cell_type": "markdown",
   "metadata": {},
   "source": [
    "If we want to **compare the percentage distribution** of the groups, we can use `fill` position adjustment that will \n",
    "stretch bars to a 100% line and show the distribution.\n",
    "\n",
    "## YOUR TURN: \n",
    "when `position` parameter is \"`fill`\", it creates a bar chart that shows the relative frequencies across groups.\n",
    "\n",
    "**Redo the last plot with `fill` as position parameter.**\n"
   ]
  },
  {
   "cell_type": "code",
   "execution_count": null,
   "metadata": {},
   "outputs": [],
   "source": [
    "\n",
    "< YOUR CODE HERE>"
   ]
  },
  {
   "cell_type": "markdown",
   "metadata": {},
   "source": [
    "---\n",
    "\n",
    "If we want bars next to each other, we use `\"dodge\"`. \n",
    "\n",
    "**Redo the last plot with `\"dodge\"` position adjustment.**\n"
   ]
  },
  {
   "cell_type": "code",
   "execution_count": null,
   "metadata": {},
   "outputs": [],
   "source": [
    "< YOUR CODE HERE>\n"
   ]
  },
  {
   "cell_type": "markdown",
   "metadata": {},
   "source": [
    "\n",
    "---\n",
    "\n",
    "\n",
    "**And finally, we can flip the coordinate system by adding `coord_flip()` to the plot as another component.**\n",
    "\n",
    "**Redo the last plot with flipping the coordinates.** "
   ]
  },
  {
   "cell_type": "code",
   "execution_count": null,
   "metadata": {},
   "outputs": [],
   "source": [
    "< YOUR CODE HERE>\n"
   ]
  },
  {
   "cell_type": "markdown",
   "metadata": {},
   "source": [
    "---\n",
    "\n",
    "We can also change the coordinate system from cartesian to **polar**.\n",
    "\n",
    "**Redo the last plot with addition of the `coord_polar()`.** \n"
   ]
  },
  {
   "cell_type": "code",
   "execution_count": null,
   "metadata": {},
   "outputs": [],
   "source": [
    "< YOUR CODE HERE>\n"
   ]
  },
  {
   "cell_type": "markdown",
   "metadata": {},
   "source": [
    "The plot above uses the x axis for `coord_polar()` by default, we can assign the y axis to the angle of the polar coordinates, too.\n",
    "\n",
    "**Redo the last plot and change the theta parameter of `coord_polar()` to `\"y\"`  (like in the lab).** \n"
   ]
  },
  {
   "cell_type": "code",
   "execution_count": null,
   "metadata": {},
   "outputs": [],
   "source": [
    "< YOUR CODE HERE> + ylim(0,10000)\n"
   ]
  },
  {
   "cell_type": "markdown",
   "metadata": {},
   "source": [
    "---\n",
    "\n",
    "\n",
    "The difference between a bar chart, pie chart, and a coxcomb chart (a.k.a. polar area diagram, or Nightingale rose diagram) according to the modular, layered approach of ggplot is **only the coordinate transformation** that is used on the geom_bar. \n",
    "\n",
    "**Let's see it.**"
   ]
  },
  {
   "cell_type": "code",
   "execution_count": null,
   "metadata": {},
   "outputs": [],
   "source": [
    "# bar chart\n",
    "ggplot(data = diamonds) + geom_bar(mapping = aes(x = cut, fill = cut)) + theme(legend.position=\"none\")"
   ]
  },
  {
   "cell_type": "code",
   "execution_count": null,
   "metadata": {},
   "outputs": [],
   "source": [
    "# pie chart\n",
    "ggplot(data = diamonds) + geom_bar(mapping = aes(x = factor(1), fill = cut), width=1) + coord_polar(theta=\"y\") +\n",
    "theme_void()"
   ]
  },
  {
   "cell_type": "code",
   "execution_count": null,
   "metadata": {},
   "outputs": [],
   "source": [
    "# polar area diagram\n",
    "ggplot(data = diamonds) + geom_bar(mapping = aes(x = cut, fill = cut), width=1) + coord_polar(theta=\"x\") +\n",
    " theme(legend.position=\"none\")"
   ]
  },
  {
   "cell_type": "markdown",
   "metadata": {},
   "source": [
    "\n",
    "---\n",
    "\n",
    "### Population Pyramid\n",
    "\n",
    "**Now that we know how to manipulate the position and the coordinates, let's create a population pyramid.**"
   ]
  },
  {
   "cell_type": "code",
   "execution_count": null,
   "metadata": {},
   "outputs": [],
   "source": [
    "census = read.csv(\"/dsa/data/all_datasets/census/census2010pyr.csv\")\n",
    "head(census)\n",
    "summary(census)"
   ]
  },
  {
   "cell_type": "markdown",
   "metadata": {},
   "source": [
    "First, we start with a bar chart that shows the population for each age.\n",
    "Here, we have to use `identity` stat to draw the actual population number; we are NOT counting the number of different ages."
   ]
  },
  {
   "cell_type": "code",
   "execution_count": null,
   "metadata": {},
   "outputs": [],
   "source": [
    "ggplot(census, aes(x=age, y=pop)) + geom_bar(stat=\"identity\")"
   ]
  },
  {
   "cell_type": "markdown",
   "metadata": {},
   "source": [
    "Now, let's add the sex column as `fill`. \n"
   ]
  },
  {
   "cell_type": "code",
   "execution_count": null,
   "metadata": {},
   "outputs": [],
   "source": [
    "ggplot(census, aes(x=age, y=pop, fill=sex)) + geom_bar(stat=\"identity\") # now, by default they are stacked"
   ]
  },
  {
   "cell_type": "markdown",
   "metadata": {},
   "source": [
    "Now, we want to separate males and females to the different sides of the x axis. \n",
    "\n",
    "Let's create a layer with females only. Here we see an example of how to use a subset of data (it could also be a totally different data set.) \n"
   ]
  },
  {
   "cell_type": "code",
   "execution_count": null,
   "metadata": {},
   "outputs": [],
   "source": [
    "\n",
    "ggplot(census, aes(x=age, y=pop, fill=sex)) + \n",
    "\n",
    "geom_bar(data = subset(census, sex==\"Female\"), stat=\"identity\") "
   ]
  },
  {
   "cell_type": "markdown",
   "metadata": {},
   "source": [
    "#Let's add males to the plot. "
   ]
  },
  {
   "cell_type": "code",
   "execution_count": null,
   "metadata": {},
   "outputs": [],
   "source": [
    "ggplot(census, aes(x=age,y=pop, fill=sex)) + \n",
    "\n",
    "geom_bar(data = subset(census, sex==\"Female\"), stat = \"identity\") +\n",
    "\n",
    "geom_bar(data = subset(census, sex==\"Male\"), stat = \"identity\")"
   ]
  },
  {
   "cell_type": "markdown",
   "metadata": {},
   "source": [
    "### There is overlap! \n",
    "\n",
    "They are NOT stacked, because they are in different geom layers. "
   ]
  },
  {
   "cell_type": "markdown",
   "metadata": {},
   "source": [
    "**We want males on the other side of the axis; we can negate the population numbers to achieve that.**\n"
   ]
  },
  {
   "cell_type": "code",
   "execution_count": null,
   "metadata": {},
   "outputs": [],
   "source": [
    "ggplot(census, aes(x=age,y=pop, fill=sex)) + \n",
    "\n",
    "geom_bar(data = subset(census, sex==\"Female\"), stat = \"identity\") +\n",
    "\n",
    "geom_bar(data = subset(census, sex==\"Male\"), stat = \"identity\", aes(y=-pop))"
   ]
  },
  {
   "cell_type": "markdown",
   "metadata": {},
   "source": [
    "**And finally, let's flip the coordinates, use a better theme, and adjust labels to positive.** "
   ]
  },
  {
   "cell_type": "code",
   "execution_count": null,
   "metadata": {},
   "outputs": [],
   "source": [
    "ggplot(census, aes(x=age,y=pop, fill=sex)) + \n",
    "\n",
    "geom_bar(data = subset(census, sex==\"Female\"), stat = \"identity\") +\n",
    "\n",
    "geom_bar(data = subset(census, sex==\"Male\"), stat = \"identity\", aes(y=-pop)) +\n",
    "\n",
    "coord_flip() +\n",
    "\n",
    "theme_minimal() +\n",
    "\n",
    "scale_y_continuous(labels = abs) +\n",
    "\n",
    "ggtitle(\"U.S. Population (2010 Census)\")\n",
    " "
   ]
  },
  {
   "cell_type": "markdown",
   "metadata": {},
   "source": [
    "This is how a population pyramid looks like. **We achieved that by using different layers and components of the ggplot2. This modular approach makes it easy to create complicated plots by adding layers and manipulating different components of them.** \n",
    "\n",
    "We could also create a pyramid by using plotly like following (you may have to run the cell twice):\n"
   ]
  },
  {
   "cell_type": "code",
   "execution_count": null,
   "metadata": {},
   "outputs": [],
   "source": [
    "library(plotly)\n",
    "library(dplyr)\n",
    "\n",
    "# create another attribute to separate male and female pop into negative and positive values\n",
    "ncensus <- mutate(census, npop=ifelse(sex==\"Male\",-pop,pop))\n",
    "head(ncensus)\n",
    "\n",
    "plot_ly(ncensus, x = ~npop, y = ~age, color =~sex) %>%\n",
    "  add_bars(orientation = \"h\",\n",
    "        hoverinfo = \"y+text+name\", text = ~pop,         \n",
    "        colors = c(\"pink\", \"lightblue\")) %>%\n",
    "  layout(bargap = 0.1, barmode = \"overlay\", \n",
    "         title = \"Population\", \n",
    "         xaxis = list(tickmode = \"array\", \n",
    "                      tickvals = c(-2000000, -1000000, 0, 1000000, 2000000 ),\n",
    "                      ticktext = c(\"2M\", \"1M\", \"0\", \"1M\", \"2M\"), \n",
    "                      title = \"Population\"), \n",
    "         yaxis = list(title = \"Age\"))"
   ]
  },
  {
   "cell_type": "markdown",
   "metadata": {},
   "source": [
    "\n",
    "---\n",
    "\n",
    "**We can use this type of plot for other purposes. Let's see an example where we compute the average life expectancy of continents over countries grouped by whether the life expectancy in that country is less than 65 or not.** "
   ]
  },
  {
   "cell_type": "code",
   "execution_count": null,
   "metadata": {
    "scrolled": true
   },
   "outputs": [],
   "source": [
    "co = read.csv(\"/dsa/data/all_datasets/census/countries.csv\")\n",
    "\n",
    "head(co)"
   ]
  },
  {
   "cell_type": "code",
   "execution_count": null,
   "metadata": {},
   "outputs": [],
   "source": [
    "# we will have a bar plot with continents in x and life expectancy averages in y\n",
    "\n",
    "ggplot(co, aes(x=as.factor(Continent), y=Life.expectancy, fill=Continent)) + \n",
    "\n",
    "# create two subsets by picking countries with >65 or <= 65 and compute the averages of each group per continent \n",
    "geom_bar(data = subset(co, Life.expectancy > 65), stat = \"summary\", fun.y = \"mean\") +\n",
    "geom_bar(data = subset(co, Life.expectancy <= 65), stat = \"summary\", fun.y = \"mean\", aes(y=-Life.expectancy)) +\n",
    "\n",
    "# put a zero line \n",
    "geom_abline(slope=0) +\n",
    "\n",
    "# arrange the tick marks \n",
    "scale_y_continuous(labels = abs, limits=c(-90,90), breaks=seq(-90,90,10)) +\n",
    "\n",
    "# flip the coord system \n",
    "coord_flip() +\n",
    "\n",
    "# make it look nice \n",
    "ylab(\"averages for 65 and younger vs 66 and older\") + xlab(\"Continents\") +\n",
    "theme_minimal() +\n",
    "ggtitle(\"Average Life Expectancy in Continents\") +\n",
    "theme(legend.position=\"none\")"
   ]
  },
  {
   "cell_type": "markdown",
   "metadata": {
    "collapsed": true
   },
   "source": [
    "\n",
    "**In the above plot, left hand side shows the average life expectancy for continents averaged over those countries where life expectancy is less than 65.** Those countries are apparently only in North America, Asia, and Africa. \n",
    "\n",
    "**Right hand side shows the the same averaged over countries with life expectancy more than 65.** "
   ]
  }
 ],
 "metadata": {
  "kernelspec": {
   "display_name": "R",
   "language": "R",
   "name": "ir"
  },
  "language_info": {
   "codemirror_mode": "r",
   "file_extension": ".r",
   "mimetype": "text/x-r-source",
   "name": "R",
   "pygments_lexer": "r",
   "version": "3.5.1"
  }
 },
 "nbformat": 4,
 "nbformat_minor": 2
}
