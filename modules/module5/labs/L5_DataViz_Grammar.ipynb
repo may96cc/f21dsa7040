{
 "cells": [
  {
   "cell_type": "markdown",
   "metadata": {},
   "source": [
    "# Lab 5 - Grammar of Graphics\n",
    "\n",
    "In this lab, we will cover **visualization design analysis** and **grammar of graphics**. \n",
    "\n",
    "\n",
    "We will discuss **data set types** and **levels of design**, and we will see examples of **layered grammar** in ggplot2. For this lab, we will refer to the slides in the file  [L5_DataViz_Grammar.pdf](L5_DataViz_Grammar.pdf)."
   ]
  },
  {
   "cell_type": "markdown",
   "metadata": {},
   "source": [
    "---\n",
    "\n",
    "\n",
    "# Visualization Design Analysis\n",
    "\n",
    "Visualization provides visual representation of datasets designed to help people to carry out tasks more effectively when there is a need to augment human capabilities. \n",
    "\n",
    "\n",
    "Visual representation aims at **replacing cognition with perception** because human visual system is a **high-bandwidth** channel to brain. \n",
    "\n",
    "Visualization designers should take into account resource limitations:\n",
    "\n",
    "* Computational limits\n",
    "\n",
    "\n",
    "* Human limits: attention, memory, visual perception.\n",
    "\n",
    "\n",
    "* Display limits: information density - ratio of space to encode info vs. unused space or clutter.\n",
    "\n",
    "\n",
    "\n",
    "Tamara Munzner suggests a model of visualization design analysis separated into **levels** to answer different questions. This analysis imposes *structure* on a huge design space, and provides a scaffold to think **systematically** about choices. \n",
    "\n",
    "There are four levels answering three questions: \n",
    "\n",
    "* **Domain situation** : **Who** are the target users? \n",
    "\n",
    "* **Abstraction** : **What** type of data is shown (data abstraction)? **Why** is the user looking at it (task abstraction)?\n",
    "\n",
    "* **Idiom** : **How** is the data shown (visual encoding, interaction)? \n",
    "\n",
    "<img src=\"../images/munzner.png\">"
   ]
  },
  {
   "cell_type": "markdown",
   "metadata": {},
   "source": [
    "---\n",
    "\n",
    "### Data Abstraction\n",
    "\n",
    "Munzner talks about **types of datasets** that effect the choice of idioms. These are:\n",
    "\n",
    "* **Tables** : Any n dimensional data with rows and columns.\n",
    "\n",
    "* **Networks** : Items and their relationships, e.g. trees are a special kind of networks that impose hierarchy.\n",
    "\n",
    "* **Fields** : A dataset where each point is a measurement from a continuous domain. \n",
    "    * Spatial fields: structure is based on sampling spatial positions. \n",
    "    * Grid types: sampling is at regular intervals. \n",
    "    \n",
    "* **Geometry** : Shapes of items (lines, curves, regions, volumes) e.g. shape of a state on a map.\n",
    "\n",
    "* **Others** : Clusters, sets, lists, etc.\n",
    "\n",
    "<img src=\"../images/types.png\">"
   ]
  },
  {
   "cell_type": "markdown",
   "metadata": {},
   "source": [
    "---\n",
    "\n",
    "### Task Abstraction\n",
    "\n",
    "It answers the question: **Why visualize** a data set. It considers tasks in abstract form rather than domain-specific way. Tasks consist of actions and targets:\n",
    "\n",
    "* **Actions** :\n",
    "    * Use: consume, produce, enjoy, present, discover, etc.\n",
    "    * Search: lookup, locate, browse, explore\n",
    "    * Query: identify, compare, summarize\n",
    "\n",
    "* **Targets** :\n",
    "    * All data : trends, outliers, features\n",
    "    * Attributes : one - distribution, extremes, value. Many - dependency, correlation, similarity\n",
    "    * Network data : topology, paths\n",
    "    * Spatial data : shape"
   ]
  },
  {
   "cell_type": "markdown",
   "metadata": {},
   "source": [
    "---\n",
    "\n",
    "### Idioms (visual encodings)\n",
    "\n",
    "This design level answers the question of **How the visualization is constructed from a set of design choices**. The idiom structure is a combination of marks and channels. In Munzner's jargon, channels correspond to the **visual variables** (position, size, color, etc.) we have studied previously. Marks are geometric primitives such as points, lines, glyphs, etc. \n",
    "\n",
    "The effectiveness of a channel for encoding data depends on its:\n",
    "\n",
    "* **Type** (perceptual information it conveys such as \"how much\" versus \"what\" or \"where\")\n",
    "\n",
    "* **Expressiveness** e.g. ordered data should be perceived ordered by using the adequate channel.\n",
    "\n",
    "* **Effectiveness** : noticeability of the channel (preattentive processing that we studied before - separability etc.) and visual accuracy of the channel (e.g. Stephen's Power law that we studied before). \n",
    "\n",
    "**At this level of the design, the data is:**\n",
    "\n",
    "* encoded : arrange (express, separate, order, align), map (color, position, size, angle, etc.)\n",
    "\n",
    "* manipulated : change, select, navigate\n",
    "\n",
    "* faceted : juxtapose, partition, superimpose\n",
    "\n",
    "* reduced : filter, aggregate, embed"
   ]
  },
  {
   "cell_type": "markdown",
   "metadata": {},
   "source": [
    "---\n",
    "\n",
    "\n",
    "### Validation\n",
    "\n",
    "There are also four levels of validation in this design process. Validation is required to fix problems at different levels:\n",
    "\n",
    "* **Domain situation** : You misunderstood the need of visualization. Observe and interview the target users. \n",
    "\n",
    "* **Data/task abstraction** : You are showing the wrong thing. Test on users and measure the utility of the design. \n",
    "\n",
    "* **Visual encoding/interaction** : The way you show doesn't work. Test it on users and measure time/error for operation. \n",
    "\n",
    "* **Algorithm** : your code is too slow. Analyze the computational complexity and measure the performance. \n",
    "\n",
    "---\n",
    "\n",
    "---"
   ]
  },
  {
   "cell_type": "markdown",
   "metadata": {},
   "source": [
    "## Examples of Design Analysis (What-How-Why)\n",
    "\n",
    "**Study the following examples** to see how the design analysis accomplishes an efficient visualization for the given data type, corresponding visual channels, and the visual task aimed for.\n",
    "\n",
    "---\n",
    "\n",
    "### Idiom : Scatterplot\n",
    "\n",
    "* **What** : Data\n",
    "    * Data type : table, two quantitative value attributes \n",
    "* **How** : Encoding\n",
    "    * Mark : point\n",
    "    * Channels :\n",
    "        * express value with horizontal spatial position \n",
    "        * express value with vertical spatial position \n",
    "* **Why** : Task\n",
    "    * **Find trends, outliers, distribution correlation**\n",
    "    * **Locate clusters** \n",
    "    \n",
    "<img src=\"../images/scatter.png\">"
   ]
  },
  {
   "cell_type": "markdown",
   "metadata": {},
   "source": [
    "---\n",
    "\n",
    "\n",
    "### Idiom : Bar chart\n",
    "\n",
    "* **What** : Data\n",
    "    * Data type : table, one quantitative value attribute, one categorical key attribute\n",
    "* **How** : Encoding\n",
    "    * Mark : line\n",
    "    * Channels :\n",
    "        * aligned position: express value attribute \n",
    "        * position: key attribute \n",
    "* **Why** : Task\n",
    "    * **Compare quantities** \n",
    "    * **Lookup values, trends**\n",
    "    \n",
    "<img src=\"../images/bar.png\">"
   ]
  },
  {
   "cell_type": "markdown",
   "metadata": {},
   "source": [
    "---\n",
    "\n",
    "\n",
    "#### Idiom : Pie chart\n",
    "\n",
    "* **What** : Data\n",
    "    * Data type : table, one quant value attrib, one categorical attrib\n",
    "* **How** : Encoding\n",
    "    * Mark : area (wedges)\n",
    "    * Channels :\n",
    "        * angle\n",
    "        * radial axis layout\n",
    "* **Why** : Task\n",
    "    * **part-whole relationship, comparison**\n",
    "    \n",
    "<img src=\"../images/pie.png\">"
   ]
  },
  {
   "cell_type": "markdown",
   "metadata": {},
   "source": [
    "---\n",
    "\n",
    "\n",
    "#### Idiom : Topographic terrain map \n",
    "\n",
    "* **What** : Data\n",
    "    * Data type : 2D spatial field (set of isolines)\n",
    "* **How** : Encoding\n",
    "    * Mark : points, lines, areas \n",
    "    * Channels : use given geographic data of points, lines, and areas (marks) and use the derived geometry as line marks\n",
    "* **Why** : Task\n",
    "    * **Query shapes**\n",
    "    \n",
    "<img src=\"../images/topo.png\">"
   ]
  },
  {
   "cell_type": "markdown",
   "metadata": {},
   "source": [
    "---\n",
    "\n",
    "\n",
    "#### Idiom : Force directed tree layout\n",
    "\n",
    "* **What** : Data\n",
    "    * Data type : network\n",
    "* **How** : Encoding\n",
    "    * Mark : point (nodes), connection (links)\n",
    "    * Channels :\n",
    "        * position\n",
    "        * size, color\n",
    "* **Why** : Task\n",
    "    * **Explore topology, locate paths, locate clusters**\n",
    "    \n",
    "<img src=\"../images/graph.png\">"
   ]
  },
  {
   "cell_type": "markdown",
   "metadata": {},
   "source": [
    "---\n",
    "\n",
    "\n",
    "#### Idiom : Treemap\n",
    "\n",
    "* **What** : Data\n",
    "    * Data type : tree (network)\n",
    "* **How** : Encoding\n",
    "    * Mark : area, containment, rectilinear\n",
    "    * Channels :\n",
    "        * position\n",
    "        * size, color\n",
    "* **Why** : Task\n",
    "    * **Query attributes at leaf nodes** \n",
    "    \n",
    "<img src=\"../images/treemap.png\">"
   ]
  },
  {
   "cell_type": "markdown",
   "metadata": {},
   "source": [
    "---\n",
    "\n",
    "\n",
    "#### Idiom : Boxplot \n",
    "\n",
    "* **What** : Data\n",
    "    * Data type : table (n dimensional)\n",
    "    * Derived data : five quantitative attributes (median, lower and upper quartiles, whiskers)\n",
    "* **How** : Encoding\n",
    "    * Mark : point, line, rectilinear\n",
    "    * Channels :\n",
    "        * position, length\n",
    "* **Why** : Task\n",
    "    * **Find distribution**\n",
    "    * **Aggregate items** \n",
    "    \n",
    "<img src=\"../images/boxplot.png\">\n",
    "\n",
    "---"
   ]
  },
  {
   "cell_type": "markdown",
   "metadata": {},
   "source": [
    "### Glyph Design \n",
    "\n",
    "**Glyphs** are symbols to represent multivariate data. A single glyph corresponds to one item in the data set. The **values of the attributes** of the item are **mapped** to the **visual properties of the glyph**. \n",
    "\n",
    "To design an efficient glyph that exploits preattentive processing, we need to understand the **separability of channels** (we have seen this previously).\n",
    "\n",
    "* **Separable channels** : They can be perceived independent of each other (e.g. size and color of a disc).\n",
    "* **Integral channels** : They are perceived holistically (e.g. rectangle where width and height encode different attributes)\n",
    "\n",
    "Separable channels are processed preattentively; integral channels require time-consuming mental processing. The following examples show pairs of channels **from most separable to least separable**. \n",
    "\n",
    "<img src=\"../images/g.png\">\n",
    "\n",
    "**The following visualization is from www.gapminder.org/tools and shows a successfull visual design where position, size, color, and motion channels are encoding different attributes of the data set.** \n",
    "\n",
    "<img src=\"../images/gap.png\">"
   ]
  },
  {
   "cell_type": "markdown",
   "metadata": {},
   "source": [
    "---\n",
    "\n",
    "---\n",
    "\n",
    "# Grammar of Graphics \n",
    "\n",
    "\n",
    "**Grammar of graphics** is an abstraction to make thinking, reasoning, and communicating graphics easier. It was developed by Leland Wilkinson (1999/2005) and was later implemented based on a similar concept by Hadley Wickham as the **ggplot library**.\n",
    "\n",
    "Grammar of graphics concisely **describes the components of a graphic allowing us to move beyond named graphics** (e.g. the \"scatterplot\") and gain insight into the deep structure that underlies the statistical graphics. \n",
    "\n",
    "ggplot makes it possible to define and plot very complex statistical plots in a concise and object oriented way. \n",
    "\n",
    "For example, in grammar of graphics, a scatterplot is composed of \n",
    "    \n",
    "   * representation of observations with points (*geom*)\n",
    "   * linear scaling of x and y axes (*scales*)\n",
    "   * cartesian coordinate system (*coords*)\n",
    "   * conversion of data to physical drawing units (pixels, etc.)\n",
    "   \n",
    "**Components of layered grammar is**\n",
    "\n",
    "  * Data and aesthetic mappings\n",
    "  * Geometric objects\n",
    "  * Scales\n",
    "  * Facet specification\n",
    "  * Statistical transformations\n",
    "  * Coordinate system\n",
    "  \n",
    "For example, a **scatterplot** can be formalized as \n",
    "\n",
    "```(*geom*=point, *stat*=identity, *scale*=linear, *coords*=cartesian)```\n",
    "\n",
    "Similarly, a **histogram** is formalized as \n",
    "\n",
    "```(*geom*=bar, *stat*=bin, *scale*=linear, *coords*=cartesian)```\n",
    "\n",
    "\n",
    "**The layered grammar defines the components of a plot as:**\n",
    "\n",
    "\n",
    "* A default data set and a set of **mappings** from variables to aesthetics\n",
    "\n",
    "\n",
    "* One or more **layers** where each layer has:\n",
    "     * one geometric object (point, line, bar, etc.)\n",
    "     * one statistical transformation\n",
    "     * one position adjustment\n",
    "     * optionally one dataset and a set of aesthetic mappings\n",
    "\n",
    "\n",
    "* One **scale** for each aesthetic mapping \n",
    "\n",
    "\n",
    "* A **coordinate** system\n",
    "\n",
    "\n",
    "* A **facet** specification "
   ]
  },
  {
   "cell_type": "markdown",
   "metadata": {},
   "source": [
    "---\n",
    "\n",
    "**Layers are responsible for creating the objects. A layer has four parts:**\n",
    "\n",
    "* **Data and mapping**\n",
    "    * Independent from the specification of the graphic. Mapping data to aesthetics creates graphic objects. They usually stay the same on a plot, so they are stored as defaults, e.g. in ggplot, `ggplot(data, aes(x= , y= ))`. `aes()` function describes relationship(mapping), it does not supply data.\n",
    "\n",
    "\n",
    "* **Statistical transformation**\n",
    "    * Transforms the data, typically summarizes it in some manner.\n",
    "\n",
    "\n",
    "* **Geometric object**\n",
    "    * Controls the type of plot created. Every geometry has a default statistic (identity, count, etc.) **Geoms** define the basic shape of the elements of the plot. Basic **geoms** are line, polygon, bar, text, point, etc. Composite geoms are boxplot, pointrange, etc. Statistics geoms are histogram, smooth, density, etc.\n",
    "\n",
    "\n",
    "* **Position adjustment**\n",
    "    * Tweaks the position of geometric elements.\n",
    " \n",
    "\n",
    "**Scales** control the mapping from data to aesthetic attributes and control the display of the matching guide (axis or legend). A scale is needed for each aesthetic property used in a layer and these scales are common across layers\n",
    "to ensure a consistent mapping from data to aesthetics within a graphic. \n",
    "\n",
    "ggplot automatically adds default scales as needed, but we will often need to customize. Scales change the names and ranges or limits, they help plotting on non-linear scales, control breaks and spaces on the borders, and manipulate colors for discrete and continuous palettes. **(The name *scale* implies only axis related control, but it is misleading.)**\n",
    "\n",
    "**A coordinate system** maps the position of object onto the plane of the plot.\n",
    "Coordinate systems affect all position variables simultaneously and differ from\n",
    "scales in that they also change the appearance of the geometric object and how the\n",
    "axes and grid lines are drawn. The default coordinate system is Cartesian.\n",
    "\n",
    "**Faceting** describes which variables should be used to split up the data, and how\n",
    "they should be arranged (multiple plots - small multiples or subsets of data). In ggplot it is implemented as `facet_grid` or `facet_wrap`.\n",
    "\n",
    "**Statistics** separate transformation of data from its graphical representation.\n",
    "Some ggplot **geoms** are really statistics in disguise:\n",
    "\n",
    " * geom_histogram = stat_bin + geom_bar\n",
    " * geom_smooth = stat_smooth + geom_ribbon\n",
    " * geom_density = stat_density + geom_ribbon\n",
    " \n",
    "**Some statistics create new variables, e.g. `stat_bin` produces `count` and `density` that can be visualized inside the plot.** An aesthetic can be mapped to one of the new variables such as:\n",
    "\n",
    "    "
   ]
  },
  {
   "cell_type": "code",
   "execution_count": null,
   "metadata": {},
   "outputs": [],
   "source": [
    "library(ggplot2)\n",
    "ggplot(diamonds, aes(x=price)) + geom_histogram(aes(y = ..density..)) + geom_histogram(aes(fill = ..count..))"
   ]
  },
  {
   "cell_type": "markdown",
   "metadata": {},
   "source": [
    "---\n",
    "\n",
    "## Some examples of ggplot idioms are:\n",
    "\n",
    "\n",
    "    \n",
    "**Scatterplot:**\n",
    "\n",
    "(note that color is NOT in aes, so it's not a visual channel.)"
   ]
  },
  {
   "cell_type": "code",
   "execution_count": null,
   "metadata": {},
   "outputs": [],
   "source": [
    "# by default x=carat, y=price\n",
    "ggplot(diamonds, aes(carat, price)) + geom_point(color='blue') "
   ]
  },
  {
   "cell_type": "markdown",
   "metadata": {},
   "source": [
    "**Scatterplot log coordinates with lm fit:**\n"
   ]
  },
  {
   "cell_type": "code",
   "execution_count": null,
   "metadata": {},
   "outputs": [],
   "source": [
    "ggplot(diamonds, aes(carat, price, color=cut)) + \n",
    "geom_point() + \n",
    "stat_smooth(method=lm, color='orange') + \n",
    "scale_x_log10() + scale_y_log10()"
   ]
  },
  {
   "cell_type": "markdown",
   "metadata": {},
   "source": [
    "**Histogram:**\n",
    "\n",
    "There are multiple ways of creating a histogram in ggplot using the layered grammar: \n"
   ]
  },
  {
   "cell_type": "code",
   "execution_count": null,
   "metadata": {},
   "outputs": [],
   "source": [
    "# using the layer()\n",
    "\n",
    "ggplot(data=diamonds, mapping=aes(price)) + layer(geom=\"bar\", stat=\"bin\", mapping=aes(y = ..count..), position=\"identity\")"
   ]
  },
  {
   "cell_type": "code",
   "execution_count": null,
   "metadata": {},
   "outputs": [],
   "source": [
    "# using the specific geom \n",
    "\n",
    "ggplot(diamonds, aes(x=price)) + geom_histogram(aes(y = ..count..))"
   ]
  },
  {
   "cell_type": "code",
   "execution_count": null,
   "metadata": {},
   "outputs": [],
   "source": [
    "# using a combination of geom and statistics \n",
    "\n",
    "ggplot(diamonds, aes(x=price)) + geom_bar() + stat_bin()"
   ]
  },
  {
   "cell_type": "markdown",
   "metadata": {},
   "source": [
    "**Pie Chart:** \n",
    "\n",
    "It is actually a stacked bar chart (`geom_bar`) with a polar coordinate mapping. \n",
    "\n",
    "\n",
    "Try this first: \n",
    "    "
   ]
  },
  {
   "cell_type": "code",
   "execution_count": null,
   "metadata": {},
   "outputs": [],
   "source": [
    "ggplot(diamonds,aes(x=\"\", fill=clarity)) + geom_bar(width=1)"
   ]
  },
  {
   "cell_type": "markdown",
   "metadata": {},
   "source": [
    "Now, change the **coordinate system**:\n"
   ]
  },
  {
   "cell_type": "code",
   "execution_count": null,
   "metadata": {},
   "outputs": [],
   "source": [
    "ggplot(diamonds,aes(x=\"\", fill=clarity)) + geom_bar(width=1) + coord_polar(theta=\"y\")"
   ]
  },
  {
   "cell_type": "code",
   "execution_count": null,
   "metadata": {},
   "outputs": [],
   "source": [
    "# or\n",
    "ggplot(diamonds,aes(x=factor(1), fill=clarity)) + geom_bar(width=1) + coord_polar(theta=\"y\")"
   ]
  },
  {
   "cell_type": "markdown",
   "metadata": {},
   "source": [
    "\n",
    "**[Look at the examples here](https://ggplot2.tidyverse.org/reference/coord_polar.html) to see how many different variants of plots you can come up with by changing the coordinate mapping.**\n",
    "\n",
    "**You can combine geoms, stats, and coordinate systems to create new types of plots using the power of layered grammar in ggplot.**"
   ]
  },
  {
   "cell_type": "markdown",
   "metadata": {},
   "source": [
    "---\n",
    "\n",
    "\n",
    "## List of Geoms in ggplot2\n",
    "\n",
    "<img src=\"../images/visualization-geoms-1.png\">\n",
    "\n",
    "<img src=\"../images/visualization-geoms-2.png\">\n",
    "\n",
    "<img src=\"../images/visualization-geoms-3.png\">\n",
    "\n",
    "<img src=\"../images/visualization-geoms-4.png\">\n",
    "\n",
    "---\n",
    "\n",
    "## List of Stats in ggplot2\n",
    "\n",
    "<img src=\"../images/visualization-stats.png\">\n",
    "\n",
    "---\n",
    "\n",
    "## List of Coords in ggplot2\n",
    "\n",
    "<img src=\"../images/visualization-coordinate-systems.png\">\n",
    "\n",
    "---\n",
    "\n",
    "## List of Themes in ggplot2\n",
    "\n",
    "<img src=\"../images/visualization-themes.png\">\n",
    "\n",
    "\n",
    "---\n"
   ]
  },
  {
   "cell_type": "markdown",
   "metadata": {},
   "source": [
    "# Links\n",
    "\n",
    "\n",
    "* [A Layered Grammar of Graphics by Hadley Wickham](http://vita.had.co.nz/papers/layered-grammar.pdf)\n",
    "*  [R ggplot package](https://cran.r-project.org/web/packages/ggplot2/ggplot2.pdf)"
   ]
  }
 ],
 "metadata": {
  "kernelspec": {
   "display_name": "R",
   "language": "R",
   "name": "ir"
  },
  "language_info": {
   "codemirror_mode": "r",
   "file_extension": ".r",
   "mimetype": "text/x-r-source",
   "name": "R",
   "pygments_lexer": "r",
   "version": "3.5.1"
  }
 },
 "nbformat": 4,
 "nbformat_minor": 2
}
