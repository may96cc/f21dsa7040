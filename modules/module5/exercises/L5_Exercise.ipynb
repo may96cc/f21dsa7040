{
 "cells": [
  {
   "cell_type": "markdown",
   "metadata": {},
   "source": [
    "# Module 5 R Exercise\n",
    "\n",
    "In these exercises, we will use ggplot2 layered approach to create plots similar to the ones in the practice. \n",
    "\n",
    "Let's start with the U.S. Census Bureau population projections."
   ]
  },
  {
   "cell_type": "code",
   "execution_count": null,
   "metadata": {},
   "outputs": [],
   "source": [
    "library(ggplot2)\n",
    "library(RColorBrewer)\n",
    "\n",
    "pproj = read.csv(\"/dsa/data/all_datasets/census/pop_proj.csv\")\n",
    "head(pproj)\n",
    "summary(pproj)\n"
   ]
  },
  {
   "cell_type": "markdown",
   "metadata": {},
   "source": [
    "**This data set has seven age brackets instead of each and every age**. Years show the projection years of the male and female population in the United States, and population is given in 1000s. \n",
    "\n",
    "**Exercise 1:** Create a **bar plot** to show the age bracket distribution of the total population in year **2015**. "
   ]
  },
  {
   "cell_type": "code",
   "execution_count": null,
   "metadata": {},
   "outputs": [],
   "source": [
    "# Remember how to do a bar chart with actual values instead of counts. You should use \"identity\" statistics. \n",
    "\n",
    "ggplot(pproj, aes(<-YOUR CODE HERE->) +\n",
    "geom_bar(data = subset(<-YOUR CODE HERE->), stat=\"identity\") +\n",
    "\n",
    "# this is to order the x axis \n",
    "scale_x_discrete(limits = c(\"Under 5 years\",\"5 to 13 years\",\"14 to 17 years\",\"18 to 24 years\",\"25 to 44 years\", \n",
    "                            \"45 to 64 years\",\"65 years and over\"))"
   ]
  },
  {
   "cell_type": "markdown",
   "metadata": {},
   "source": [
    "**Exercise 2:** Create a **pie chart** for the same data in exercise 1. "
   ]
  },
  {
   "cell_type": "code",
   "execution_count": null,
   "metadata": {},
   "outputs": [],
   "source": [
    "# remember a pie chart really is a STACKED bar chart with a SINGLE (1) bar in a polar coordinate system. \n",
    "\n",
    "# use fill to stack a variable's classes in the bar. \n",
    "ggplot(pproj, aes(<-YOUR CODE HERE->)) + \n",
    "geom_bar(data = subset(<-YOUR CODE HERE->), stat=\"identity\", width=1) +\n",
    "# which coords ? \n",
    "<-YOUR CODE HERE->"
   ]
  },
  {
   "cell_type": "markdown",
   "metadata": {},
   "source": [
    "**Exercise 3:** Create a **pie chart** for similar to above exercise but **only for female population**. "
   ]
  },
  {
   "cell_type": "code",
   "execution_count": null,
   "metadata": {},
   "outputs": [],
   "source": [
    "ggplot(pproj, aes(<-YOUR CODE HERE->)) + \n",
    "geom_bar(data = subset(<-YOUR CODE HERE->)), stat=\"identity\", width=1) +\n",
    "<-YOUR CODE HERE->"
   ]
  },
  {
   "cell_type": "markdown",
   "metadata": {},
   "source": [
    "**Exercise 4:** Create **pie charts of all years** for total population similar to **exercise 2**. **Use faceting**."
   ]
  },
  {
   "cell_type": "code",
   "execution_count": null,
   "metadata": {},
   "outputs": [],
   "source": [
    "ggplot(pproj, aes(<-YOUR CODE HERE->)) + \n",
    "# do not forget to use fill position adjustment, see what happens if you don't. \n",
    "geom_bar(stat=\"identity\", width=1, position=\"fill\") +\n",
    "<-YOUR CODE HERE-> +\n",
    "<-YOUR CODE HERE->"
   ]
  },
  {
   "cell_type": "markdown",
   "metadata": {},
   "source": [
    "**Exercise 5:** Create a **population pyramid for year 2015.** "
   ]
  },
  {
   "cell_type": "code",
   "execution_count": null,
   "metadata": {},
   "outputs": [],
   "source": [
    "# Look at your practice code and figure out how you could adapt it for this. \n",
    "\n",
    "ggplot(pproj, aes(<-YOUR CODE HERE->)) + \n",
    "\n",
    "geom_bar(<-YOUR CODE HERE->) +\n",
    "\n",
    "geom_bar(<-YOUR CODE HERE->) +\n",
    "\n",
    "coord_flip() +\n",
    "\n",
    "# make sure to have ordered axis\n",
    "scale_x_discrete(limits = c(\"Under 5 years\",\"5 to 13 years\",\"14 to 17 years\",\"18 to 24 years\",\"25 to 44 years\", \n",
    "                            \"45 to 64 years\",\"65 years and over\"))"
   ]
  },
  {
   "cell_type": "markdown",
   "metadata": {},
   "source": [
    "**Exercise 6:** Create **four** population pyramids for all years. **Use faceting**.  "
   ]
  },
  {
   "cell_type": "code",
   "execution_count": null,
   "metadata": {},
   "outputs": [],
   "source": [
    "# Look at your practice code and figure out how you could adapt it for this. \n",
    "<-YOUR CODE HERE->"
   ]
  },
  {
   "cell_type": "markdown",
   "metadata": {},
   "source": [
    "**Exercise 7:** Create a **stacked bar chart** to show male and female population projections for **all** years. Hint: year will be encoded by the x position."
   ]
  },
  {
   "cell_type": "code",
   "execution_count": null,
   "metadata": {},
   "outputs": [],
   "source": [
    "ggplot(pproj, aes(<-YOUR CODE HERE->) +\n",
    "geom_bar(<-YOUR CODE HERE->) \n"
   ]
  },
  {
   "cell_type": "markdown",
   "metadata": {},
   "source": [
    "---\n",
    "\n",
    "**Now, we will read another data set: San Francisco population projections from California Open Data Portal. This data has population projections for each age and ethnicity.** \n",
    "\n",
    "**Exercise 8:** Create a **total** population pyramid for year **2015**."
   ]
  },
  {
   "cell_type": "code",
   "execution_count": 1,
   "metadata": {},
   "outputs": [
    {
     "data": {
      "text/html": [
       "<table>\n",
       "<caption>A data.frame: 6 × 6</caption>\n",
       "<thead>\n",
       "\t<tr><th scope=col>Year</th><th scope=col>Race_code</th><th scope=col>Race_name</th><th scope=col>Gender</th><th scope=col>Age</th><th scope=col>Population</th></tr>\n",
       "\t<tr><th scope=col>&lt;int&gt;</th><th scope=col>&lt;int&gt;</th><th scope=col>&lt;fct&gt;</th><th scope=col>&lt;fct&gt;</th><th scope=col>&lt;int&gt;</th><th scope=col>&lt;int&gt;</th></tr>\n",
       "</thead>\n",
       "<tbody>\n",
       "\t<tr><td>2010</td><td>1</td><td>White</td><td>Female</td><td>0</td><td>1579</td></tr>\n",
       "\t<tr><td>2010</td><td>1</td><td>White</td><td>Female</td><td>1</td><td>1358</td></tr>\n",
       "\t<tr><td>2010</td><td>1</td><td>White</td><td>Female</td><td>2</td><td>1212</td></tr>\n",
       "\t<tr><td>2010</td><td>1</td><td>White</td><td>Female</td><td>3</td><td>1083</td></tr>\n",
       "\t<tr><td>2010</td><td>1</td><td>White</td><td>Female</td><td>4</td><td> 997</td></tr>\n",
       "\t<tr><td>2010</td><td>1</td><td>White</td><td>Female</td><td>5</td><td> 913</td></tr>\n",
       "</tbody>\n",
       "</table>\n"
      ],
      "text/latex": [
       "A data.frame: 6 × 6\n",
       "\\begin{tabular}{r|llllll}\n",
       " Year & Race\\_code & Race\\_name & Gender & Age & Population\\\\\n",
       " <int> & <int> & <fct> & <fct> & <int> & <int>\\\\\n",
       "\\hline\n",
       "\t 2010 & 1 & White & Female & 0 & 1579\\\\\n",
       "\t 2010 & 1 & White & Female & 1 & 1358\\\\\n",
       "\t 2010 & 1 & White & Female & 2 & 1212\\\\\n",
       "\t 2010 & 1 & White & Female & 3 & 1083\\\\\n",
       "\t 2010 & 1 & White & Female & 4 &  997\\\\\n",
       "\t 2010 & 1 & White & Female & 5 &  913\\\\\n",
       "\\end{tabular}\n"
      ],
      "text/markdown": [
       "\n",
       "A data.frame: 6 × 6\n",
       "\n",
       "| Year &lt;int&gt; | Race_code &lt;int&gt; | Race_name &lt;fct&gt; | Gender &lt;fct&gt; | Age &lt;int&gt; | Population &lt;int&gt; |\n",
       "|---|---|---|---|---|---|\n",
       "| 2010 | 1 | White | Female | 0 | 1579 |\n",
       "| 2010 | 1 | White | Female | 1 | 1358 |\n",
       "| 2010 | 1 | White | Female | 2 | 1212 |\n",
       "| 2010 | 1 | White | Female | 3 | 1083 |\n",
       "| 2010 | 1 | White | Female | 4 |  997 |\n",
       "| 2010 | 1 | White | Female | 5 |  913 |\n",
       "\n"
      ],
      "text/plain": [
       "  Year Race_code Race_name Gender Age Population\n",
       "1 2010 1         White     Female 0   1579      \n",
       "2 2010 1         White     Female 1   1358      \n",
       "3 2010 1         White     Female 2   1212      \n",
       "4 2010 1         White     Female 3   1083      \n",
       "5 2010 1         White     Female 4    997      \n",
       "6 2010 1         White     Female 5    913      "
      ]
     },
     "metadata": {},
     "output_type": "display_data"
    },
    {
     "data": {
      "text/plain": [
       "      Year        Race_code            Race_name      Gender          Age     \n",
       " Min.   :2010   Min.   :1   American Indian :606   Female:2121   Min.   :  0  \n",
       " 1st Qu.:2010   1st Qu.:2   Asian           :606   Male  :2121   1st Qu.: 25  \n",
       " Median :2015   Median :4   Black           :606                 Median : 50  \n",
       " Mean   :2015   Mean   :4   Hispanic        :606                 Mean   : 50  \n",
       " 3rd Qu.:2020   3rd Qu.:6   Multi-Race      :606                 3rd Qu.: 75  \n",
       " Max.   :2020   Max.   :7   Pacific Islander:606                 Max.   :100  \n",
       "                            White           :606                              \n",
       "   Population    \n",
       " Min.   :   0.0  \n",
       " 1st Qu.:  20.0  \n",
       " Median : 207.0  \n",
       " Mean   : 600.9  \n",
       " 3rd Qu.: 862.8  \n",
       " Max.   :5079.0  \n",
       "                 "
      ]
     },
     "metadata": {},
     "output_type": "display_data"
    }
   ],
   "source": [
    "sfoproj = read.csv(\"/dsa/data/all_datasets/census/SFO_pop_pyr.csv\")\n",
    "head(sfoproj)\n",
    "summary(sfoproj)"
   ]
  },
  {
   "cell_type": "code",
   "execution_count": null,
   "metadata": {},
   "outputs": [],
   "source": [
    "ggplot(sfoproj, aes(<-YOUR CODE HERE->)) + \n",
    "\n",
    "geom_bar(<-YOUR CODE HERE->, width=0.7) +\n",
    "\n",
    "geom_bar(<-YOUR CODE HERE->, width=0.7) +\n",
    "\n",
    "coord_flip()"
   ]
  },
  {
   "cell_type": "markdown",
   "metadata": {},
   "source": [
    "**Exercise 9:** Create a **population pyramid for year 2015, and show ethnicities as stacked bars**. \n",
    "\n",
    "Hint: the only thing you have to change is how the bars will be filled. \n",
    "\n",
    "First, we need to create an \"ordered\" attribute so that both sides of the pyramid are ordered with respect to the order we specify:\n"
   ]
  },
  {
   "cell_type": "code",
   "execution_count": 2,
   "metadata": {},
   "outputs": [],
   "source": [
    "sfoproj <- transform(sfoproj,\n",
    "       Race_name = ordered(Race_name, levels = c(\"White\",\"Asian\",\"Hispanic\",\"Black\",\"American Indian\",\"Pacific Islander\",\"Multi-Race\")))"
   ]
  },
  {
   "cell_type": "markdown",
   "metadata": {},
   "source": [
    "Now, do the pyramid here."
   ]
  },
  {
   "cell_type": "code",
   "execution_count": null,
   "metadata": {},
   "outputs": [],
   "source": [
    "ggplot(sfoproj, aes(<-YOUR CODE HERE->)) + \n",
    "\n",
    "geom_bar(<-YOUR CODE HERE->, width=0.7) +\n",
    "\n",
    "geom_bar(<-YOUR CODE HERE->, width=0.7) +\n",
    "\n",
    "<-YOUR CODE HERE-> +  \n",
    "\n",
    "scale_fill_brewer(palette=\"Set2\")\n",
    " "
   ]
  },
  {
   "cell_type": "markdown",
   "metadata": {},
   "source": [
    "**Exercise 10:** Create **three population pyramids for years 2010, 2015, and 2020**, and show ethnicities as stacked bars. **Use faceting**."
   ]
  },
  {
   "cell_type": "code",
   "execution_count": null,
   "metadata": {},
   "outputs": [],
   "source": [
    "<-YOUR CODE HERE->"
   ]
  }
 ],
 "metadata": {
  "kernelspec": {
   "display_name": "R",
   "language": "R",
   "name": "ir"
  },
  "language_info": {
   "codemirror_mode": "r",
   "file_extension": ".r",
   "mimetype": "text/x-r-source",
   "name": "R",
   "pygments_lexer": "r",
   "version": "3.5.1"
  }
 },
 "nbformat": 4,
 "nbformat_minor": 2
}
