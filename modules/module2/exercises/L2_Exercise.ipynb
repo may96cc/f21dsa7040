{
 "cells": [
  {
   "cell_type": "markdown",
   "metadata": {},
   "source": [
    "# Module 2 Color Exercise\n",
    "\n",
    "**In these exercises, we will create plots with correct and adequate color schemes similar to the lab and practice.** "
   ]
  },
  {
   "cell_type": "code",
   "execution_count": null,
   "metadata": {},
   "outputs": [],
   "source": [
    "library(ggplot2)\n",
    "library(RColorBrewer)\n"
   ]
  },
  {
   "cell_type": "markdown",
   "metadata": {},
   "source": [
    "**Activity 1:** Display colormaps with seven colors from RColorBrewer library for a **sequential** data type with **colorblind safe** colors."
   ]
  },
  {
   "cell_type": "code",
   "execution_count": null,
   "metadata": {},
   "outputs": [],
   "source": [
    "## Your answer for activity 1 goes here ---\n",
    "\n"
   ]
  },
  {
   "cell_type": "markdown",
   "metadata": {},
   "source": [
    "**Activity 2:** Create a **colorblind safe colormap with 100 colors** from the dichromat library, and display their hexadecimal codes."
   ]
  },
  {
   "cell_type": "code",
   "execution_count": null,
   "metadata": {},
   "outputs": [],
   "source": [
    "library(dichromat)\n",
    "## Your answer for activity 2 goes here ---"
   ]
  },
  {
   "cell_type": "markdown",
   "metadata": {},
   "source": [
    "**Activity 3:** Use ellipse library to create an elliptical correlation plot for the diamonds data using carat, price, table, and depth variables. Make sure to use a **colorblind safe, diverging** color scheme. "
   ]
  },
  {
   "cell_type": "code",
   "execution_count": null,
   "metadata": {},
   "outputs": [],
   "source": [
    "library(ellipse)\n",
    "head(diamonds)\n",
    "data=diamonds[,c(\"carat\",\"depth\",\"price\",\"table\")]\n",
    "## Your answer for activity 3 goes here ---\n",
    "\n"
   ]
  },
  {
   "cell_type": "markdown",
   "metadata": {},
   "source": [
    "**Activity 4:** Create a scatter plot using **all** diamonds data for carat vs. price and encode `clarity` variable with a **sequential** color scheme. "
   ]
  },
  {
   "cell_type": "code",
   "execution_count": null,
   "metadata": {},
   "outputs": [],
   "source": [
    "## Your answer for activity 4 goes here ---\n"
   ]
  },
  {
   "cell_type": "markdown",
   "metadata": {},
   "source": [
    "**Activity 5:** Repeat Activity 4 with **alpha transparency**. **Is this a better idea? Discuss your answer.**"
   ]
  },
  {
   "cell_type": "code",
   "execution_count": null,
   "metadata": {},
   "outputs": [],
   "source": [
    "## Your answer for activity 5 goes here ---\n",
    "\n",
    "\n",
    "# hint: geom_point(alpha=0.5)"
   ]
  },
  {
   "cell_type": "markdown",
   "metadata": {},
   "source": [
    "**Activity 6:** Recreate the following plot using `ggplot2` functions and the **mtcars** data set. \n",
    "\n",
    "Hint: you may have to change attribute characteristics, also look at theme functions in `ggplot2`. \n",
    "\n",
    "<img src=\"ex.png\">"
   ]
  },
  {
   "cell_type": "code",
   "execution_count": null,
   "metadata": {},
   "outputs": [],
   "source": [
    "## Your answer for activity 6 goes here ---\n"
   ]
  }
 ],
 "metadata": {
  "kernelspec": {
   "display_name": "R",
   "language": "R",
   "name": "ir"
  },
  "language_info": {
   "codemirror_mode": "r",
   "file_extension": ".r",
   "mimetype": "text/x-r-source",
   "name": "R",
   "pygments_lexer": "r",
   "version": "3.5.1"
  }
 },
 "nbformat": 4,
 "nbformat_minor": 2
}
