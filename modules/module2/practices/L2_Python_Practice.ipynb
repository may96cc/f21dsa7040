{
 "cells": [
  {
   "cell_type": "markdown",
   "metadata": {},
   "source": [
    "# Module 2 Python Practice\n",
    "\n",
    "we will have supplementary python notebooks to see the the python equivalents of the visualizations we implement in R and ggplot2. \n",
    "\n",
    "\n",
    "One of the very useful libraries in Python is `Seaborn`. Let's see how we can use it for our visualizations as well as the `plotnine` library that is a Python implementation of ggplot2. \n",
    "\n",
    "**Run the following code cells and study the outputs to understand how they work.** "
   ]
  },
  {
   "cell_type": "code",
   "execution_count": null,
   "metadata": {},
   "outputs": [],
   "source": [
    "%matplotlib inline\n",
    "import numpy as np\n",
    "import pandas as pd\n",
    "import seaborn as sns\n",
    "import matplotlib.pyplot as plt\n",
    "import plotnine \n",
    "from plotnine.data import mtcars\n",
    "from plotnine import *"
   ]
  },
  {
   "cell_type": "code",
   "execution_count": null,
   "metadata": {},
   "outputs": [],
   "source": [
    "mtcars.head()"
   ]
  },
  {
   "cell_type": "code",
   "execution_count": null,
   "metadata": {},
   "outputs": [],
   "source": [
    "# Let's use the cars data to visualize some aspects of the data set.\n",
    "# Pick some variables\n",
    "# Make a plot to show if there's any visible correlation, use _kws to change color and alpha transparency\n",
    "sns.pairplot(mtcars[['mpg','disp','cyl','hp','drat','wt']])"
   ]
  },
  {
   "cell_type": "markdown",
   "metadata": {},
   "source": [
    "### Try also the following options to play with the output: "
   ]
  },
  {
   "cell_type": "code",
   "execution_count": null,
   "metadata": {},
   "outputs": [],
   "source": [
    "#sns.pairplot(mtcars[['mpg','disp','cyl','hp','drat','wt']], palette = 'Accent', hue=\"cyl\")\n",
    "#sns.pairplot(mtcars[['mpg','disp','cyl','hp','drat','wt']], palette = 'Accent', hue=\"cyl\", diag_kind=\"hist\")\n",
    "#sns.pairplot(mtcars[['mpg','disp','cyl','hp','drat','wt']], plot_kws={'color':'maroon','alpha': 0.8})"
   ]
  },
  {
   "cell_type": "code",
   "execution_count": null,
   "metadata": {},
   "outputs": [],
   "source": [
    "# Drop non-numeric value\n",
    "data = mtcars.drop(['name'], axis=1)\n",
    "# Let's compute all the correlations and look at them \n",
    "data.corr()"
   ]
  },
  {
   "cell_type": "code",
   "execution_count": null,
   "metadata": {},
   "outputs": [],
   "source": [
    "np.abs(np.array(data.corr()))"
   ]
  },
  {
   "cell_type": "markdown",
   "metadata": {},
   "source": [
    "**Not very useful to look at numbers, let's use a visualization with the ellipse library.**\n"
   ]
  },
  {
   "cell_type": "code",
   "execution_count": null,
   "metadata": {},
   "outputs": [],
   "source": [
    "# This represents correlations as ellipses; slope represents sign,\n",
    "# thickness represents strength of correlation: thinner is better\n",
    "\n",
    "# No existing function to plot correlations as ellipses in Python. So implement one using matplotlib.\n",
    "\n",
    "from matplotlib.collections import EllipseCollection\n",
    "\n",
    "def plot_corr_ellipses(data, ax=None, **kwargs):\n",
    "\n",
    "    M = np.array(data)\n",
    "    if not M.ndim == 2:\n",
    "        raise ValueError('data must be a 2D array')\n",
    "    if ax is None:\n",
    "        fig, ax = plt.subplots(1, 1, subplot_kw={'aspect':'equal'})\n",
    "        ax.set_xlim(-0.5, M.shape[1] - 0.5)\n",
    "        ax.set_ylim(-0.5, M.shape[0] - 0.5)\n",
    "\n",
    "    # xy locations of each ellipse center\n",
    "    xy = np.indices(M.shape)[::-1].reshape(2, -1).T\n",
    "\n",
    "    # set the relative sizes of the major/minor axes according to the strength of\n",
    "    # the positive/negative correlation\n",
    "    w = np.ones_like(M).ravel()\n",
    "    h = 1 - np.abs(M).ravel()\n",
    "    a = 45 * np.sign(M).ravel()\n",
    "\n",
    "    ec = EllipseCollection(widths=w, heights=h, angles=a, units='x', offsets=xy,\n",
    "                           transOffset=ax.transData, array=M.ravel(), **kwargs)\n",
    "    ax.add_collection(ec)\n",
    "\n",
    "    # if data is a DataFrame, use the row/column names as tick labels\n",
    "    if isinstance(data, pd.DataFrame):\n",
    "        ax.set_xticks(np.arange(M.shape[1]))\n",
    "        ax.set_xticklabels(data.columns, rotation=90)\n",
    "        ax.set_yticks(np.arange(M.shape[0]))\n",
    "        ax.set_yticklabels(data.index)\n",
    "\n",
    "    return ec"
   ]
  },
  {
   "cell_type": "code",
   "execution_count": null,
   "metadata": {},
   "outputs": [],
   "source": [
    "fig, ax = plt.subplots(1, 1, figsize=(15,13))\n",
    "m = plot_corr_ellipses(data.corr(), ax=ax, cmap='Greens')\n",
    "cb = fig.colorbar(m)\n",
    "cb.set_label('Correlation coefficient')\n",
    "ax.margins(0.1)"
   ]
  },
  {
   "cell_type": "markdown",
   "metadata": {},
   "source": [
    "**Let's look at the plotnine version of some of the R practice notebook examples.**\n"
   ]
  },
  {
   "cell_type": "code",
   "execution_count": null,
   "metadata": {},
   "outputs": [],
   "source": [
    "# get a small sample from diamonds data set \n",
    "from plotnine.data import diamonds\n",
    "\n",
    "dsamp = diamonds.sample(n=1000, random_state=1)\n",
    "dsamp.head()"
   ]
  },
  {
   "cell_type": "code",
   "execution_count": null,
   "metadata": {},
   "outputs": [],
   "source": [
    "# plot carat vs price and encode 'cut' variable with color\n",
    "\n",
    "plotnine.options.figure_size=(8,8) \n",
    "# default color palette \n",
    "gp = ggplot(dsamp, aes(x='carat', y='price', color='cut')) + geom_point()\n",
    "gp"
   ]
  },
  {
   "cell_type": "code",
   "execution_count": null,
   "metadata": {},
   "outputs": [],
   "source": [
    "gp + scale_color_brewer()\n"
   ]
  },
  {
   "cell_type": "code",
   "execution_count": null,
   "metadata": {},
   "outputs": [],
   "source": [
    "# This might be better if we want to emphasize the ideal cut \n",
    "gp + scale_color_brewer(type=\"seq\", palette=3)"
   ]
  },
  {
   "cell_type": "code",
   "execution_count": null,
   "metadata": {},
   "outputs": [],
   "source": [
    "#Again good choice \n",
    "gp + scale_color_brewer(type='seq',palette='Oranges')\n"
   ]
  },
  {
   "cell_type": "code",
   "execution_count": null,
   "metadata": {},
   "outputs": [],
   "source": [
    "# We can also assign colors manually using their hexadecimal codes \n",
    "gp + scale_color_manual(values=[\"#0000FF\", \"#009F00\", \"#56B4E9\", \"#009E73\", \"#FFFFFF\"])\n",
    "\n",
    "\n",
    "# not a very good color scheme"
   ]
  },
  {
   "cell_type": "code",
   "execution_count": null,
   "metadata": {},
   "outputs": [],
   "source": [
    "# Let's create a histogram of carat variable \n",
    "gp2 = ggplot(data=dsamp, mapping = aes(x='carat'))+ geom_histogram(binwidth=0.5, mapping=aes(fill = 'stat(count)'))\n",
    "gp2"
   ]
  },
  {
   "cell_type": "code",
   "execution_count": null,
   "metadata": {},
   "outputs": [],
   "source": [
    "gp2 + scale_fill_gradient(name=\"count\", low=\"blue\", high=\"red\")"
   ]
  },
  {
   "cell_type": "code",
   "execution_count": null,
   "metadata": {},
   "outputs": [],
   "source": [
    "mtcars['cyl'] = mtcars['cyl'].astype(str) # change cyl type from continuous numeric to discrete string\n",
    "gp3 = ggplot(data=mtcars, mapping=aes(x='wt', y='mpg', color='cyl')) + geom_point()\n",
    "gp3"
   ]
  },
  {
   "cell_type": "code",
   "execution_count": null,
   "metadata": {},
   "outputs": [],
   "source": [
    "gp3 +  scale_color_brewer(palette=\"Reds\")"
   ]
  }
 ],
 "metadata": {
  "kernelspec": {
   "display_name": "Python 3",
   "language": "python",
   "name": "python3"
  },
  "language_info": {
   "codemirror_mode": {
    "name": "ipython",
    "version": 3
   },
   "file_extension": ".py",
   "mimetype": "text/x-python",
   "name": "python",
   "nbconvert_exporter": "python",
   "pygments_lexer": "ipython3",
   "version": "3.7.3"
  }
 },
 "nbformat": 4,
 "nbformat_minor": 2
}
