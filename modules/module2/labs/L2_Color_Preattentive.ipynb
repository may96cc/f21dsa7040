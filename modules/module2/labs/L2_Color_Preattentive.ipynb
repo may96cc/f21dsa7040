{
 "cells": [
  {
   "cell_type": "markdown",
   "metadata": {},
   "source": [
    "# Lab 2 - Color and Preattentive Processing\n",
    "\n",
    "This is the second lab where we will cover the fundamentals of preattentive vision and color perception. First we will look at color. For this lab, we will refer to the slides in the file  [L2_DataViz_Color.pdf](L2_DataViz_Color.pdf).\n",
    "\n",
    "## Visual Perception\n",
    "\n",
    "**Understanding human visual perception is the key to create efficient visualizations**. \n",
    "\n",
    "Features that are perceived rapidly (**preattentive processing**) versus features that require **conscious processing** impact the success of the visualization and storytelling. \n",
    "\n",
    "A small set of basic visual properties are processed preattentively; **these include shape, size, color, motion, orientation, and spatial grouping.**\n",
    "\n",
    "Refer to **slide #3** in [L2_DataViz_Preattentive.pdf](L2_DataViz_Preattentive.pdf) for an example of visual properties that *pop out*; that is we notice them immediately. \n",
    "\n",
    "\n",
    "<img src=\"../images/preatt.png\">\n",
    "\n",
    "It is easy for the humans to notice these basic properties **unless** they are combined together like in the example on the bottom right in which case we have to **consciously process the visual input in order to distinguish features.**\n",
    "\n",
    "Efficient visualizations use these basic properties to encode data types with the correct **visual variables** as we will see in the following modules. \n",
    "\n",
    "One of the important aspects of human visual perception is the **ability of perceptual grouping**. Humans tend to group visual items by using a number of grouping principles:\n",
    "\n",
    "* **Grouping by visual proximity**: Items that are spatially close to each other are grouped together. We also group items not only by their proximity, but also by their density. (**slide #4** in [L2_DataViz_Preattentive.pdf](L2_DataViz_Preattentive.pdf))\n",
    "\n",
    "* **Grouping by similarity**: Items that look similar are grouped together. This similarity can be shape, color, or size. (**slide #5** in [L2_DataViz_Preattentive.pdf](L2_DataViz_Preattentive.pdf))\n",
    "\n",
    "* **Grouping by connectedness**: Connectedness is a more powerful organizing principle than proximity, color, size, or shape. Items that are connected to each other by visual elements (such as lines) are grouped together. (**slide #6** in [L2_DataViz_Preattentive.pdf](L2_DataViz_Preattentive.pdf))\n",
    "\n",
    "* **Grouping by area**: Smaller components of a pattern tend to be perceived as an object, whereas larger components are perceived as the background. (**slide #7** in [L2_DataViz_Preattentive.pdf](L2_DataViz_Preattentive.pdf))\n",
    "\n",
    "* **Figure/Ground**: Humans tend to give meaning to recognizable patterns and assume them to be foreground objects (figure) as opposed to background (ground). Equally balanced cues for figure and ground can result in a bistable perception. (**slide #8** in [L2_DataViz_Preattentive.pdf](L2_DataViz_Preattentive.pdf))\n",
    "\n",
    "These grouping principles and the basic visual properties that are perceived preattentively should be considered while creating visualizations. The attention of the user has to be actively directed towards the visual items that carry the message of the visualization without distracting the user by unnecessary visual stimuli. \n",
    "\n",
    "We should design visualizations that are \n",
    "\n",
    "* efficiently perceivable\n",
    "\n",
    "* quick to give a message \n",
    "\n",
    "* unambiguous\n",
    "\n",
    "* discriminating visual variables \n",
    "\n",
    "Color is one of the most important visual properties that is preattentively processed by human visual system. Next, we will look at the color perception and choice of color schemes for visualization. "
   ]
  },
  {
   "cell_type": "markdown",
   "metadata": {},
   "source": [
    "---\n",
    "\n",
    "\n",
    "# Color Perception\n",
    "\n",
    "Humans are trichromats; **they have three types of cone cells** (photoreceptors) in the retina of their eyes that help them to perceive about 10 million colors. Three types of cone cells (L,M,S) roughly correspond to the wavelengths of red (long wavelength), green (mid wavelength), and blue (short wavelength) colors. **Cones are less sensitive to light than rod cells** (photoreceptors). Rod cells help humans to see in darker light (night vision). Rods have less role in color vision which is why humans can't see colors well in low light conditions. \n",
    "\n",
    "\n",
    "## Color Representation\n",
    "\n",
    "Colors can be represented in a number of different ways by choosing a color space and the coordinates of a color in that space. The most common representation is the **RGB color space** where a color is represented by **a triple (R,G,B)** usually in the range of [0,255]. \n",
    "\n",
    "(0,0,0) is black, (255,255,255) is white. \n",
    "\n",
    "RGB is an additive color space. There are other representations such as HSL (hue,saturation, lightness), HSV (hue, saturation, \n",
    "value), and HCL (hue, chroma, luminance). \n",
    "\n",
    "<img src=\"../images/rgb.gif\"> <img src=\"../images/rgb_cube.png\">\n",
    "\n",
    "HSV and HSL are cylindrical versions of RGB. HSV colors are represented by hue, saturation and value. HSL colors are represented by, hue, saturation and lightness, except with different definitions of saturation. In HSL, a color of maximum lightness will always be white, regardless of hue and saturation, while in HSV, a color of maximum value will be the most intense color given the hue and saturation (so pure red is a red hue with maximum saturation and value).\n",
    "\n",
    "<img src=\"../images/hsl_hsv_models.png\">\n",
    "\n",
    "HSV and HSL suffer from RGB's **lack of perceptual uniformity**, so changing one dimension can result in apparent changes in other dimensions. For example, pure green and pure blue have the same saturation and lightness/value, but green appears to be a much lighter color. Gradients interpolated in the HSV or HSL color space are particularly prone to problems like this when they shift between many different hues.\n",
    "\n",
    "**HCL is designed to address deficiencies in these models.** The saturation in HSV and HSL is intended to measure the intensity of colorfulness, but different colors appear to the eye to have different intensity, even when they have the same saturation value according to HSL or HSV. HCL is designed with respect to how human eye perceives colors and is known as **perceptually uniform.**\n",
    "\n",
    "<img src=\"../images/rgb_rainbow.png\">\n",
    "<img src=\"../images/hcl_rainbow.png\">\n",
    "\n",
    "---\n",
    "\n",
    "## Perceptual Distortions in Color\n",
    "\n",
    "\n",
    "* **Simultaneous contrast** \n",
    "\n",
    "Two colors, side by side, interact with one another and change our perception accordingly. The effect of this interaction is called simultaneous contrast. Since we rarely see colors in isolation, simultaneous contrast affects our sense of the color that we see. Refer to **slide #5** in [L2_DataViz_Color.pdf](L2_DataViz_Color.pdf) to see examples of this perceptual distortion.\n",
    "\n",
    "\n",
    "* **Contrast Sensitivity** \n",
    "\n",
    "Human visual perception is more sensitive to changes in luminance. We can perceive the small differences in luminance (e.g. grayscale images) better than those in hue. Refer to **slide #6** in [L2_DataViz_Color.pdf](L2_DataViz_Color.pdf) to see examples of this phenomenon.\n",
    "\n",
    "* **Color Size illusion** \n",
    "\n",
    "Colors have an effect on the perceived size and weight of shapes. For example, red has the highest visual weight, yellow has the least visual weight; using red color can make a shape perceived bigger or more prominent. Refer to **slide #8** in [L2_DataViz_Color.pdf](L2_DataViz_Color.pdf) to see examples of this phenomenon.\n",
    "\n",
    "Take a look at this [list of optical illusions](https://en.wikipedia.org/wiki/List_of_optical_illusions) that contains color illusions as well as other visual illusions for more examples. \n",
    "\n",
    "\n",
    "## Color Blindness \n",
    "\n",
    "There are different types of color blindness depending on the type of affected cones in the retina or shifting of their peak sensitivity. \n",
    "\n",
    "If the vision is based on only **two types of cones**, it is known as **dichromacy.** \n",
    "\n",
    "**About 7% of the male population has one form of color blindness, so it is an important aspect of visualization to choose colorblind safe palettes**. \n",
    "\n",
    "Even though people mistakenly think of color blindness usually as seeing the world in black and white, total color blindness (monochromacy) is very **rare**.\n",
    "\n",
    "Three types of dichromacy; **Protanopia, Deutanopia, and Tritanopia** correspond to the absence of functional L-cones, M-cones, and S-cones, respectively. \n",
    "\n",
    "Refer to **slides #9 and #10** in [L2_DataViz_Color.pdf](L2_DataViz_Color.pdf) to see examples of color perception in color blindness. \n",
    "\n",
    "---\n",
    "\n",
    "\n",
    "## Color Maps\n",
    "\n",
    "A **color map or a color palette** is an ordered collection of colors represented by numeric triples to be used in a particular visualization. \n",
    "\n",
    "The following are examples of colormaps. Top left is known as the Rainbow color map, and is one of the most known color maps despite to a number of problems it creates in visual perception as we will see later. \n",
    "\n",
    "Top right is a grayscale color map; as we discussed, human visual system is more sensitive to grayscale differences, but using this color map can diminish the visual perception of higher values corresponding to the whiter area of the color map. \n",
    "\n",
    "Bottom left is known as the HSL color map (not to be mistaken for the color space), and bottom right is a color palette obtained by changing both luminance and hue components. \n",
    "\n",
    "<img src=\"../images/maps.png\">\n",
    "\n",
    "In this particular example, **worst to best color maps are rainbow, luminance (grayscale), HSL, and the bottom right color map** which has enough detail to show the subtle changes in the surface of the plot, and helps to distinguish peaks easily without creating artificial gradients. \n",
    "\n",
    "**So why is rainbow color map bad?** \n",
    "\n",
    "Refer to **slide #13** in [L2_DataViz_Color.pdf](L2_DataViz_Color.pdf) to examine the effects of rainbow color map.\n",
    "\n",
    "<img src=\"../images/rainbow.png\">\n",
    "\n",
    " - First, it **can't be used for sequential** data that has an inherent order, because the choice of colors don't lend themselves easily to a natural order. \n",
    "\n",
    " - Second, it has lower resolution than, say the grayscale color map; **small changes can't be easily perceived**. \n",
    "\n",
    " - And third, probably most importantly, it creates **artifical gradients that look like jumps in the data** even though the underlying data changes smoothly. \n",
    "\n",
    "\n",
    "So, the rainbow color map is not a good color map unless it is used for qualitative or categorical data. "
   ]
  },
  {
   "cell_type": "markdown",
   "metadata": {},
   "source": [
    "## Color Brewer\n",
    "\n",
    "**[Color Brewer](http://colorbrewer2.org) is a web site that helps to choose color maps for given criteria.** Number of data classes, whether the data is sequential, diverging, or qualitative, colorblind safe, printer friendly, etc. are the criteria you can choose; and it will suggest a good color map to use given your criteria. **Play with this tool to have a grasp before going through the practice notebook.**"
   ]
  },
  {
   "cell_type": "code",
   "execution_count": null,
   "metadata": {},
   "outputs": [],
   "source": [
    "\n",
    "library(ggplot2)\n",
    "\n",
    "# Get color palettes from Color Brewer\n",
    "library(RColorBrewer)\n",
    "\n",
    "# display the diverging palette named \"BrBG\" with eight colors \n",
    "display.brewer.pal(n=8, name='BrBG')"
   ]
  },
  {
   "cell_type": "code",
   "execution_count": null,
   "metadata": {},
   "outputs": [],
   "source": [
    "# explore all the palettes available \n",
    "display.brewer.all()"
   ]
  },
  {
   "cell_type": "markdown",
   "metadata": {},
   "source": [
    "## Choosing Color Maps\n",
    "\n",
    "When we choose a color map for the visualization of a particular data set, we need to keep in mind the above discussed issues as well as the **type of data attribute we want to visualize**.\n",
    "\n",
    "**It is extremely important to choose the right color scheme for the data attributes you want to visualize.** \n",
    "\n",
    "### 1- Qualitative color schemes:\n",
    "\n",
    "\n",
    "Qualitative color schemes use differences in hue to represent nominal differences.\n",
    "If we want to visualize **categorical/qualitative data** such as classes of **things that do not require numbering or do not have inherent ordering** (types of fruits: apples, oranges, bananas, etc. or types of vehicles: trucks, cars, bicycles, etc.) we should choose a qualitative color scheme with distinct hues, and **not** shades of the same color that could suggest an inherent order in the data. "
   ]
  },
  {
   "cell_type": "code",
   "execution_count": null,
   "metadata": {},
   "outputs": [],
   "source": [
    "# You can also find out the hexadecimal codes of colors like this:\n",
    "\n",
    "display.brewer.pal(n = 5, name = 'Dark2')\n",
    "brewer.pal(n = 5, name = 'Dark2')\n"
   ]
  },
  {
   "cell_type": "markdown",
   "metadata": {},
   "source": [
    "###  2- Sequential color schemes:\n",
    "\n",
    "\n",
    "If the data we want to visualize is **numeric and inherently sequential**, we use sequential color schemes (below is from **slide #11** in [L2_DataViz_Color.pdf](L2_DataViz_Color.pdf) showing examples of sequential color schemes). \n",
    "\n",
    "<img src=\"../images/seq.png\">\n",
    "\n",
    "**Sequential data is logically ordered**, and it can be continuous or it can have a stepped sequence. Depending on the data set, **low data values can be represented by light colors and high values represented by dark colors** (e.g. visualization of population density on a map). Transitions between hues may be also used in a sequential scheme, but the light-to-dark progression should dominate the scheme. Other data sets may require the opposite; low values being assigned to darker shades. \n",
    "\n",
    "Below is an example of a **choropleth map** that uses a sequential color scheme:\n",
    "\n",
    "<img src=\"../images/choro.png\">"
   ]
  },
  {
   "cell_type": "code",
   "execution_count": null,
   "metadata": {},
   "outputs": [],
   "source": [
    "# display the sequential palette named \"Reds\" with ten colors \n",
    "display.brewer.pal(n=9, name='Reds')"
   ]
  },
  {
   "cell_type": "markdown",
   "metadata": {},
   "source": [
    "### 3- Diverging color schemes:\n",
    "\n",
    "\n",
    "Diverging color schemes allow the emphasis of a quantitative data display to be **progressions outward from a critical midpoint of the data range (such as negative and positive values of population growth for example).** A typical diverging scheme pairs sequential schemes based on **two different hues so that they diverge from a shared light color**, for the critical midpoint, toward dark colors of different hues at each extreme. \n",
    "\n",
    "Any kind of percent change (both positive and negative) on a choroplethmap is a good example of using this type of color scheme as shown below:\n",
    "\n",
    "\n",
    "<img src=\"../images/divex.png\">\n",
    "\n",
    "---\n",
    "\n",
    "**Let's see how we use this palettes in ggplot2.** "
   ]
  },
  {
   "cell_type": "code",
   "execution_count": null,
   "metadata": {},
   "outputs": [],
   "source": [
    "# First, use default colors: \n",
    "g <- ggplot(iris, aes(Sepal.Length, Sepal.Width)) + \n",
    "  geom_point(aes(color = Species))\n",
    " \n",
    "g"
   ]
  },
  {
   "cell_type": "markdown",
   "metadata": {},
   "source": [
    "**Now, choose a palette from Brewer: note that it is a QUALITATIVE color scheme because we are displaying CATEGORIES.** \n"
   ]
  },
  {
   "cell_type": "code",
   "execution_count": null,
   "metadata": {},
   "outputs": [],
   "source": [
    "g +  scale_color_brewer(palette = \"Dark2\")"
   ]
  },
  {
   "cell_type": "markdown",
   "metadata": {},
   "source": [
    "If what you are plotting is **not a scatter plot of points or lines, then use scale_fill_brewer**:\n"
   ]
  },
  {
   "cell_type": "code",
   "execution_count": null,
   "metadata": {},
   "outputs": [],
   "source": [
    "g2 <- ggplot(iris, aes(Species, Sepal.Length)) + \n",
    "  geom_boxplot(aes(fill = Species)) + scale_fill_brewer(palette = \"Dark2\")\n",
    "\n",
    "g2"
   ]
  },
  {
   "cell_type": "markdown",
   "metadata": {},
   "source": [
    "And finally, it also helps knowing [what different colors mean in different cultures](../images/culture.png). \n",
    "\n",
    "**The following shows how to use Color Brewer palettes in R:**"
   ]
  },
  {
   "cell_type": "markdown",
   "metadata": {},
   "source": [
    "# Dig Deeper Reading\n",
    "\n",
    "These are good reads to dig deeper into the choice of color for visualization and understanding color spaces. \n",
    "\n",
    "* [HCL-Based Color Palettes in R](https://cran.r-project.org/web/packages/colorspace/vignettes/hcl-colors.pdf)\n",
    "\n",
    "* [Escaping RGBland: Selecting Colors for Statistical Graphics](http://statmath.wu.ac.at/~zeileis/papers/Zeileis+Hornik+Murrell-2009.pdf)\n",
    "\n",
    "* [Frequently Asked Questions about Color](http://www.poynton.com/PDFs/ColorFAQ.pdf)\n",
    "\n",
    "\n"
   ]
  }
 ],
 "metadata": {
  "kernelspec": {
   "display_name": "R",
   "language": "R",
   "name": "ir"
  },
  "language_info": {
   "codemirror_mode": "r",
   "file_extension": ".r",
   "mimetype": "text/x-r-source",
   "name": "R",
   "pygments_lexer": "r",
   "version": "3.5.1"
  }
 },
 "nbformat": 4,
 "nbformat_minor": 2
}
